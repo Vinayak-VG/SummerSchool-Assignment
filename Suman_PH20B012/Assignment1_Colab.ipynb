{
  "nbformat": 4,
  "nbformat_minor": 0,
  "metadata": {
    "colab": {
      "name": "Assignment1_Colab.ipynb",
      "provenance": [],
      "authorship_tag": "ABX9TyPK5tLOea9ULXLbbq7srPRm",
      "include_colab_link": true
    },
    "kernelspec": {
      "name": "python3",
      "display_name": "Python 3"
    },
    "language_info": {
      "name": "python"
    }
  },
  "cells": [
    {
      "cell_type": "markdown",
      "metadata": {
        "id": "view-in-github",
        "colab_type": "text"
      },
      "source": [
        "<a href=\"https://colab.research.google.com/github/Suman-Vasireddy/SummerSchool-Assignment/blob/Suman_PH20B012/Suman_PH20B012/Assignment1_Colab.ipynb\" target=\"_parent\"><img src=\"https://colab.research.google.com/assets/colab-badge.svg\" alt=\"Open In Colab\"/></a>"
      ]
    },
    {
      "cell_type": "markdown",
      "metadata": {
        "id": "Ck5fyJN8RilQ"
      },
      "source": [
        "### Question 1"
      ]
    },
    {
      "cell_type": "code",
      "metadata": {
        "id": "q3AP6AH6RcQ0"
      },
      "source": [
        "import numpy as np\n",
        "y=np.random.randint(0,2,size=100)\n",
        "y_cap=np.random.rand(100)"
      ],
      "execution_count": null,
      "outputs": []
    },
    {
      "cell_type": "code",
      "metadata": {
        "colab": {
          "base_uri": "https://localhost:8080/"
        },
        "id": "jP57zeJrR8o3",
        "outputId": "20c2f42c-ca72-4e2c-ffe0-54dea2f43337"
      },
      "source": [
        "def O(a,b):\n",
        "    if len(a)==len(b):\n",
        "        z=-1/len(a)*np.sum(a*np.log2(b)+(1-a)*np.log2(1-b))\n",
        "        return z\n",
        "    else: print(\"Error:Both arrays should be of same dimesnion\")\n",
        "\n",
        "O(y,y_cap)"
      ],
      "execution_count": null,
      "outputs": [
        {
          "output_type": "execute_result",
          "data": {
            "text/plain": [
              "1.6438906679762213"
            ]
          },
          "metadata": {
            "tags": []
          },
          "execution_count": 2
        }
      ]
    },
    {
      "cell_type": "markdown",
      "metadata": {
        "id": "xCCzzWFeSQ21"
      },
      "source": [
        "### Question 2"
      ]
    },
    {
      "cell_type": "code",
      "metadata": {
        "id": "2DcpwioiSH_c"
      },
      "source": [
        "class Sum_Constituents:\n",
        "    \n",
        "    \n",
        "    def find_pair(self,array,target):\n",
        "        output_dict={}\n",
        "        k=1\n",
        "        for i in range(len(array)):\n",
        "            for j in range(len(array)):\n",
        "                if array[i]+array[j]==target:\n",
        "                    output_dict[k]=[i,j]\n",
        "                    k=k+1\n",
        "        return output_dict"
      ],
      "execution_count": null,
      "outputs": []
    },
    {
      "cell_type": "code",
      "metadata": {
        "id": "AlbI4WAaSdSL",
        "colab": {
          "base_uri": "https://localhost:8080/"
        },
        "outputId": "3d056b5b-3346-463e-fb2e-9cb5632b9f91"
      },
      "source": [
        "# Given example\n",
        "arr1=[10,20,10,40,50,60,70]\n",
        "t1=50\n",
        "ans=Sum_Constituents()\n",
        "ans.find_pair(arr1,t1)"
      ],
      "execution_count": null,
      "outputs": [
        {
          "output_type": "execute_result",
          "data": {
            "text/plain": [
              "{1: [0, 3], 2: [2, 3], 3: [3, 0], 4: [3, 2]}"
            ]
          },
          "metadata": {
            "tags": []
          },
          "execution_count": 4
        }
      ]
    },
    {
      "cell_type": "code",
      "metadata": {
        "id": "00flAhUzSgce"
      },
      "source": [
        ""
      ],
      "execution_count": null,
      "outputs": []
    }
  ]
}