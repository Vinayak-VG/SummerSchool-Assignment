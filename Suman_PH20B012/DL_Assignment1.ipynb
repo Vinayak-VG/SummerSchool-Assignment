{
 "cells": [
  {
   "cell_type": "markdown",
   "id": "6372baa1-20a4-43b8-902a-4dffc3bee135",
   "metadata": {},
   "source": [
    "# Question 1."
   ]
  },
  {
   "cell_type": "code",
   "execution_count": 54,
   "id": "9232933e-804a-4d4f-8423-f00d4cb29145",
   "metadata": {},
   "outputs": [],
   "source": [
    "import numpy as np\n",
    "y=np.random.randint(0,2,size=100)\n",
    "y_cap=np.random.rand(100)"
   ]
  },
  {
   "cell_type": "code",
   "execution_count": 55,
   "id": "bbf071dc-98ad-4988-ab2e-95508bb52b34",
   "metadata": {},
   "outputs": [
    {
     "data": {
      "text/plain": [
       "1.4945237836884695"
      ]
     },
     "execution_count": 55,
     "metadata": {},
     "output_type": "execute_result"
    }
   ],
   "source": [
    "def O(a,b):\n",
    "    if len(a)==len(b):\n",
    "        z=-1/len(a)*np.sum(a*np.log2(b)+(1-a)*np.log2(1-b))\n",
    "        return z\n",
    "    else: print(\"Error:Both arrays should be of same dimesnion\")\n",
    "\n",
    "O(y,y_cap)"
   ]
  },
  {
   "cell_type": "markdown",
   "id": "017f9ffa-49ba-4e56-8b76-8077b719aa81",
   "metadata": {},
   "source": [
    "# Question 2."
   ]
  },
  {
   "cell_type": "code",
   "execution_count": 50,
   "id": "77ad280a-1fc5-419f-ad9a-986ba150ea17",
   "metadata": {},
   "outputs": [],
   "source": [
    "class Sum_Constituents:\n",
    "    \n",
    "    \n",
    "    def find_pair(self,array,target):\n",
    "        output_dict={}\n",
    "        k=1\n",
    "        for i in range(len(array)):\n",
    "            for j in range(len(array)):\n",
    "                if array[i]+array[j]==target:\n",
    "                    output_dict[k]=[i,j]\n",
    "                    k=k+1\n",
    "        return output_dict"
   ]
  },
  {
   "cell_type": "code",
   "execution_count": 51,
   "id": "b6bb5aed-1a9a-4b95-b9cc-a6c002d2a151",
   "metadata": {},
   "outputs": [
    {
     "data": {
      "text/plain": [
       "{1: [0, 3], 2: [2, 3], 3: [3, 0], 4: [3, 2]}"
      ]
     },
     "execution_count": 51,
     "metadata": {},
     "output_type": "execute_result"
    }
   ],
   "source": [
    "# Given example\n",
    "arr1=[10,20,10,40,50,60,70]\n",
    "t1=50\n",
    "ans=Sum_Constituents()\n",
    "ans.find_pair(arr1,t1)"
   ]
  },
  {
   "cell_type": "code",
   "execution_count": null,
   "id": "70e664d8-cfab-467d-8fed-058cccd8b551",
   "metadata": {},
   "outputs": [],
   "source": []
  }
 ],
 "metadata": {
  "kernelspec": {
   "display_name": "Python 3",
   "language": "python",
   "name": "python3"
  },
  "language_info": {
   "codemirror_mode": {
    "name": "ipython",
    "version": 3
   },
   "file_extension": ".py",
   "mimetype": "text/x-python",
   "name": "python",
   "nbconvert_exporter": "python",
   "pygments_lexer": "ipython3",
   "version": "3.8.8"
  }
 },
 "nbformat": 4,
 "nbformat_minor": 5
}
