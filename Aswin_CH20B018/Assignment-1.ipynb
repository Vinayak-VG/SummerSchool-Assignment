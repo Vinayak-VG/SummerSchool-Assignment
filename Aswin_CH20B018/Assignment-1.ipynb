{
 "cells": [
  {
   "cell_type": "code",
   "execution_count": 88,
   "metadata": {},
   "outputs": [
    {
     "name": "stdout",
     "output_type": "stream",
     "text": [
      "Enter the number of elements in array: 5\n",
      "The value returned by the operation is: 1.408412378128403\n"
     ]
    }
   ],
   "source": [
    "import numpy as np\n",
    "import math \n",
    "\n",
    "n = int(input('Enter the number of elements in array: '))\n",
    "\n",
    "y1 = np.random.rand(n)\n",
    "\n",
    "y2 = np.random.randint(0, 2, n)\n",
    "\n",
    "sum = 0\n",
    "for i in range (0, n):\n",
    "        sum += y2[i] * math.log(y1[i], 2) + (1 - y2[i]) * math.log((1 - y1[i]), 2)\n",
    "\n",
    "O = - sum / 5\n",
    "print('The value returned by the operation is:', O)"
   ]
  },
  {
   "cell_type": "code",
   "execution_count": 91,
   "metadata": {},
   "outputs": [
    {
     "name": "stdout",
     "output_type": "stream",
     "text": [
      "{1: [0, 3], 2: [2, 3], 3: [3, 0], 4: [3, 2]}\n"
     ]
    }
   ],
   "source": [
    "arr = [10,20,10,40,50,60,70]\n",
    "final = {}\n",
    "t = 50\n",
    "i = 1\n",
    "for x in range(0, len(arr)):\n",
    "    for y in range(0, len(arr)):\n",
    "        if ( arr[x]+arr[y] == t) :\n",
    "            final[i] = [x, y]\n",
    "            i = i+1\n",
    "            \n",
    "print(final)"
   ]
  }
 ],
 "metadata": {
  "kernelspec": {
   "display_name": "Python 3",
   "language": "python",
   "name": "python3"
  },
  "language_info": {
   "codemirror_mode": {
    "name": "ipython",
    "version": 3
   },
   "file_extension": ".py",
   "mimetype": "text/x-python",
   "name": "python",
   "nbconvert_exporter": "python",
   "pygments_lexer": "ipython3",
   "version": "3.8.3"
  }
 },
 "nbformat": 4,
 "nbformat_minor": 4
}
