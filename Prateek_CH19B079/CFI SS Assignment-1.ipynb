{
  "nbformat": 4,
  "nbformat_minor": 0,
  "metadata": {
    "colab": {
      "name": "Untitled0.ipynb",
      "provenance": []
    },
    "kernelspec": {
      "name": "python3",
      "display_name": "Python 3"
    },
    "language_info": {
      "name": "python"
    }
  },
  "cells": [
    {
      "cell_type": "markdown",
      "metadata": {
        "id": "trb3P-vpUA5u"
      },
      "source": [
        "Cross-Entropy loss function:"
      ]
    },
    {
      "cell_type": "code",
      "metadata": {
        "colab": {
          "base_uri": "https://localhost:8080/"
        },
        "id": "mjTwYliMSg4Y",
        "outputId": "e5ec8a75-9ce7-4572-a521-728bcbf6352a"
      },
      "source": [
        "import numpy as np\n",
        "\n",
        "n=100\n",
        "y_hat = np.random.rand(n)\n",
        "y = np.ones(n)\n",
        "\n",
        "O = (-1/n)*sum(y*np.log2(y_hat)+(1-y)*np.log2(1-y_hat))\n",
        "print(y, y_hat, O)"
      ],
      "execution_count": 13,
      "outputs": [
        {
          "output_type": "stream",
          "text": [
            "[1. 1. 1. 1. 1. 1. 1. 1. 1. 1. 1. 1. 1. 1. 1. 1. 1. 1. 1. 1. 1. 1. 1. 1.\n",
            " 1. 1. 1. 1. 1. 1. 1. 1. 1. 1. 1. 1. 1. 1. 1. 1. 1. 1. 1. 1. 1. 1. 1. 1.\n",
            " 1. 1. 1. 1. 1. 1. 1. 1. 1. 1. 1. 1. 1. 1. 1. 1. 1. 1. 1. 1. 1. 1. 1. 1.\n",
            " 1. 1. 1. 1. 1. 1. 1. 1. 1. 1. 1. 1. 1. 1. 1. 1. 1. 1. 1. 1. 1. 1. 1. 1.\n",
            " 1. 1. 1. 1.] [0.37822844 0.62087485 0.04068976 0.03305634 0.96219829 0.25721163\n",
            " 0.4441548  0.30047703 0.17908148 0.01304865 0.04132923 0.46671897\n",
            " 0.25043205 0.10283859 0.80959285 0.06465541 0.54684675 0.47324157\n",
            " 0.30091939 0.47000019 0.56077852 0.57830776 0.85524039 0.14814364\n",
            " 0.32477225 0.32106798 0.92274817 0.93093103 0.63530103 0.13886389\n",
            " 0.87283679 0.44998959 0.81947336 0.10911526 0.13922374 0.07424546\n",
            " 0.30655992 0.39360555 0.64810435 0.08868236 0.81594239 0.85938705\n",
            " 0.39758294 0.74368948 0.49341583 0.78023739 0.87080206 0.76479128\n",
            " 0.14220941 0.00610237 0.60179847 0.09400497 0.62396796 0.61936132\n",
            " 0.43231003 0.41107177 0.09673217 0.9339242  0.08041343 0.3157105\n",
            " 0.81631493 0.54220395 0.13398585 0.64602481 0.26312784 0.24389203\n",
            " 0.60153281 0.81590678 0.52473432 0.71615889 0.4321203  0.12233904\n",
            " 0.7239622  0.48854194 0.21331496 0.40925441 0.54630008 0.96863305\n",
            " 0.69728132 0.70261109 0.72015789 0.87835493 0.62655416 0.03644462\n",
            " 0.92824333 0.21483748 0.61680926 0.09678508 0.93130372 0.46605022\n",
            " 0.99769221 0.71810198 0.58518518 0.58634694 0.90736507 0.59421567\n",
            " 0.56140163 0.49326152 0.88044448 0.66752286] 1.4821844017959813\n"
          ],
          "name": "stdout"
        }
      ]
    },
    {
      "cell_type": "markdown",
      "metadata": {
        "id": "mm5fTM9FT-gP"
      },
      "source": [
        "Class to find matching pairs:"
      ]
    },
    {
      "cell_type": "code",
      "metadata": {
        "colab": {
          "base_uri": "https://localhost:8080/"
        },
        "id": "91DFREDuhwaS",
        "outputId": "3e566969-1b82-4a14-e703-23154b0226e0"
      },
      "source": [
        "#Class Initiation:\n",
        "class FindPairs:\n",
        "  n=0\n",
        "  arr=[]\n",
        "  res=dict()\n",
        "  res_size=0\n",
        "\n",
        "  def __init__(self, n, arr):\n",
        "    self.arr = arr\n",
        "    self.n=n\n",
        "\n",
        "  def FindIt(self, target):\n",
        "    for i in range(n):\n",
        "      for j in range(i,n):\n",
        "        if self.arr[i]+self.arr[j] == target:\n",
        "          self.appendFunc([arr[i],arr[j]])\n",
        "    return self.res\n",
        "  \n",
        "  def appendFunc(self, appendList):\n",
        "    self.res_size+=1\n",
        "    self.res[self.res_size]=appendList\n",
        "\n",
        "#Driver Code:\n",
        "target = int(input(\"Target = \"))\n",
        "n = int(input(\"n =\"))\n",
        "arr = list(range(n))\n",
        "\n",
        "for i in range(n):\n",
        "  arr[i]=int(input())\n",
        "\n",
        "obj = FindPairs(n, arr)\n",
        "res = obj.FindIt(target)\n",
        "print(res)"
      ],
      "execution_count": 28,
      "outputs": [
        {
          "output_type": "stream",
          "text": [
            "Target = 9\n",
            "n =5\n",
            "4\n",
            "7\n",
            "5\n",
            "2\n",
            "69\n",
            "{1: [4, 5], 2: [7, 2]}\n"
          ],
          "name": "stdout"
        }
      ]
    }
  ]
}