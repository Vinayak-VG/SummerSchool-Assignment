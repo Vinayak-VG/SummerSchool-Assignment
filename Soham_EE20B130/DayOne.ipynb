{
 "metadata": {
  "language_info": {
   "codemirror_mode": {
    "name": "ipython",
    "version": 3
   },
   "file_extension": ".py",
   "mimetype": "text/x-python",
   "name": "python",
   "nbconvert_exporter": "python",
   "pygments_lexer": "ipython3",
   "version": "3.9.5"
  },
  "orig_nbformat": 4,
  "kernelspec": {
   "name": "python3",
   "display_name": "Python 3.9.5 64-bit ('env': venv)"
  },
  "interpreter": {
   "hash": "54fbd7859a5319fc572e264045548aef9409e6d6c3aab60ea6023669ea97039f"
  }
 },
 "nbformat": 4,
 "nbformat_minor": 2,
 "cells": [
  {
   "cell_type": "code",
   "execution_count": 64,
   "metadata": {},
   "outputs": [],
   "source": [
    "import numpy as np"
   ]
  },
  {
   "source": [
    "# 1. Cross-Entropy Loss function"
   ],
   "cell_type": "markdown",
   "metadata": {}
  },
  {
   "cell_type": "code",
   "execution_count": 65,
   "metadata": {},
   "outputs": [
    {
     "output_type": "stream",
     "name": "stdout",
     "text": [
      "1.4154090579975864\n"
     ]
    }
   ],
   "source": [
    "# dimension of the 2 vectors we will use\n",
    "n = 100\n",
    "\n",
    "y_cap = np.random.rand(n)\n",
    "y = np.random.randint(2, size=(n))\n",
    "# print(y_cap, \"\\n\", y)\n",
    "\n",
    "O = -sum(y * np.log2(y_cap) + (1 - y) * np.log2(1 - y_cap)) / n\n",
    "print(O)"
   ]
  },
  {
   "source": [
    "# 2. Find Pair with target Sum"
   ],
   "cell_type": "markdown",
   "metadata": {}
  },
  {
   "cell_type": "code",
   "execution_count": 66,
   "metadata": {},
   "outputs": [],
   "source": [
    "class PairFinder:\n",
    "    def __init__(self, numbers, target):\n",
    "        self.nums = numbers\n",
    "        self.target = target\n",
    "        self.solution = {}\n",
    "        \n",
    "        count = 0\n",
    "        for i in range(len(self.nums)):\n",
    "            for j in range(len(self.nums)):\n",
    "                if (self.nums[i] + self.nums[j] == self.target):\n",
    "                    count += 1\n",
    "                    self.solution[count] = [i, j]\n",
    "\n",
    "    def display(self):\n",
    "        print(self.solution)"
   ]
  },
  {
   "cell_type": "code",
   "execution_count": 67,
   "metadata": {},
   "outputs": [
    {
     "output_type": "stream",
     "name": "stdout",
     "text": [
      "{1: [0, 3], 2: [2, 3], 3: [3, 0], 4: [3, 2]}\n"
     ]
    }
   ],
   "source": [
    "numbers=[10,20,10,40,50,60,70]\n",
    "target=50\n",
    "\n",
    "example = PairFinder(numbers, target)\n",
    "example.display()"
   ]
  }
 ]
}