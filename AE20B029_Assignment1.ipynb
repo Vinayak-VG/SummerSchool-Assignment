{
  "nbformat": 4,
  "nbformat_minor": 0,
  "metadata": {
    "colab": {
      "name": "AE20B029_Assignment1.ipynb",
      "provenance": []
    },
    "kernelspec": {
      "name": "python3",
      "display_name": "Python 3"
    },
    "language_info": {
      "name": "python"
    }
  },
  "cells": [
    {
      "cell_type": "code",
      "metadata": {
        "colab": {
          "base_uri": "https://localhost:8080/"
        },
        "id": "wpe5mq-S9cR4",
        "outputId": "c515c86a-3151-4c64-fa5c-6cdc3670e1e3"
      },
      "source": [
        "import numpy as np\n",
        "n = int(input(\"Enter numbre:\"))\n",
        "y_hat = np.random.rand(n)\n",
        "y = np.random.randint(0, 2, n)\n",
        "O = -np.average(y*np.log2(y_hat)+(1-y)*np.log2(1-y_hat))\n"
      ],
      "execution_count": 41,
      "outputs": [
        {
          "output_type": "stream",
          "text": [
            "Enter numbre:4\n",
            "[0.81651512 0.45295872 0.86467513 0.47749297]\n"
          ],
          "name": "stdout"
        }
      ]
    }
  ]
}