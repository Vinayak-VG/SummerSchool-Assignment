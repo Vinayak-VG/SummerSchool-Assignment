{
 "cells": [
  {
   "cell_type": "code",
   "execution_count": null,
   "metadata": {},
   "outputs": [],
   "source": [
    "#Question 1: To compute cross-entropy loss "
   ]
  },
  {
   "cell_type": "code",
   "execution_count": 5,
   "metadata": {},
   "outputs": [],
   "source": [
    "#Libraries\n",
    "import numpy as np"
   ]
  },
  {
   "cell_type": "code",
   "execution_count": 6,
   "metadata": {},
   "outputs": [],
   "source": [
    "n=100                            \n",
    "y=np.random.randint(0,2,(1,n))\n",
    "yhat=np.random.rand(1,n)\n"
   ]
  },
  {
   "cell_type": "code",
   "execution_count": 7,
   "metadata": {},
   "outputs": [
    {
     "name": "stdout",
     "output_type": "stream",
     "text": [
      "[[0 0 0 0 0 0 1 0 0 1 1 1 1 1 0 0 0 0 1 0 0 1 1 1 0 1 1 0 0 0 0 1 0 1 0 0\n",
      "  0 1 1 1 0 1 1 1 0 1 0 0 1 1 1 1 1 1 0 0 0 1 1 0 0 1 1 0 0 1 1 0 0 0 0 1\n",
      "  0 0 0 0 0 0 0 1 1 1 0 0 0 1 1 0 0 0 0 0 1 0 0 0 0 0 1 0]]\n"
     ]
    }
   ],
   "source": [
    "print(y)"
   ]
  },
  {
   "cell_type": "code",
   "execution_count": 8,
   "metadata": {},
   "outputs": [
    {
     "name": "stdout",
     "output_type": "stream",
     "text": [
      "[[0.65919919 0.66820879 0.95614924 0.77979316 0.96634204 0.98169877\n",
      "  0.49480384 0.2388431  0.72003519 0.4758108  0.36126299 0.66539019\n",
      "  0.93503474 0.14534044 0.50556512 0.95192811 0.6458013  0.18699462\n",
      "  0.12068553 0.5600059  0.87191625 0.06120726 0.89276771 0.27672991\n",
      "  0.35711919 0.15478836 0.70626317 0.32592758 0.04259227 0.91645329\n",
      "  0.99470218 0.7771337  0.08032833 0.16776931 0.03806423 0.37907148\n",
      "  0.04778394 0.81840764 0.962239   0.68732979 0.30814648 0.42743408\n",
      "  0.28243768 0.3075118  0.40301743 0.38281998 0.41919145 0.14825609\n",
      "  0.1440102  0.32261034 0.1320436  0.36974295 0.387843   0.53843004\n",
      "  0.52114223 0.21714633 0.5371672  0.09854701 0.95128408 0.22996015\n",
      "  0.41192732 0.95282478 0.41420263 0.2434258  0.25081136 0.98745328\n",
      "  0.71320644 0.67796343 0.2882336  0.76043611 0.55371776 0.3885879\n",
      "  0.92947912 0.65674415 0.64874028 0.66658523 0.6324409  0.09290403\n",
      "  0.59043516 0.75441664 0.05476374 0.61601532 0.4267345  0.81939375\n",
      "  0.78287663 0.38101058 0.05575009 0.92175488 0.73379612 0.20583196\n",
      "  0.01215894 0.12476206 0.62508984 0.6221357  0.60227204 0.98003959\n",
      "  0.11340194 0.99243508 0.96368791 0.95607984]]\n"
     ]
    }
   ],
   "source": [
    "print(yhat)"
   ]
  },
  {
   "cell_type": "code",
   "execution_count": 9,
   "metadata": {},
   "outputs": [],
   "source": [
    "cost= -1*(np.sum(y*np.log2(yhat)) + np.sum((1-y)*np.log2(1-yhat)))/n       # Vectorised Implementation\n"
   ]
  },
  {
   "cell_type": "code",
   "execution_count": 10,
   "metadata": {},
   "outputs": [
    {
     "name": "stdout",
     "output_type": "stream",
     "text": [
      "1.6112818610643231\n"
     ]
    }
   ],
   "source": [
    "print(cost)"
   ]
  },
  {
   "cell_type": "code",
   "execution_count": null,
   "metadata": {},
   "outputs": [],
   "source": []
  }
 ],
 "metadata": {
  "kernelspec": {
   "display_name": "Python 3",
   "language": "python",
   "name": "python3"
  },
  "language_info": {
   "codemirror_mode": {
    "name": "ipython",
    "version": 3
   },
   "file_extension": ".py",
   "mimetype": "text/x-python",
   "name": "python",
   "nbconvert_exporter": "python",
   "pygments_lexer": "ipython3",
   "version": "3.8.5"
  }
 },
 "nbformat": 4,
 "nbformat_minor": 4
}
