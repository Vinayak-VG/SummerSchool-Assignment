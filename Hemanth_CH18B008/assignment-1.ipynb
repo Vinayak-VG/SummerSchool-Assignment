{
 "metadata": {
  "language_info": {
   "codemirror_mode": {
    "name": "ipython",
    "version": 3
   },
   "file_extension": ".py",
   "mimetype": "text/x-python",
   "name": "python",
   "nbconvert_exporter": "python",
   "pygments_lexer": "ipython3",
   "version": "3.8.8"
  },
  "orig_nbformat": 4,
  "kernelspec": {
   "name": "python3",
   "display_name": "Python 3.8.8 64-bit ('base': conda)"
  },
  "interpreter": {
   "hash": "b3ba2566441a7c06988d0923437866b63cedc61552a5af99d1f4fb67d367b25f"
  }
 },
 "nbformat": 4,
 "nbformat_minor": 2,
 "cells": [
  {
   "cell_type": "code",
   "execution_count": null,
   "metadata": {},
   "outputs": [],
   "source": [
    "import numpy as np\n",
    "import random"
   ]
  },
  {
   "cell_type": "code",
   "execution_count": null,
   "metadata": {},
   "outputs": [],
   "source": [
    "def CELF(y_hat, y):\n",
    "    expr = y * np.log2(y_hat) + (1 - y) * np.log2(1 - y_hat)\n",
    "    O = sum(expr) / -len(expr) #len(expr)=n from testcases\n",
    "    return O"
   ]
  },
  {
   "cell_type": "code",
   "execution_count": null,
   "metadata": {},
   "outputs": [],
   "source": [
    "#Test Case 1\n",
    "#n = 5\n",
    "y_hat = np.array([0.32, 0.56, 0.71, 0.14, 0.57])\n",
    "y = np.array([1, 0, 1, 1, 0])\n",
    "CELF(y_hat, y)"
   ]
  },
  {
   "cell_type": "code",
   "execution_count": null,
   "metadata": {},
   "outputs": [],
   "source": [
    "#Test Case 2\n",
    "#n = 4\n",
    "y_hat = np.array([0.23, 0.54, 0.61, 0.89])\n",
    "y = np.array([0, 0, 1, 1])\n",
    "CELF(y_hat, y)"
   ]
  },
  {
   "cell_type": "code",
   "execution_count": null,
   "metadata": {},
   "outputs": [],
   "source": [
    "#Test Case 3\n",
    "#n = 7\n",
    "y_hat = np.array([0.45, 0.10, 0.99, 0.32, 0.78, 0.81, 0.27])\n",
    "y = np.array([1, 0, 1, 1, 1, 0, 0])\n",
    "CELF(y_hat, y)"
   ]
  },
  {
   "cell_type": "code",
   "execution_count": null,
   "metadata": {},
   "outputs": [],
   "source": [
    "class numPair:\n",
    "\n",
    "    def __init__(self,numbers,Target):\n",
    "        self.numbers = numbers\n",
    "        self.length = len(numbers)\n",
    "        self.Target = Target\n",
    "        self.output = {}\n",
    "\n",
    "    def solutions(self):\n",
    "        k = 1\n",
    "        for i in range(self.length):\n",
    "            for j in range(self.length):\n",
    "                if self.numbers[i] + self.numbers[j] == self.Target:\n",
    "                    self.output[k] = [i,j]\n",
    "                    k += 1\n",
    "        return self.output"
   ]
  },
  {
   "cell_type": "code",
   "execution_count": null,
   "metadata": {},
   "outputs": [],
   "source": [
    "#Test Case 1:\n",
    "# Input: \n",
    "numbers= [10,20,10,40,50,60,70]\n",
    "Target=50\n",
    "#Output: {1: [0, 3], 2: [2, 3], 3: [3, 0], 4: [3, 2]}\n",
    "output = numPair(numbers, Target).solutions()\n",
    "output"
   ]
  },
  {
   "cell_type": "code",
   "execution_count": null,
   "metadata": {},
   "outputs": [],
   "source": [
    "#Test Case 2:\n",
    "# Input: \n",
    "numbers=[14, 15, 25, 36, 17, 18, 22, 21]\n",
    "Target=39\n",
    "#Output:{1: [0, 2], 2: [2, 0], 3: [4, 6], 4: [5, 7],5: [6, 4], 6: [7, 5]}\n",
    "output = numPair(numbers, Target).solutions()\n",
    "output"
   ]
  },
  {
   "cell_type": "code",
   "execution_count": null,
   "metadata": {},
   "outputs": [],
   "source": [
    "#Test Case 3:\n",
    "# Input: \n",
    "numbers=[4, 10, 6, 14, 18, 19, 20]\n",
    "Target=20\n",
    "#Output:{1: [1, 1], 2: [2, 3], 3: [3, 2]}\n",
    "output = numPair(numbers, Target).solutions()\n",
    "output"
   ]
  }
 ]
}