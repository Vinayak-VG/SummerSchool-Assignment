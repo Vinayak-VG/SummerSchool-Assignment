{
  "nbformat": 4,
  "nbformat_minor": 0,
  "metadata": {
    "colab": {
      "name": "SS_assgn_1.ipynb",
      "provenance": [],
      "authorship_tag": "ABX9TyMRrGrFoKXGCq1p58hadGCD",
      "include_colab_link": true
    },
    "kernelspec": {
      "name": "python3",
      "display_name": "Python 3"
    },
    "language_info": {
      "name": "python"
    }
  },
  "cells": [
    {
      "cell_type": "markdown",
      "metadata": {
        "id": "view-in-github",
        "colab_type": "text"
      },
      "source": [
        "<a href=\"https://colab.research.google.com/github/VAIBHAV2900/SummerSchool-Assignment/blob/main/SS_assgn_1.ipynb\" target=\"_parent\"><img src=\"https://colab.research.google.com/assets/colab-badge.svg\" alt=\"Open In Colab\"/></a>"
      ]
    },
    {
      "cell_type": "code",
      "metadata": {
        "id": "d2uy8GY4EETw"
      },
      "source": [
        "import numpy as np\n",
        "import random"
      ],
      "execution_count": 1,
      "outputs": []
    },
    {
      "cell_type": "markdown",
      "metadata": {
        "id": "rXRJGYeXj3BK"
      },
      "source": [
        "**Q1: Create two vectors 𝑦 and 𝑦̂ having the same dimensions, where 𝑦̂ should\n",
        "consist of random numbers between [0,1) and 𝑦 should contain 0𝑠 and\n",
        "1𝑠, for example, 𝑦=[0,1,1,0,1,0,0,1,...,1].**\n",
        "\n",
        "Compute the given expression:\n",
        "![image.png](data:image/png;base64,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)\n",
        "> Where n = 100, is the total number of elements in y and 𝑦̂\n",
        "Note: The expression O, which you have computed is actually a\n",
        "Cross-Entropy loss function used in machine learning for classification\n",
        "tasks which tells us how bad or good the model is performing, if O is large\n",
        "then the model is performing worst and vice versa."
      ]
    },
    {
      "cell_type": "code",
      "metadata": {
        "id": "YUVMNtiDja-b"
      },
      "source": [
        "def Cross_entropy(y,yhat):\n",
        "  loss = y*np.log2(yhat) + (1-y)*np.log2(1-yhat)\n",
        "  CE = -np.sum(loss)/len(loss)\n",
        "  return CE"
      ],
      "execution_count": 16,
      "outputs": []
    },
    {
      "cell_type": "code",
      "metadata": {
        "colab": {
          "base_uri": "https://localhost:8080/"
        },
        "id": "cyaIWBm45-Cj",
        "outputId": "c1e976da-666b-4a21-de5b-407f0eafbe90"
      },
      "source": [
        "yhat = np.random.rand(100)\n",
        "y = np.random.randint(2, size=len(yhat))\n",
        "Cross_entropy(y,yhat)"
      ],
      "execution_count": 17,
      "outputs": [
        {
          "output_type": "execute_result",
          "data": {
            "text/plain": [
              "1.2924814462508065"
            ]
          },
          "metadata": {
            "tags": []
          },
          "execution_count": 17
        }
      ]
    },
    {
      "cell_type": "markdown",
      "metadata": {
        "id": "u_PuUktLBm8d"
      },
      "source": [
        "Test Case 1:\n",
        "n = 5\n",
        "y_hat = np.array([0.32, 0.56, 0.71, 0.14, 0.57])\n",
        "y = np.array([1, 0, 1, 1, 0])\n",
        "O = 1.47529"
      ]
    },
    {
      "cell_type": "code",
      "metadata": {
        "colab": {
          "base_uri": "https://localhost:8080/"
        },
        "id": "LSg_iE6TBIBy",
        "outputId": "cbc03d9f-717d-4391-b6eb-c07c84a16d3b"
      },
      "source": [
        "y_hat = np.array([0.32, 0.56, 0.71, 0.14, 0.57])\n",
        "y = np.array([1, 0, 1, 1, 0])\n",
        "Cross_entropy(y,y_hat)"
      ],
      "execution_count": 18,
      "outputs": [
        {
          "output_type": "execute_result",
          "data": {
            "text/plain": [
              "1.4752965067943884"
            ]
          },
          "metadata": {
            "tags": []
          },
          "execution_count": 18
        }
      ]
    },
    {
      "cell_type": "markdown",
      "metadata": {
        "id": "QPMjomYMBpH0"
      },
      "source": [
        "Test Case 2:\n",
        "n = 4\n",
        "y_hat = np.array([0.23, 0.54, 0.61, 0.89])\n",
        "y = np.array([0, 0, 1, 1])\n",
        "O = 0.59465"
      ]
    },
    {
      "cell_type": "code",
      "metadata": {
        "colab": {
          "base_uri": "https://localhost:8080/"
        },
        "id": "vcrQ7ObdBf7A",
        "outputId": "fb93bd99-a36c-495c-ff0a-33497aa80a90"
      },
      "source": [
        "y_hat = np.array([0.23, 0.54, 0.61, 0.89])\n",
        "y = np.array([0, 0, 1, 1])\n",
        "Cross_entropy(y,y_hat)"
      ],
      "execution_count": 19,
      "outputs": [
        {
          "output_type": "execute_result",
          "data": {
            "text/plain": [
              "0.5946513734544251"
            ]
          },
          "metadata": {
            "tags": []
          },
          "execution_count": 19
        }
      ]
    },
    {
      "cell_type": "markdown",
      "metadata": {
        "id": "eI2d8QEcBxOv"
      },
      "source": [
        "Test Case 3:\n",
        "n = 7\n",
        "y_hat = np.array([0.45, 0.10, 0.99, 0.32, 0.78, 0.81, 0.27])\n",
        "y = np.array([1, 0, 1, 1, 1, 0, 0])\n",
        "O = 0.88153"
      ]
    },
    {
      "cell_type": "code",
      "metadata": {
        "colab": {
          "base_uri": "https://localhost:8080/"
        },
        "id": "nh5mYxoKBzV0",
        "outputId": "89aa60ba-8c73-4588-cdf7-a0be03c8ebc9"
      },
      "source": [
        "y_hat = np.array([0.45, 0.10, 0.99, 0.32, 0.78, 0.81, 0.27])\n",
        "y = np.array([1, 0, 1, 1, 1, 0, 0])\n",
        "Cross_entropy(y,y_hat)"
      ],
      "execution_count": 20,
      "outputs": [
        {
          "output_type": "execute_result",
          "data": {
            "text/plain": [
              "0.8815394606426091"
            ]
          },
          "metadata": {
            "tags": []
          },
          "execution_count": 20
        }
      ]
    },
    {
      "cell_type": "markdown",
      "metadata": {
        "id": "yuM060Iy4Nfa"
      },
      "source": [
        "**2 . Write a Python class to find a pair of elements (indices of the two\n",
        "numbers) from a given array whose sum equals a specific target\n",
        "number.**\n",
        ">Note: There will be multiple solutions, so create a dictionary where the\n",
        "keys represent just S.No(1,2,3,4…..) and the value corresponding to\n",
        "the key represents the indices of the two numbers\n",
        "For example: Input: numbers= [10,20,10,40,50,60,70], target=50\n",
        "Output: {1: [0, 3], 2: [2, 3], 3: [3, 0], 4: [3, 2]}"
      ]
    },
    {
      "cell_type": "code",
      "metadata": {
        "id": "qpJO-9PD4SI5"
      },
      "source": [
        "class SUMFINDER:\n",
        "  \n",
        "  def __init__(self, target, array):\n",
        "    self.target= target\n",
        "    self.array= array\n",
        "\n",
        "  def find(self):\n",
        "    out = {}\n",
        "    n= 1\n",
        "    for i in range(len(self.array)):\n",
        "      for j in range(len(self.array)):\n",
        "\n",
        "        if self.array[i]+self.array[j] == self.target:\n",
        "          out[n]=[i,j]\n",
        "          n+=1\n",
        "\n",
        "    return out"
      ],
      "execution_count": 35,
      "outputs": []
    },
    {
      "cell_type": "markdown",
      "metadata": {
        "id": "Y8Z8t5mkDrlV"
      },
      "source": [
        "Test Case 1:\n",
        "Input: numbers= [10,20,10,40,50,60,70]\n",
        "Target=50\n",
        "Output: {1: [0, 3], 2: [2, 3], 3: [3, 0], 4: [3, 2]}\n"
      ]
    },
    {
      "cell_type": "code",
      "metadata": {
        "colab": {
          "base_uri": "https://localhost:8080/"
        },
        "id": "xLTkS3q9Daik",
        "outputId": "ed53b76b-7638-4364-803a-98895373bacd"
      },
      "source": [
        "arr1= [10,20,10,40,50,60,70]\n",
        "T1=50\n",
        "out1 =SUMFINDER(T1,arr1)\n",
        "out1.find()"
      ],
      "execution_count": 36,
      "outputs": [
        {
          "output_type": "execute_result",
          "data": {
            "text/plain": [
              "{1: [0, 3], 2: [2, 3], 3: [3, 0], 4: [3, 2]}"
            ]
          },
          "metadata": {
            "tags": []
          },
          "execution_count": 36
        }
      ]
    },
    {
      "cell_type": "markdown",
      "metadata": {
        "id": "iS0gcvDcEukA"
      },
      "source": [
        "Test Case 2:\n",
        "Input: numbers= [14, 15, 25, 36, 17, 18, 22, 21]\n",
        "Target=39\n",
        "Output: {1: [0, 2], 2: [2, 0], 3: [4, 6], 4: [5, 7], 5: [6, 4], 6: [7, 5]}\n"
      ]
    },
    {
      "cell_type": "code",
      "metadata": {
        "colab": {
          "base_uri": "https://localhost:8080/"
        },
        "id": "gliLAdHP7geA",
        "outputId": "e615cc94-6787-4a59-d711-0a8e22385cc2"
      },
      "source": [
        "arr2= [14, 15, 25, 36, 17, 18, 22, 21]\n",
        "T2=39\n",
        "out2 =SUMFINDER(T2,arr2)\n",
        "out2.find()"
      ],
      "execution_count": 37,
      "outputs": [
        {
          "output_type": "execute_result",
          "data": {
            "text/plain": [
              "{1: [0, 2], 2: [2, 0], 3: [4, 6], 4: [5, 7], 5: [6, 4], 6: [7, 5]}"
            ]
          },
          "metadata": {
            "tags": []
          },
          "execution_count": 37
        }
      ]
    },
    {
      "cell_type": "markdown",
      "metadata": {
        "id": "Evx4OIX2FTQH"
      },
      "source": [
        "Test Case 3:\n",
        "Input: numbers= [4, 10, 6, 14, 18, 19, 20]\n",
        "Target=20\n",
        "Output: {1: [1, 1], 2: [2, 3], 3: [3, 2]}"
      ]
    },
    {
      "cell_type": "code",
      "metadata": {
        "colab": {
          "base_uri": "https://localhost:8080/"
        },
        "id": "ho4LlrFrFTih",
        "outputId": "36e69d9f-9c0f-4a83-fe7a-92310dc596e4"
      },
      "source": [
        "arr3= [4, 10, 6, 14, 18, 19, 20]\n",
        "T3=20\n",
        "out3 =SUMFINDER(T3,arr3)\n",
        "out3.find()"
      ],
      "execution_count": 38,
      "outputs": [
        {
          "output_type": "execute_result",
          "data": {
            "text/plain": [
              "{1: [1, 1], 2: [2, 3], 3: [3, 2]}"
            ]
          },
          "metadata": {
            "tags": []
          },
          "execution_count": 38
        }
      ]
    }
  ]
}
