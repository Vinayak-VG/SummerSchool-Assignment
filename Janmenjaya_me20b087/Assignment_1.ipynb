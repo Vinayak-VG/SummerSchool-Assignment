{
 "cells": [
  {
   "cell_type": "markdown",
   "metadata": {},
   "source": [
    "Question 1:"
   ]
  },
  {
   "cell_type": "code",
   "execution_count": 1,
   "metadata": {
    "scrolled": true
   },
   "outputs": [
    {
     "name": "stdout",
     "output_type": "stream",
     "text": [
      "y = [1 0 1 1 1 0 1 1 0 1 0 1 1 0 1 1 1 0 1 0 1 0 0 1 0 0 0 0 0 1 1 1 0 0 0 1 1\n",
      " 1 0 1 1 1 1 0 0 1 0 0 0 0 0 0 1 1 1 1 0 0 0 0 0 0 0 1 1 0 1 0 0 0 0 0 0 1\n",
      " 1 1 0 0 1 0 0 0 0 0 0 0 1 1 0 0 0 0 1 0 1 1 1 1 1 1]\n",
      "y_circumflex = [0.46543237 0.29091564 0.53734689 0.43845586 0.19504129 0.72095629\n",
      " 0.25876783 0.86196275 0.73273379 0.80569602 0.45237697 0.41549662\n",
      " 0.05877121 0.70930523 0.01271538 0.57466772 0.93862203 0.29382425\n",
      " 0.70456033 0.85162032 0.75961372 0.79958528 0.10089365 0.92092029\n",
      " 0.80491013 0.35118678 0.18071861 0.33886284 0.84039843 0.35703917\n",
      " 0.34113247 0.49931936 0.89179395 0.82664661 0.76069666 0.56401383\n",
      " 0.52830843 0.93906583 0.97655843 0.06079908 0.64847897 0.02937529\n",
      " 0.39720363 0.28220846 0.91712471 0.60711605 0.77245089 0.501464\n",
      " 0.03931051 0.68206171 0.0363705  0.65179187 0.41517613 0.76034751\n",
      " 0.452701   0.99321045 0.50972583 0.50342769 0.18367125 0.38790533\n",
      " 0.99442725 0.55996122 0.14232733 0.16424939 0.38776952 0.02054266\n",
      " 0.08200639 0.35787396 0.83853548 0.52483193 0.74339311 0.86653803\n",
      " 0.96054128 0.36774348 0.43527615 0.37265343 0.03716349 0.56496226\n",
      " 0.2195476  0.10641658 0.46096214 0.12158274 0.67512087 0.78468758\n",
      " 0.93696341 0.62342281 0.39266916 0.49465157 0.35452253 0.78508097\n",
      " 0.82411311 0.46734171 0.6216148  0.24471207 0.72432944 0.25405149\n",
      " 0.48919681 0.71868142 0.41669878 0.90025577]\n"
     ]
    }
   ],
   "source": [
    "import numpy as np\n",
    "n=100 #dimension of vectors\n",
    "y=np.random.randint(0,2,n) #vector y\n",
    "y_circumflex=np.random.rand(n) #vector y_circumflex\n",
    "print(\"y =\",y)\n",
    "print(\"y_circumflex =\",y_circumflex)"
   ]
  },
  {
   "cell_type": "code",
   "execution_count": 2,
   "metadata": {},
   "outputs": [
    {
     "name": "stdout",
     "output_type": "stream",
     "text": [
      "O= 1.5142065106249876\n"
     ]
    }
   ],
   "source": [
    "O=-(1/n)*np.sum((y*np.log2(y_circumflex)+(1-y)*np.log2(1-y_circumflex))) #Cross entropy _loss function\n",
    "print(\"O=\",O)"
   ]
  },
  {
   "cell_type": "markdown",
   "metadata": {},
   "source": [
    "Question 2:"
   ]
  },
  {
   "cell_type": "code",
   "execution_count": 1,
   "metadata": {},
   "outputs": [
    {
     "name": "stdout",
     "output_type": "stream",
     "text": [
      "Enter the target : 50\n",
      "Enter the no. of entries : 7\n",
      "Enter the entry[0] : 10\n",
      "Enter the entry[1] : 20\n",
      "Enter the entry[2] : 30\n",
      "Enter the entry[3] : 20\n",
      "Enter the entry[4] : 10\n",
      "Enter the entry[5] : 50\n",
      "Enter the entry[6] : 0\n",
      "{1: [1, 2], 2: [2, 1], 3: [2, 3], 4: [3, 2], 5: [5, 6], 6: [6, 5]}\n"
     ]
    }
   ],
   "source": [
    "import numpy as np\n",
    "class Pair:\n",
    "    Z={} #initialise by null\n",
    "    def __init__(self,a,m,target): #constructor\n",
    "        key=0  #initialise key by 0\n",
    "        for x in range(m):\n",
    "            for y in range(m):\n",
    "                if a[x]+a[y]==target: #if the target is hit do\n",
    "                    key+=1 #update key\n",
    "                    self.Z[key]=[x,y] #update Z \n",
    "    def display(self):\n",
    "        print(self.Z)\n",
    "t=int(input(\"Enter the target : \"))\n",
    "m=int(input(\"Enter the no. of entries : \"))\n",
    "L=np.array([]) #array for entries\n",
    "for i in range(m):\n",
    "    e=int(input(\"Enter the entry[%d] : \"%(i)))\n",
    "    L=np.append(L,e) #update L\n",
    "Solve=Pair(L,m,t)\n",
    "Solve.display()"
   ]
  },
  {
   "cell_type": "code",
   "execution_count": null,
   "metadata": {},
   "outputs": [],
   "source": []
  },
  {
   "cell_type": "code",
   "execution_count": null,
   "metadata": {},
   "outputs": [],
   "source": []
  },
  {
   "cell_type": "code",
   "execution_count": null,
   "metadata": {},
   "outputs": [],
   "source": []
  },
  {
   "cell_type": "code",
   "execution_count": null,
   "metadata": {},
   "outputs": [],
   "source": []
  }
 ],
 "metadata": {
  "kernelspec": {
   "display_name": "Python 3",
   "language": "python",
   "name": "python3"
  },
  "language_info": {
   "codemirror_mode": {
    "name": "ipython",
    "version": 3
   },
   "file_extension": ".py",
   "mimetype": "text/x-python",
   "name": "python",
   "nbconvert_exporter": "python",
   "pygments_lexer": "ipython3",
   "version": "3.8.5"
  }
 },
 "nbformat": 4,
 "nbformat_minor": 4
}
