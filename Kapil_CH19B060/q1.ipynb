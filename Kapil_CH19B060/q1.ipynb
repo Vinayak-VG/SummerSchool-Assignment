{
 "cells": [
  {
   "cell_type": "code",
   "execution_count": 8,
   "id": "f7dc02ad",
   "metadata": {},
   "outputs": [],
   "source": [
    "import numpy as np\n",
    "import math"
   ]
  },
  {
   "cell_type": "code",
   "execution_count": 9,
   "id": "a176fea6",
   "metadata": {},
   "outputs": [
    {
     "name": "stdout",
     "output_type": "stream",
     "text": [
      "number of elements: 5\n"
     ]
    }
   ],
   "source": [
    "n = int(input('number of elements: '))"
   ]
  },
  {
   "cell_type": "code",
   "execution_count": 3,
   "id": "ca479050",
   "metadata": {
    "collapsed": true
   },
   "outputs": [
    {
     "name": "stdout",
     "output_type": "stream",
     "text": [
      "[0.1269014  0.0957032  0.24349631 0.0499334  0.02637818]\n"
     ]
    }
   ],
   "source": [
    "y_hat = np.random.rand(n)\n",
    "print(y_hat)"
   ]
  },
  {
   "cell_type": "code",
   "execution_count": 4,
   "id": "a727c7d4",
   "metadata": {
    "collapsed": true
   },
   "outputs": [
    {
     "name": "stdout",
     "output_type": "stream",
     "text": [
      "[0 1 0 0 0]\n"
     ]
    }
   ],
   "source": [
    "y = np.random.randint(2, size=n)\n",
    "print(y)"
   ]
  },
  {
   "cell_type": "code",
   "execution_count": 10,
   "id": "83b63a0f",
   "metadata": {},
   "outputs": [],
   "source": [
    "#test_case\n",
    "#y_hat = np.array([0.32,0.56,0.71,0.14,0.57])\n",
    "#y = np.array([1,0,1,1,0])"
   ]
  },
  {
   "cell_type": "code",
   "execution_count": 11,
   "id": "be7de580",
   "metadata": {
    "collapsed": true
   },
   "outputs": [
    {
     "name": "stdout",
     "output_type": "stream",
     "text": [
      "cross entropy loss is: 1.4752965067943884\n"
     ]
    }
   ],
   "source": [
    "o = 0\n",
    "for i in range(n) :\n",
    "    o = o + y[i]*math.log(y_hat[i],2) + (1-y[i])*math.log((1-y_hat[i]),2)\n",
    "    \n",
    "o = -1*o/n\n",
    "\n",
    "print(\"cross entropy loss is:\",o)"
   ]
  },
  {
   "cell_type": "code",
   "execution_count": null,
   "id": "6d618e0a",
   "metadata": {},
   "outputs": [],
   "source": []
  }
 ],
 "metadata": {
  "kernelspec": {
   "display_name": "Python 3",
   "language": "python",
   "name": "python3"
  },
  "language_info": {
   "codemirror_mode": {
    "name": "ipython",
    "version": 3
   },
   "file_extension": ".py",
   "mimetype": "text/x-python",
   "name": "python",
   "nbconvert_exporter": "python",
   "pygments_lexer": "ipython3",
   "version": "3.8.3"
  }
 },
 "nbformat": 4,
 "nbformat_minor": 5
}
