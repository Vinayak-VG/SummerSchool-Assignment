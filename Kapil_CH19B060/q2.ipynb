{
 "cells": [
  {
   "cell_type": "code",
   "execution_count": 2,
   "id": "c1ded01f",
   "metadata": {
    "collapsed": true
   },
   "outputs": [
    {
     "name": "stdout",
     "output_type": "stream",
     "text": [
      "enter list elements: \n",
      "10\n",
      "20\n",
      "10\n",
      "40\n",
      "50\n",
      "60\n",
      "70\n",
      "stop\n",
      "[10, 20, 10, 40, 50, 60, 70]\n",
      "enter target number: 50\n",
      "{1: [0, 3], 2: [2, 3], 3: [3, 0], 4: [3, 2]}\n"
     ]
    }
   ],
   "source": [
    "class find_pair :\n",
    "    def __init__(self,list,target) :\n",
    "        self.list = list\n",
    "        self.target = target\n",
    "        \n",
    "    def find(self) :\n",
    "        n = len(self.list)\n",
    "        dict = {}\n",
    "        key = 1\n",
    "        for i in range(n) :\n",
    "            for j in range(n) :\n",
    "                if list[j] == self.target-list[i] :\n",
    "                    dict[key] = [i,j]\n",
    "                    key = key +1\n",
    "        print(dict)\n",
    "        \n",
    "        \n",
    "        \n",
    "list = []\n",
    "print('enter list elements: ')\n",
    "\n",
    "try :\n",
    "    while True:\n",
    "        list.append(int(input()))\n",
    "except :\n",
    "    print(list)\n",
    "    \n",
    "target = int(input(\"enter target number: \"))\n",
    "\n",
    "x = find_pair(list,target)\n",
    "x.find()\n",
    "        "
   ]
  },
  {
   "cell_type": "code",
   "execution_count": null,
   "id": "e52fc699",
   "metadata": {},
   "outputs": [],
   "source": []
  }
 ],
 "metadata": {
  "kernelspec": {
   "display_name": "Python 3",
   "language": "python",
   "name": "python3"
  },
  "language_info": {
   "codemirror_mode": {
    "name": "ipython",
    "version": 3
   },
   "file_extension": ".py",
   "mimetype": "text/x-python",
   "name": "python",
   "nbconvert_exporter": "python",
   "pygments_lexer": "ipython3",
   "version": "3.8.3"
  }
 },
 "nbformat": 4,
 "nbformat_minor": 5
}
