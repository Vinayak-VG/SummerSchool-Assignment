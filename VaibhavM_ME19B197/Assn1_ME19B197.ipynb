{
 "cells": [
  {
   "cell_type": "code",
   "execution_count": 1,
   "metadata": {},
   "outputs": [],
   "source": [
    "import numpy as np\n",
    "import pandas as pd"
   ]
  },
  {
   "cell_type": "markdown",
   "metadata": {},
   "source": [
    "# Q1 Computing Cross-Entropy Loss"
   ]
  },
  {
   "cell_type": "code",
   "execution_count": 2,
   "metadata": {},
   "outputs": [],
   "source": [
    "n = 100\n",
    "y_hat = np.random.rand(100)\n",
    "y = np.random.choice([0.0,1.0], 100)"
   ]
  },
  {
   "cell_type": "code",
   "execution_count": 3,
   "metadata": {},
   "outputs": [],
   "source": [
    "def compute_O(y, y_hat):\n",
    "    y, y_hat = y.reshape(1,-1), y_hat.reshape(1,-1)\n",
    "    n = y.shape[1]\n",
    "    O = -1/n * (y @ np.log2(y_hat).T + (1-y) @ np.log2(1-y_hat).T)\n",
    "    return O[0,0]"
   ]
  },
  {
   "cell_type": "code",
   "execution_count": 4,
   "metadata": {
    "scrolled": true
   },
   "outputs": [
    {
     "name": "stdout",
     "output_type": "stream",
     "text": [
      "The Cross-Entropy loss for the given arrays is 1.2384\n"
     ]
    }
   ],
   "source": [
    "print(f\"The Cross-Entropy loss for the given arrays is {compute_O(y, y_hat):0.4f}\")"
   ]
  },
  {
   "cell_type": "markdown",
   "metadata": {},
   "source": [
    "### Running test cases"
   ]
  },
  {
   "cell_type": "code",
   "execution_count": 5,
   "metadata": {},
   "outputs": [
    {
     "data": {
      "text/plain": [
       "1.4752965067943886"
      ]
     },
     "execution_count": 5,
     "metadata": {},
     "output_type": "execute_result"
    }
   ],
   "source": [
    "n = 5\n",
    "y_hat = np.array([0.32, 0.56, 0.71, 0.14, 0.57])\n",
    "y = np.array([1, 0, 1, 1, 0])\n",
    "compute_O(y, y_hat)"
   ]
  },
  {
   "cell_type": "code",
   "execution_count": 6,
   "metadata": {},
   "outputs": [
    {
     "data": {
      "text/plain": [
       "0.5946513734544252"
      ]
     },
     "execution_count": 6,
     "metadata": {},
     "output_type": "execute_result"
    }
   ],
   "source": [
    "n = 4\n",
    "y_hat = np.array([0.23, 0.54, 0.61, 0.89])\n",
    "y = np.array([0, 0, 1, 1])\n",
    "compute_O(y, y_hat)"
   ]
  },
  {
   "cell_type": "code",
   "execution_count": 7,
   "metadata": {},
   "outputs": [
    {
     "data": {
      "text/plain": [
       "0.881539460642609"
      ]
     },
     "execution_count": 7,
     "metadata": {},
     "output_type": "execute_result"
    }
   ],
   "source": [
    "n = 7\n",
    "y_hat = np.array([0.45, 0.10, 0.99, 0.32, 0.78, 0.81, 0.27])\n",
    "y = np.array([1, 0, 1, 1, 1, 0, 0])\n",
    "compute_O(y, y_hat)"
   ]
  },
  {
   "cell_type": "code",
   "execution_count": null,
   "metadata": {},
   "outputs": [],
   "source": []
  },
  {
   "cell_type": "markdown",
   "metadata": {},
   "source": [
    "# Q2 Finding pair of elements for a given target sum"
   ]
  },
  {
   "cell_type": "code",
   "execution_count": 8,
   "metadata": {},
   "outputs": [],
   "source": [
    "class Solution:\n",
    "    def __init__(self, numbers, target):\n",
    "        ans = {}\n",
    "        sno = 1\n",
    "        for i in range(len(numbers)):\n",
    "            for j in range(len(numbers)):\n",
    "                if numbers[i] + numbers[j] == target:\n",
    "                    ans[sno] = [i, j]\n",
    "                    sno += 1\n",
    "        self.ans = ans\n",
    "        print(f\"Output: {ans}\")\n",
    "        return"
   ]
  },
  {
   "cell_type": "markdown",
   "metadata": {},
   "source": [
    "### Running test cases"
   ]
  },
  {
   "cell_type": "code",
   "execution_count": 9,
   "metadata": {},
   "outputs": [
    {
     "name": "stdout",
     "output_type": "stream",
     "text": [
      "Output: {1: [0, 3], 2: [2, 3], 3: [3, 0], 4: [3, 2]}\n"
     ]
    }
   ],
   "source": [
    "numbers = [10, 20, 10, 40, 50, 60, 70]\n",
    "target = 50\n",
    "Solution(numbers, target);"
   ]
  },
  {
   "cell_type": "code",
   "execution_count": 10,
   "metadata": {
    "scrolled": true
   },
   "outputs": [
    {
     "name": "stdout",
     "output_type": "stream",
     "text": [
      "Output: {1: [0, 2], 2: [2, 0], 3: [4, 6], 4: [5, 7], 5: [6, 4], 6: [7, 5]}\n"
     ]
    }
   ],
   "source": [
    "numbers = [14, 15, 25, 36, 17, 18, 22, 21]\n",
    "target = 39\n",
    "Solution(numbers, target);"
   ]
  },
  {
   "cell_type": "code",
   "execution_count": 11,
   "metadata": {},
   "outputs": [
    {
     "name": "stdout",
     "output_type": "stream",
     "text": [
      "Output: {1: [1, 1], 2: [2, 3], 3: [3, 2]}\n"
     ]
    }
   ],
   "source": [
    "numbers = [4, 10, 6, 14, 18, 19, 20]\n",
    "target = 20\n",
    "Solution(numbers, target);"
   ]
  },
  {
   "cell_type": "code",
   "execution_count": null,
   "metadata": {},
   "outputs": [],
   "source": []
  }
 ],
 "metadata": {
  "kernelspec": {
   "display_name": "Python 3",
   "language": "python",
   "name": "python3"
  },
  "language_info": {
   "codemirror_mode": {
    "name": "ipython",
    "version": 3
   },
   "file_extension": ".py",
   "mimetype": "text/x-python",
   "name": "python",
   "nbconvert_exporter": "python",
   "pygments_lexer": "ipython3",
   "version": "3.8.10"
  }
 },
 "nbformat": 4,
 "nbformat_minor": 4
}
