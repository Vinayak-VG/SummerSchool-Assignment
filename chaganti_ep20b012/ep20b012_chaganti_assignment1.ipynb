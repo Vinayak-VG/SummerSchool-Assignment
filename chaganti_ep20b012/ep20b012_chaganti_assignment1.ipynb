{
 "cells": [
  {
   "cell_type": "markdown",
   "id": "2fd986d8",
   "metadata": {},
   "source": [
    "##  <font color = 'red'> SummerSchool-Assignment-1</font>"
   ]
  },
  {
   "cell_type": "markdown",
   "id": "02196add",
   "metadata": {},
   "source": [
    "## <font color = 'red'> EP20B012 - Chaganti Kamaraja Siddhartha </font>"
   ]
  },
  {
   "cell_type": "markdown",
   "id": "6ddb7352",
   "metadata": {},
   "source": [
    "## <font color = 'magenta'>Importing required libraries</font>"
   ]
  },
  {
   "cell_type": "code",
   "execution_count": 1,
   "id": "552b9f95",
   "metadata": {},
   "outputs": [],
   "source": [
    "import numpy as np"
   ]
  },
  {
   "cell_type": "markdown",
   "id": "adb646ad",
   "metadata": {},
   "source": [
    "### <font color = 'magenta'>1. Create two vectors 𝑦 and 𝑦̂ having the same dimensions, where 𝑦̂ should consist of random numbers between [0,1) and 𝑦 should contain 0𝑠 and 1𝑠, for example, 𝑦=[0,1,1,0,1,0,0,1,...,1]. Compute the given expression:</font>"
   ]
  },
  {
   "cell_type": "code",
   "execution_count": 2,
   "id": "d94171cf",
   "metadata": {},
   "outputs": [],
   "source": [
    "n = 100\n",
    "y_hat = np.random.rand(n)\n",
    "y = np.random.randint(0,2,n)"
   ]
  },
  {
   "cell_type": "code",
   "execution_count": 3,
   "id": "aa890277",
   "metadata": {},
   "outputs": [],
   "source": [
    "def cross_entropy(arr1,arr2):\n",
    "    return (sum(arr1*np.log2(arr2)+(1-arr1)*np.log2(1-arr2))/(-n))"
   ]
  },
  {
   "cell_type": "code",
   "execution_count": 4,
   "id": "68f16986",
   "metadata": {},
   "outputs": [
    {
     "name": "stdout",
     "output_type": "stream",
     "text": [
      "cross entropy is : 1.481904948265249\n"
     ]
    }
   ],
   "source": [
    "print('cross entropy is :',cross_entropy(y,y_hat))"
   ]
  },
  {
   "cell_type": "markdown",
   "id": "69949180",
   "metadata": {},
   "source": [
    "#### <font color = 'magenta'> Test Cases </font>"
   ]
  },
  {
   "cell_type": "code",
   "execution_count": 5,
   "id": "6fe3047d",
   "metadata": {},
   "outputs": [
    {
     "data": {
      "text/plain": [
       "1.4752965067943884"
      ]
     },
     "execution_count": 5,
     "metadata": {},
     "output_type": "execute_result"
    }
   ],
   "source": [
    "n = 5\n",
    "c = np.array([0.32,0.56,0.71,0.14,0.57])\n",
    "d = np.array([1,0,1,1,0])\n",
    "cross_entropy(d,c)"
   ]
  },
  {
   "cell_type": "code",
   "execution_count": 6,
   "id": "f8de8c08",
   "metadata": {},
   "outputs": [
    {
     "data": {
      "text/plain": [
       "0.5946513734544251"
      ]
     },
     "execution_count": 6,
     "metadata": {},
     "output_type": "execute_result"
    }
   ],
   "source": [
    "n = 4\n",
    "e = np.array([0.23,0.54,0.61,0.89])\n",
    "f = np.array([0,0,1,1])\n",
    "cross_entropy(f,e)"
   ]
  },
  {
   "cell_type": "code",
   "execution_count": 7,
   "id": "7a3e5827",
   "metadata": {
    "scrolled": true
   },
   "outputs": [
    {
     "data": {
      "text/plain": [
       "0.8815394606426091"
      ]
     },
     "execution_count": 7,
     "metadata": {},
     "output_type": "execute_result"
    }
   ],
   "source": [
    "n = 7\n",
    "g = np.array([0.45,0.10,0.99,0.32,0.78,0.81,0.27])\n",
    "h = np.array([1,0,1,1,1,0,0])\n",
    "cross_entropy(h,g)"
   ]
  },
  {
   "cell_type": "markdown",
   "id": "22818a0a",
   "metadata": {},
   "source": [
    "### <font color = 'magenta'> 2.Write a Python class to find a pair of elements (indices of the two numbers) from a given array whose sum equals a specific target number.\n",
    "Note: There will be multiple solutions, so create a dictionary where the keys represent just S.No(1,2,3,4.....) and the value corresponding to the key represents the indices of the two numbers\n",
    "For example: Input: numbers= [10,20,10,40,50,60,70], target=50\n",
    "Output: {1: [0, 3], 2: [2, 3], 3: [3, 0], 4: [3, 2]}</font>\n",
    " "
   ]
  },
  {
   "cell_type": "code",
   "execution_count": 14,
   "id": "1818df31",
   "metadata": {},
   "outputs": [],
   "source": [
    "class Indecies():\n",
    "    \n",
    "    def __init__(self,lst,target):\n",
    "        self.lst = lst\n",
    "        self.target = target\n",
    "    \n",
    "    \n",
    "    def target_check(self):\n",
    "    \n",
    "        '''To return the dictionary of indecies that satisfy the given target'''\n",
    "        Num_ele = len(self.lst)\n",
    "        lst2 = []\n",
    "        for i in range(Num_ele):\n",
    "            for j in range(Num_ele):\n",
    "                if self.lst[i]+self.lst[j] == self.target:\n",
    "                    lst2.append([i,j])\n",
    "        dict = {i+1:lst2[i] for i in range(len(lst2))}\n",
    "        return dict"
   ]
  },
  {
   "cell_type": "code",
   "execution_count": 19,
   "id": "682cf0d8",
   "metadata": {},
   "outputs": [],
   "source": [
    "def input_list():\n",
    "      \n",
    "    '''For taking input as list'''\n",
    "\n",
    "    \n",
    "    input_string = input('Enter list of numbers with a comma: ')\n",
    "    lst = input_string.split(',')\n",
    "    lst = [int(i) for i in lst]\n",
    "    return lst"
   ]
  },
  {
   "cell_type": "markdown",
   "id": "425e052b",
   "metadata": {},
   "source": [
    "#### <font color = 'magenta'>Test Cases</font>"
   ]
  },
  {
   "cell_type": "code",
   "execution_count": 15,
   "id": "22d291b1",
   "metadata": {},
   "outputs": [
    {
     "name": "stdout",
     "output_type": "stream",
     "text": [
      "Indices that give the required target are :  {1: [0, 3], 2: [2, 3], 3: [3, 0], 4: [3, 2]}\n"
     ]
    }
   ],
   "source": [
    "lis = [10,20,10,40,50,60,70]\n",
    "tar = 50\n",
    "i1 = Indecies(lis,tar)\n",
    "print(\"Indices that give the required target are : \",i1.target_check())"
   ]
  },
  {
   "cell_type": "code",
   "execution_count": 17,
   "id": "7f19d4b6",
   "metadata": {},
   "outputs": [
    {
     "name": "stdout",
     "output_type": "stream",
     "text": [
      "Indices that give the required target are:  {1: [0, 2], 2: [2, 0], 3: [4, 6], 4: [5, 7], 5: [6, 4], 6: [7, 5]}\n"
     ]
    }
   ],
   "source": [
    "lis = [14, 15, 25, 36, 17, 18, 22, 21]\n",
    "tar = 39\n",
    "i2 = Indecies(lis,tar)\n",
    "print(\"Indices that give the required target are: \", i2.target_check())"
   ]
  },
  {
   "cell_type": "code",
   "execution_count": 20,
   "id": "b83d1cd1",
   "metadata": {},
   "outputs": [
    {
     "name": "stdout",
     "output_type": "stream",
     "text": [
      "Enter list of numbers with a comma: 4,10,6,14,18,19,20\n",
      "Target : 20\n",
      "\n",
      "Indices that give the required target are:  {1: [1, 1], 2: [2, 3], 3: [3, 2]}\n"
     ]
    }
   ],
   "source": [
    "## To manually enter the input into to computer try this way.\n",
    "lis = input_list()\n",
    "tar = int(input('Target : '))\n",
    "i3 = Indecies(lis,tar)\n",
    "print(\"\\nIndices that give the required target are: \", i3.target_check())\n",
    "\n",
    "## copy paste the below list\n",
    "## 4,10,6,14,18,19,20\n",
    "## target = 20"
   ]
  },
  {
   "cell_type": "code",
   "execution_count": 13,
   "id": "4a134690",
   "metadata": {},
   "outputs": [
    {
     "name": "stdout",
     "output_type": "stream",
     "text": [
      "Enter list of numbers with a comma: 1,2,3,4,5,6,7,8,9,10\n",
      "Target : 20\n",
      "\n",
      "Indices that give the required target are:  {1: [9, 9]}\n"
     ]
    }
   ],
   "source": [
    "## To try for any other input use this cell\n",
    "lis = input_list()\n",
    "tar = int(input('Target : '))\n",
    "\n",
    "print(\"\\nIndices that give the required target are: \", target_check(lis,tar))\n",
    "\n",
    "## Type the list of numbers seperated by comma in first prompt.\n",
    "## Type the required target in second prompt."
   ]
  },
  {
   "cell_type": "markdown",
   "id": "5be9820a",
   "metadata": {},
   "source": [
    "## <font color = 'red'>Quote :- <font color = 'blue'>Code never lies, Comments sometimes do.</font>"
   ]
  }
 ],
 "metadata": {
  "kernelspec": {
   "display_name": "Python 3",
   "language": "python",
   "name": "python3"
  },
  "language_info": {
   "codemirror_mode": {
    "name": "ipython",
    "version": 3
   },
   "file_extension": ".py",
   "mimetype": "text/x-python",
   "name": "python",
   "nbconvert_exporter": "python",
   "pygments_lexer": "ipython3",
   "version": "3.9.4"
  }
 },
 "nbformat": 4,
 "nbformat_minor": 5
}
