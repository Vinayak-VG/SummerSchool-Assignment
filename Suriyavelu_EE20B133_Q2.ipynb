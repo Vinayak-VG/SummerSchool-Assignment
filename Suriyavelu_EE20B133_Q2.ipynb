{
  "nbformat": 4,
  "nbformat_minor": 0,
  "metadata": {
    "colab": {
      "name": "Suriyavelu_EE20B133_Q2.ipynb",
      "provenance": []
    },
    "kernelspec": {
      "name": "python3",
      "display_name": "Python 3"
    },
    "language_info": {
      "name": "python"
    }
  },
  "cells": [
    {
      "cell_type": "code",
      "metadata": {
        "colab": {
          "base_uri": "https://localhost:8080/"
        },
        "id": "xRR9cFX0XVRr",
        "outputId": "3758de43-d55a-42cd-fa2a-a06e1dee0f6b"
      },
      "source": [
        "class AddandCompare:\n",
        "\n",
        "  dummy = 'A' \n",
        "\n",
        "  def __init__(self,inarr,target):\n",
        "\n",
        "    self.inarr = inarr \n",
        "    self.target = target \n",
        "  def show(self):  \n",
        "        \n",
        "    print('imput array: ', self.inarr)\n",
        "    print('target: ', self.target)\n",
        "    print('dummy: ', self.dummy)\n",
        "\n",
        "  def final(self): \n",
        "\n",
        "    count = 1\n",
        "    output = {}\n",
        "\n",
        "    for i in range(len(self.inarr)):\n",
        "      for j in range(len(self.inarr)):\n",
        "\n",
        "        if(self.inarr[i]+self.inarr[j] == self.target and i!=j):\n",
        "          output[count] = list([i,j])\n",
        "          count = count + 1\n",
        "    return output\n",
        "\n",
        "Arr1 = []\n",
        "Target = 0\n",
        "m = 0\n",
        "\n",
        "print(\"Enter the target\")\n",
        "Target = int(input())\n",
        "\n",
        "print(\"Enter the number of entries\")\n",
        "m = int(input())\n",
        "\n",
        "print(\"Enter the elements\")\n",
        "for i in range(m):\n",
        "  element = int(input())\n",
        "  Arr1.append(element)\n",
        "\n",
        "\n",
        "Obj1 = AddandCompare(Arr1,Target) #Creating class instance\n",
        "Obj1.show()\n",
        "print(Obj1.final()) #Printing the output1"
      ],
      "execution_count": 6,
      "outputs": [
        {
          "output_type": "stream",
          "text": [
            "Enter the target\n",
            "38\n",
            "Enter the number of entries\n",
            "8\n",
            "Enter the elements\n",
            "16\n",
            "17\n",
            "26\n",
            "28\n",
            "31\n",
            "38\n",
            "43\n",
            "47\n",
            "imput array:  [16, 17, 26, 28, 31, 38, 43, 47]\n",
            "target:  38\n",
            "dummy:  A\n",
            "{}\n"
          ],
          "name": "stdout"
        }
      ]
    }
  ]
}