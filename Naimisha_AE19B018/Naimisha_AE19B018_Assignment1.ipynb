{
  "nbformat": 4,
  "nbformat_minor": 0,
  "metadata": {
    "colab": {
      "name": "Naimisha_AE19B018_Assignment1",
      "provenance": []
    },
    "kernelspec": {
      "name": "python3",
      "display_name": "Python 3"
    },
    "language_info": {
      "name": "python"
    }
  },
  "cells": [
    {
      "cell_type": "markdown",
      "metadata": {
        "id": "4W2NSClyI-4D"
      },
      "source": [
        "## **QUESTION - 1**\n",
        "*Cross Entropy Calculation*\n"
      ]
    },
    {
      "cell_type": "code",
      "metadata": {
        "id": "f31Fbm4DsrCz"
      },
      "source": [
        "import numpy as np\n",
        "n=100\n",
        "y_hat = np.random.rand(100)\n",
        "y = np.random.randint(0,2,100)\n",
        "sumation = y*np.log2(y_hat)+(1-y)*np.log2(1-y_hat)\n",
        "cross_entropy = -1*np.sum(sumation)/n\n",
        "print(cross_entropy)"
      ],
      "execution_count": null,
      "outputs": []
    },
    {
      "cell_type": "markdown",
      "metadata": {
        "id": "2krZWK_dZqsM"
      },
      "source": [
        "## **QUESTION - 2**\n",
        "*Finding pair of elements whose sum equal to a target using class*"
      ]
    },
    {
      "cell_type": "code",
      "metadata": {
        "id": "n_GdQhwFRY3L"
      },
      "source": [
        "class Target:\n",
        "  # class variables\n",
        "  solutions = {}\n",
        "\n",
        "  def __init__(self, target, num):\n",
        "    self.target = target\n",
        "    self.num = num\n",
        "    k = 1\n",
        "    for i in range(0,len(num)):                   \n",
        "      for j in range(0,len(num)):\n",
        "        if (self.target == self.num[i]+self.num[j]):        \n",
        "           self.solutions[k] = [i,j]                  \n",
        "           k=k+1\n",
        "\n",
        "    if (k == 1 ):                \n",
        "      print(\"No solutions exist\")\n",
        "    else :\n",
        "      print(self.solutions)\n",
        "\n"
      ],
      "execution_count": null,
      "outputs": []
    }
  ]
}