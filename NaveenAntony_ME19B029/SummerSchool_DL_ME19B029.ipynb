{
 "cells": [
  {
   "cell_type": "markdown",
   "metadata": {
    "id": "fE99n6b4_01N"
   },
   "source": [
    "## Question1\n"
   ]
  },
  {
   "cell_type": "code",
   "execution_count": 1,
   "metadata": {
    "colab": {
     "base_uri": "https://localhost:8080/"
    },
    "id": "LxUFSxvQ3HKt",
    "outputId": "15d82240-90bf-412b-a738-9f5f654303c9"
   },
   "outputs": [
    {
     "name": "stdout",
     "output_type": "stream",
     "text": [
      "1.4462413169182882\n"
     ]
    }
   ],
   "source": [
    "import numpy as np\n",
    "n=100\n",
    "y = np.random.randint(0,2,(n,1))\n",
    "y_hat=np.random.rand(n,1)\n",
    "o = (-1/n)*np.sum(y*(np.log2(y_hat))+(1-y)*(np.log2(1-y_hat)))\n",
    "print(o)\n"
   ]
  },
  {
   "cell_type": "markdown",
   "metadata": {
    "id": "f_AxpJ7sAG9A"
   },
   "source": [
    "## Test Case\n"
   ]
  },
  {
   "cell_type": "code",
   "execution_count": 2,
   "metadata": {
    "colab": {
     "base_uri": "https://localhost:8080/"
    },
    "id": "WGuYsjbH6Oj6",
    "outputId": "0d499a82-0cf3-40b1-dfa7-7a82fca14688"
   },
   "outputs": [
    {
     "name": "stdout",
     "output_type": "stream",
     "text": [
      "1.4752965067943886 1.47529\n"
     ]
    }
   ],
   "source": [
    "n = 5\n",
    "y_hat = np.array([0.32, 0.56, 0.71, 0.14, 0.57])\n",
    "y = np.array([1, 0, 1, 1, 0])\n",
    "o = (-1/n)*np.sum(y*(np.log2(y_hat))+(1-y)*(np.log2(1-y_hat)))\n",
    "O = 1.47529\n",
    "print(o,O)\n"
   ]
  },
  {
   "cell_type": "markdown",
   "metadata": {
    "id": "0gNHmlpYBlyx"
   },
   "source": [
    "## Question2"
   ]
  },
  {
   "cell_type": "code",
   "execution_count": 5,
   "metadata": {
    "colab": {
     "base_uri": "https://localhost:8080/"
    },
    "id": "zP6COkCs-WiS",
    "outputId": "88fb3eb0-7bc1-4722-9a4f-38770074cc42"
   },
   "outputs": [],
   "source": [
    "class pairs:\n",
    "  numbers = []\n",
    "  target =0\n",
    "  # member function/ method\n",
    "  def __init__(self,numbers,target):\n",
    "    self.numbers = numbers\n",
    "    self.target = target\n",
    "\n",
    "  def find(self):\n",
    "    Output ={}\n",
    "    k=1\n",
    "    for i in range(len(self.numbers)):\n",
    "      for j in range(len(self.numbers)):\n",
    "        if self.numbers[i]+self.numbers[j]==self.target:\n",
    "          Output[k] = [i,j]\n",
    "          k=k+1\n",
    "    print(Output)"
   ]
  },
  {
   "cell_type": "markdown",
   "metadata": {},
   "source": [
    "## Test Case"
   ]
  },
  {
   "cell_type": "code",
   "execution_count": 6,
   "metadata": {},
   "outputs": [
    {
     "name": "stdout",
     "output_type": "stream",
     "text": [
      "{1: [0, 2], 2: [2, 0], 3: [4, 6], 4: [5, 7], 5: [6, 4], 6: [7, 5]}\n"
     ]
    }
   ],
   "source": [
    "numbers= [14, 15, 25, 36, 17, 18, 22, 21]\n",
    "Target=39\n",
    "l=pairs(numbers,Target)\n",
    "l.find()"
   ]
  }
 ],
 "metadata": {
  "colab": {
   "collapsed_sections": [],
   "name": "SummerSchool_DL_ME19B029.ipynb",
   "provenance": [],
   "toc_visible": true
  },
  "kernelspec": {
   "display_name": "Python 3",
   "language": "python",
   "name": "python3"
  },
  "language_info": {
   "codemirror_mode": {
    "name": "ipython",
    "version": 3
   },
   "file_extension": ".py",
   "mimetype": "text/x-python",
   "name": "python",
   "nbconvert_exporter": "python",
   "pygments_lexer": "ipython3",
   "version": "3.7.7"
  }
 },
 "nbformat": 4,
 "nbformat_minor": 1
}
