{
  "nbformat": 4,
  "nbformat_minor": 0,
  "metadata": {
    "colab": {
      "name": "SummerSchoolAssignment 1.ipynb",
      "provenance": [],
      "collapsed_sections": []
    },
    "kernelspec": {
      "name": "python3",
      "display_name": "Python 3"
    },
    "language_info": {
      "name": "python"
    }
  },
  "cells": [
    {
      "cell_type": "code",
      "metadata": {
        "id": "pGhDd_G23Z-g"
      },
      "source": [
        "import numpy as np"
      ],
      "execution_count": 2,
      "outputs": []
    },
    {
      "cell_type": "markdown",
      "metadata": {
        "id": "zWn1IzDq2woH"
      },
      "source": [
        "# **Question 1**\n",
        "Create two vectors 𝑦 and 𝑦̂ having the same dimensions, where 𝑦̂ should\n",
        "consist of random numbers between [0,1) and 𝑦 should contain 0𝑠 and\n",
        "1𝑠, for example, 𝑦=[0,1,1,0,1,0,0,1,...,1]. Compute the given expression:\n",
        "\n",
        "(Crossentropy loss function)\n",
        "\n",
        "Where n = 100, is the total number of elements in y and 𝑦̂"
      ]
    },
    {
      "cell_type": "markdown",
      "metadata": {
        "id": "tn5IEzEX2jWO"
      },
      "source": [
        "# **Solution 1**"
      ]
    },
    {
      "cell_type": "code",
      "metadata": {
        "id": "x0_x7gG51whU"
      },
      "source": [
        "def Crossentropy(n):\n",
        "  y_hat = np.random.rand(n)\n",
        "  y = np.random.randint(0, 2, n)\n",
        "  O = -np.average(y*np.log2(y_hat)+(1-y)*np.log2(1-y_hat))\n",
        "  return O"
      ],
      "execution_count": 12,
      "outputs": []
    },
    {
      "cell_type": "code",
      "metadata": {
        "colab": {
          "base_uri": "https://localhost:8080/"
        },
        "id": "QUEay1lO5CLo",
        "outputId": "943dd7a9-f278-49ac-fa02-f8c9fde3112f"
      },
      "source": [
        "n = int(input(\"Enter a natural number :\"))\n",
        "Crossentropy(n)"
      ],
      "execution_count": 13,
      "outputs": [
        {
          "output_type": "stream",
          "text": [
            "Enter a natural number :100\n"
          ],
          "name": "stdout"
        },
        {
          "output_type": "execute_result",
          "data": {
            "text/plain": [
              "1.2882644485160537"
            ]
          },
          "metadata": {
            "tags": []
          },
          "execution_count": 13
        }
      ]
    },
    {
      "cell_type": "markdown",
      "metadata": {
        "id": "cua50XQh53ho"
      },
      "source": [
        "# **Question 2**\n",
        "Write a Python class to find a pair of elements (indices of the two\n",
        "numbers) from a given array whose sum equals a specific target\n",
        "number."
      ]
    },
    {
      "cell_type": "markdown",
      "metadata": {
        "id": "Z8FshbOE6FlO"
      },
      "source": [
        "# **Solution 2**"
      ]
    },
    {
      "cell_type": "code",
      "metadata": {
        "id": "UMCPcFNk6FQ_"
      },
      "source": [
        "class sum_target():\n",
        "\n",
        "  def __init__(self, array, target):\n",
        "    self.array = array\n",
        "    self.target = target\n",
        "    self.d = dict()\n",
        "\n",
        "  def find_dict(self):\n",
        "    n = len(self.array)\n",
        "    Ar = self.array\n",
        "    count = 1\n",
        "    for i in range(n):\n",
        "      for j in range(n):\n",
        "        if Ar[i] + Ar[j] == self.target:\n",
        "          self.d[count] = [i, j]\n",
        "          count += 1\n",
        "    return self.d"
      ],
      "execution_count": 20,
      "outputs": []
    },
    {
      "cell_type": "markdown",
      "metadata": {
        "id": "YYkMs52i5Sxp"
      },
      "source": [
        "###Test Case 1"
      ]
    },
    {
      "cell_type": "code",
      "metadata": {
        "colab": {
          "base_uri": "https://localhost:8080/"
        },
        "id": "xdNeH17exyEz",
        "outputId": "1e2fa6e9-a4ca-42f5-bf99-923e58d9162f"
      },
      "source": [
        "array1 = [10, 20, 10, 40, 50, 60, 70]\n",
        "target1 = 50\n",
        "C1 = sum_target(array1, target1)\n",
        "C1.find_dict()"
      ],
      "execution_count": 21,
      "outputs": [
        {
          "output_type": "execute_result",
          "data": {
            "text/plain": [
              "{1: [0, 3], 2: [2, 3], 3: [3, 0], 4: [3, 2]}"
            ]
          },
          "metadata": {
            "tags": []
          },
          "execution_count": 21
        }
      ]
    },
    {
      "cell_type": "markdown",
      "metadata": {
        "id": "XUnVJD7Q5Yd4"
      },
      "source": [
        "###Test Case 2"
      ]
    },
    {
      "cell_type": "code",
      "metadata": {
        "colab": {
          "base_uri": "https://localhost:8080/"
        },
        "id": "J0dVhMdP0vfb",
        "outputId": "fc5b8de7-1c62-40d9-efb7-d7df882b5187"
      },
      "source": [
        "array2 = [14, 15, 25, 36, 17, 18, 22, 21]\n",
        "target2 = 39\n",
        "C2 = sum_target(array2, target2)\n",
        "C2.find_dict()"
      ],
      "execution_count": 22,
      "outputs": [
        {
          "output_type": "execute_result",
          "data": {
            "text/plain": [
              "{1: [0, 2], 2: [2, 0], 3: [4, 6], 4: [5, 7], 5: [6, 4], 6: [7, 5]}"
            ]
          },
          "metadata": {
            "tags": []
          },
          "execution_count": 22
        }
      ]
    },
    {
      "cell_type": "markdown",
      "metadata": {
        "id": "o0pQf9Lj5Zv5"
      },
      "source": [
        "###Test Case 3"
      ]
    },
    {
      "cell_type": "code",
      "metadata": {
        "colab": {
          "base_uri": "https://localhost:8080/"
        },
        "id": "PTO7G8ET1P0C",
        "outputId": "9985108f-d0d7-43fb-846d-90c4c501b880"
      },
      "source": [
        "array3 =  [4, 10, 6, 14, 18, 19, 20]\n",
        "target3 = 20\n",
        "C3 = sum_target(array3, target3)\n",
        "C3.find_dict()"
      ],
      "execution_count": 23,
      "outputs": [
        {
          "output_type": "execute_result",
          "data": {
            "text/plain": [
              "{1: [1, 1], 2: [2, 3], 3: [3, 2]}"
            ]
          },
          "metadata": {
            "tags": []
          },
          "execution_count": 23
        }
      ]
    }
  ]
}