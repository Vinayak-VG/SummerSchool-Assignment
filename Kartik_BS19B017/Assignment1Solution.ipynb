{
 "cells": [
  {
   "cell_type": "code",
   "execution_count": 2,
   "id": "60320a78",
   "metadata": {},
   "outputs": [],
   "source": [
    "import numpy as np\n"
   ]
  },
  {
   "cell_type": "code",
   "execution_count": 4,
   "id": "5a329bec",
   "metadata": {},
   "outputs": [
    {
     "name": "stdout",
     "output_type": "stream",
     "text": [
      "Enter the length of the vectors -- 4\n",
      "The Cross Entropy loss function value is found to be 1.129825259665121\n"
     ]
    }
   ],
   "source": [
    "# Question 1 \n",
    "\n",
    "n = int(input(\"Enter the length of the vectors -- \"))\n",
    "ycap = np.random.random(n)\n",
    "y = np.random.randint(0,2,n)\n",
    "O = sum((-1/n)*(y*np.log2(ycap) + (1-y)*np.log2(1-ycap)))\n",
    "print(f'The Cross Entropy loss function value is found to be {O}')\n",
    "\n"
   ]
  },
  {
   "cell_type": "code",
   "execution_count": 11,
   "id": "3634b25c",
   "metadata": {},
   "outputs": [
    {
     "name": "stdout",
     "output_type": "stream",
     "text": [
      "Enter the list items : 20 30 40 50 60 70\n",
      "Enter the Target Number : 90\n",
      "{1: [0, 5], 2: [1, 4], 3: [2, 3]}\n"
     ]
    }
   ],
   "source": [
    "# Question 2\n",
    "class Pairfinder:\n",
    "    def __init__(self,Input_numbers,Target_number):\n",
    "        self.Input_numbers = Input_numbers\n",
    "        self.Target_number = Target_number\n",
    "        self.dict = {}\n",
    "    \n",
    "    def find(self):\n",
    "        m = 1\n",
    "        for i in range(len(self.Input_numbers)):\n",
    "            for j in range(i+1,len(self.Input_numbers)):\n",
    "                if (self.Input_numbers[i] + self.Input_numbers[j] == self.Target_number):\n",
    "                    self.dict[m] = [i,j]\n",
    "                    m+=1\n",
    "        print(self.dict)            \n",
    "listA = [int(item) for item in input(\"Enter the list items : \").split()] \n",
    "Target = int(input(\"Enter the Target Number : \"))\n",
    "pk = Pairfinder(listA,Target)\n",
    "pk.find()\n",
    "        \n",
    "    \n",
    "\n",
    "\n"
   ]
  },
  {
   "cell_type": "code",
   "execution_count": null,
   "id": "d9e61fd4",
   "metadata": {},
   "outputs": [],
   "source": []
  }
 ],
 "metadata": {
  "kernelspec": {
   "display_name": "Python 3",
   "language": "python",
   "name": "python3"
  },
  "language_info": {
   "codemirror_mode": {
    "name": "ipython",
    "version": 3
   },
   "file_extension": ".py",
   "mimetype": "text/x-python",
   "name": "python",
   "nbconvert_exporter": "python",
   "pygments_lexer": "ipython3",
   "version": "3.8.8"
  }
 },
 "nbformat": 4,
 "nbformat_minor": 5
}
