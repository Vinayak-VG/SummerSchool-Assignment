{
  "nbformat": 4,
  "nbformat_minor": 0,
  "metadata": {
    "colab": {
      "name": "Assignment 1.ipynb",
      "provenance": []
    },
    "kernelspec": {
      "name": "python3",
      "display_name": "Python 3"
    },
    "language_info": {
      "name": "python"
    }
  },
  "cells": [
    {
      "cell_type": "markdown",
      "metadata": {
        "id": "M8DzHAkjI2BI"
      },
      "source": [
        "# Question 1"
      ]
    },
    {
      "cell_type": "code",
      "metadata": {
        "id": "G8AWXLmPJOyZ"
      },
      "source": [
        "import numpy as np\n",
        "import math"
      ],
      "execution_count": null,
      "outputs": []
    },
    {
      "cell_type": "code",
      "metadata": {
        "id": "hKEevCkCKSM-"
      },
      "source": [
        "y_hat = np.random.rand(100)\n",
        "y = np.random.randint(0, 2, size = (100))"
      ],
      "execution_count": null,
      "outputs": []
    },
    {
      "cell_type": "code",
      "metadata": {
        "colab": {
          "base_uri": "https://localhost:8080/"
        },
        "id": "9sEQNwKPNeJj",
        "outputId": "b972e954-8f6e-4599-a2e7-065680003231"
      },
      "source": [
        "sum = 0\n",
        "for i in range(0, 100):\n",
        "  sum += y[i]*math.log(y_hat[i], 2) + (1-y[i])*math.log((1-y_hat[i]), 2)\n",
        "\n",
        "O = (-1/100)*sum\n",
        "print(O)"
      ],
      "execution_count": null,
      "outputs": [
        {
          "output_type": "stream",
          "text": [
            "1.373900941192613\n"
          ],
          "name": "stdout"
        }
      ]
    },
    {
      "cell_type": "markdown",
      "metadata": {
        "id": "AqKbUgn1XR3-"
      },
      "source": [
        "# Question 2"
      ]
    },
    {
      "cell_type": "code",
      "metadata": {
        "id": "UOQj8rW0XXCc",
        "colab": {
          "base_uri": "https://localhost:8080/"
        },
        "outputId": "297c954b-89ae-4ca1-8441-258fea1f6946"
      },
      "source": [
        "class Solutions():\n",
        "\n",
        "  def __init__(self, array, target):\n",
        "\n",
        "    self.array = array\n",
        "    self.target = target\n",
        "\n",
        "  def find(self):\n",
        "\n",
        "    sol_list = []\n",
        "    sol_dict = {}\n",
        "\n",
        "    for i in range(0, len(self.array)):\n",
        "      for j in range(0, len(self.array)):\n",
        "        if(self.array[i] + self.array[j] == self.target):\n",
        "          sol_list.append([i, j])\n",
        "    \n",
        "    for i in range(1, (len(sol_list)+1)):\n",
        "      sol_dict[i] = sol_list[i-1]\n",
        "    \n",
        "    print(sol_dict)"
      ],
      "execution_count": null,
      "outputs": [
        {
          "output_type": "stream",
          "text": [
            "{1: [1, 1], 2: [2, 3], 3: [3, 2]}\n"
          ],
          "name": "stdout"
        }
      ]
    }
  ]
}