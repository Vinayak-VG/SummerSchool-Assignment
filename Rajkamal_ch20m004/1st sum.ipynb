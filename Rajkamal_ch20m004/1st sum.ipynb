{
 "cells": [
  {
   "cell_type": "code",
   "execution_count": null,
   "id": "lesser-pastor",
   "metadata": {},
   "outputs": [],
   "source": [
    "# 1st sum"
   ]
  },
  {
   "cell_type": "code",
   "execution_count": null,
   "id": "naked-plaza",
   "metadata": {},
   "outputs": [],
   "source": [
    "import numpy as np\n",
    "import math"
   ]
  },
  {
   "cell_type": "code",
   "execution_count": 8,
   "id": "legal-identifier",
   "metadata": {},
   "outputs": [
    {
     "name": "stdout",
     "output_type": "stream",
     "text": [
      "1.5295289404058274\n"
     ]
    }
   ],
   "source": [
    "ycap = np.random.rand(100)\n",
    "y = np.random.randint(0,2,100)\n",
    "sum = 0\n",
    "for i in range(100):\n",
    "    sum = sum + y[i]*math.log2(ycap[i]) + (1-y[i])*math.log2(1-ycap[i])\n",
    "o = (-1)*sum/100\n",
    "print(o)"
   ]
  }
 ],
 "metadata": {
  "kernelspec": {
   "display_name": "Python 3",
   "language": "python",
   "name": "python3"
  },
  "language_info": {
   "codemirror_mode": {
    "name": "ipython",
    "version": 3
   },
   "file_extension": ".py",
   "mimetype": "text/x-python",
   "name": "python",
   "nbconvert_exporter": "python",
   "pygments_lexer": "ipython3",
   "version": "3.6.13"
  }
 },
 "nbformat": 4,
 "nbformat_minor": 5
}
