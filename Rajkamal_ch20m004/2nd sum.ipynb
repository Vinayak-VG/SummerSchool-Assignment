{
 "cells": [
  {
   "cell_type": "code",
   "execution_count": 1,
   "id": "enhanced-script",
   "metadata": {},
   "outputs": [
    {
     "data": {
      "text/plain": [
       "{1: [0, 3], 2: [2, 3], 3: [3, 0], 4: [3, 2]}"
      ]
     },
     "execution_count": 1,
     "metadata": {},
     "output_type": "execute_result"
    }
   ],
   "source": [
    "\n",
    "def pair(num,target):\n",
    "    key=1\n",
    "    output ={}\n",
    "    for i in range(len(num)):\n",
    "        for j in range(len(num)):\n",
    "            if num[i]+num[j]==target:\n",
    "                output[key]=[i,j]\n",
    "                key =key+1\n",
    "    return output\n",
    "#example\n",
    "num = [10,20,10,40,50,60,70]\n",
    "target = 50\n",
    "pair(num,target)\n"
   ]
  }
 ],
 "metadata": {
  "kernelspec": {
   "display_name": "Python 3",
   "language": "python",
   "name": "python3"
  },
  "language_info": {
   "codemirror_mode": {
    "name": "ipython",
    "version": 3
   },
   "file_extension": ".py",
   "mimetype": "text/x-python",
   "name": "python",
   "nbconvert_exporter": "python",
   "pygments_lexer": "ipython3",
   "version": "3.6.13"
  }
 },
 "nbformat": 4,
 "nbformat_minor": 5
}
