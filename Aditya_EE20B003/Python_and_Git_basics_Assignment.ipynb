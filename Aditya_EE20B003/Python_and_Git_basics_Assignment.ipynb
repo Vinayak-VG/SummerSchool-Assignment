{
  "nbformat": 4,
  "nbformat_minor": 0,
  "metadata": {
    "colab": {
      "name": "Python and Git basics Assignment.ipynb",
      "provenance": [],
      "collapsed_sections": []
    },
    "kernelspec": {
      "name": "python3",
      "display_name": "Python 3"
    },
    "language_info": {
      "name": "python"
    }
  },
  "cells": [
    {
      "cell_type": "code",
      "metadata": {
        "id": "BRR_JUY1jYsT"
      },
      "source": [
        "import numpy as np\n",
        "import math"
      ],
      "execution_count": 1,
      "outputs": []
    },
    {
      "cell_type": "markdown",
      "metadata": {
        "id": "ogGbyCcUiWbp"
      },
      "source": [
        "Problem 1:"
      ]
    },
    {
      "cell_type": "code",
      "metadata": {
        "colab": {
          "base_uri": "https://localhost:8080/"
        },
        "id": "KQ6IRdJdj8mq",
        "outputId": "47d0940a-e8b3-4011-f93a-525652173d79"
      },
      "source": [
        "n=100\n",
        "\n",
        "y = np.random.randint(0,2,n) #Set containing 0s and 1s\n",
        "ycap = np.random.rand(n) #Set containing numbers in the range [0,1)\n",
        "print(y)\n",
        "print(ycap)"
      ],
      "execution_count": null,
      "outputs": [
        {
          "output_type": "stream",
          "text": [
            "[0 1 1 1 1 0 1 0 0 0 0 0 0 1 1 0 1 0 1 0 0 0 0 1 0 0 0 0 1 0 1 1 1 0 0 0 0\n",
            " 0 1 1 0 0 0 1 1 1 0 0 0 0 1 1 1 1 0 1 0 0 0 1 1 1 0 0 0 1 1 0 1 1 0 1 0 1\n",
            " 0 0 0 1 0 0 1 0 0 1 1 0 1 0 0 0 1 1 0 0 0 0 1 0 1 1]\n",
            "[0.19859087 0.5558713  0.29553023 0.28534675 0.32243635 0.39125612\n",
            " 0.41475292 0.72396044 0.5534336  0.3767708  0.36902626 0.23781218\n",
            " 0.27243609 0.05285706 0.22636573 0.75274853 0.78845318 0.53105516\n",
            " 0.93513604 0.80257182 0.37562662 0.50866465 0.88453773 0.86432128\n",
            " 0.62833562 0.81850995 0.09780084 0.20571575 0.4610744  0.89506102\n",
            " 0.17341398 0.87462312 0.69965188 0.66250099 0.55572671 0.95575086\n",
            " 0.07477253 0.58944333 0.50440878 0.31181818 0.2055618  0.55235967\n",
            " 0.9851994  0.4915321  0.78316839 0.28498682 0.50987054 0.51515735\n",
            " 0.49626999 0.67306452 0.11235747 0.80709293 0.74477789 0.31915448\n",
            " 0.16105593 0.53716827 0.62880346 0.72527338 0.63960659 0.2352858\n",
            " 0.09044252 0.31931129 0.52095659 0.98360362 0.09886573 0.1816966\n",
            " 0.22854929 0.47860298 0.33309291 0.6954464  0.40397687 0.10625342\n",
            " 0.4435781  0.76506162 0.4394713  0.17900818 0.66972888 0.7814685\n",
            " 0.16546546 0.75829196 0.74404703 0.12712097 0.62944428 0.90389994\n",
            " 0.44320091 0.3134099  0.98566718 0.36073306 0.92440473 0.81336724\n",
            " 0.06304694 0.54361035 0.02894076 0.32530433 0.89250828 0.30486081\n",
            " 0.98643191 0.98587485 0.48301173 0.63741269]\n"
          ],
          "name": "stdout"
        }
      ]
    },
    {
      "cell_type": "code",
      "metadata": {
        "colab": {
          "base_uri": "https://localhost:8080/"
        },
        "id": "Q2WpIJxrlI8B",
        "outputId": "eef7cf37-a58b-492f-84df-cd39f2c36d91"
      },
      "source": [
        "sum=0\n",
        "\n",
        "for i in range(n):\n",
        "  sum = sum + y[i]*math.log2(ycap[i]) + (1-y[i])*math.log2(1-ycap[i])\n",
        "\n",
        "CrossEnt = sum*(-1/n) #Computing cross-entropy loss\n",
        "\n",
        "print(CrossEnt)"
      ],
      "execution_count": null,
      "outputs": [
        {
          "output_type": "stream",
          "text": [
            "1.4143027178748289\n"
          ],
          "name": "stdout"
        }
      ]
    },
    {
      "cell_type": "markdown",
      "metadata": {
        "id": "4u9n9UH4jacU"
      },
      "source": [
        "Problem 2:"
      ]
    },
    {
      "cell_type": "code",
      "metadata": {
        "id": "psKVA72gnZAq"
      },
      "source": [
        "class AddnCompare:\n",
        "\n",
        "  dummy = 'dummy' #Dummy class variable\n",
        "\n",
        "  def __init__(self,inarr,target):\n",
        "\n",
        "    self.inarr = inarr #Input array\n",
        "    self.target = target #Input target\n",
        "\n",
        "  def show(self):  \n",
        "        \n",
        "    print('imput array: ', self.inarr)\n",
        "    print('target: ', self.target)\n",
        "    print('dummy: ', self.dummy)\n",
        "\n",
        "  def core(self): #Function that returns the final output\n",
        "\n",
        "    count = 1\n",
        "    output = {}\n",
        "\n",
        "    for i in range(len(self.inarr)):\n",
        "      for j in range(len(self.inarr)):\n",
        "\n",
        "        if(self.inarr[i]+self.inarr[j] == self.target and i!=j):\n",
        "          output[count] = list([i,j])\n",
        "          count = count + 1\n",
        "    return output"
      ],
      "execution_count": 28,
      "outputs": []
    },
    {
      "cell_type": "code",
      "metadata": {
        "colab": {
          "base_uri": "https://localhost:8080/"
        },
        "id": "phZA2fMXs9nd",
        "outputId": "3e4168a4-b2e3-4d12-c843-bc04db391c73"
      },
      "source": [
        "#Inputting array and target from user\n",
        "\n",
        "Arr1 = []\n",
        "Target = 0\n",
        "m = 0\n",
        "\n",
        "print(\"Input the target\")\n",
        "Target = int(input())\n",
        "\n",
        "print(\"Input the number of entries\")\n",
        "m = int(input())\n",
        "\n",
        "print(\"Enter the elements\")\n",
        "for i in range(m):\n",
        "  element = int(input())\n",
        "  Arr1.append(element)"
      ],
      "execution_count": 26,
      "outputs": [
        {
          "output_type": "stream",
          "text": [
            "Input the target\n",
            "39\n",
            "Input the number of entries\n",
            "8\n",
            "Enter the elements\n",
            "14\n",
            "15\n",
            "25\n",
            "36\n",
            "17\n",
            "18\n",
            "22\n",
            "21\n"
          ],
          "name": "stdout"
        }
      ]
    },
    {
      "cell_type": "code",
      "metadata": {
        "id": "TgBMMTnUjecS"
      },
      "source": [
        ""
      ],
      "execution_count": null,
      "outputs": []
    },
    {
      "cell_type": "code",
      "metadata": {
        "colab": {
          "base_uri": "https://localhost:8080/"
        },
        "id": "ww_u5Ap8wEKt",
        "outputId": "b2179a5c-5d62-40cc-f48c-bb0ceab600e6"
      },
      "source": [
        "Obj1 = AddnCompare(Arr1,Target) #Creating class instance\n",
        "Obj1.show()\n",
        "print(Obj1.function()) #Printing the output\n"
      ],
      "execution_count": 27,
      "outputs": [
        {
          "output_type": "stream",
          "text": [
            "imput array:  [14, 15, 25, 36, 17, 18, 22, 21]\n",
            "target:  39\n",
            "dummy:  dummy\n",
            "{1: [0, 2], 2: [2, 0], 3: [4, 6], 4: [5, 7], 5: [6, 4], 6: [7, 5]}\n"
          ],
          "name": "stdout"
        }
      ]
    }
  ]
}