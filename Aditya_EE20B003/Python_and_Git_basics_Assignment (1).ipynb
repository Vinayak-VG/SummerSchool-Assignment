{
  "nbformat": 4,
  "nbformat_minor": 0,
  "metadata": {
    "colab": {
      "name": "Python and Git basics Assignment.ipynb",
      "provenance": [],
      "collapsed_sections": []
    },
    "kernelspec": {
      "name": "python3",
      "display_name": "Python 3"
    },
    "language_info": {
      "name": "python"
    }
  },
  "cells": [
    {
      "cell_type": "code",
      "metadata": {
        "id": "BRR_JUY1jYsT"
      },
      "source": [
        "import numpy as np\n",
        "import math"
      ],
      "execution_count": 1,
      "outputs": []
    },
    {
      "cell_type": "markdown",
      "metadata": {
        "id": "ogGbyCcUiWbp"
      },
      "source": [
        "Problem 1:"
      ]
    },
    {
      "cell_type": "code",
      "metadata": {
        "colab": {
          "base_uri": "https://localhost:8080/"
        },
        "id": "KQ6IRdJdj8mq",
        "outputId": "50fa23c3-3c24-4e55-a6d0-ccd433074da9"
      },
      "source": [
        "n=int(input())\n",
        "\n",
        "y = np.random.randint(0,2,n) #Set containing 0s and 1s\n",
        "ycap = np.random.rand(n) #Set containing numbers in the range [0,1)\n",
        "print(y)\n",
        "print(ycap)"
      ],
      "execution_count": 2,
      "outputs": [
        {
          "output_type": "stream",
          "text": [
            "50\n",
            "[0 0 0 1 1 1 1 1 0 1 0 1 0 0 0 1 0 0 1 1 1 0 0 0 1 1 1 1 0 0 1 0 1 0 1 1 1\n",
            " 1 1 0 0 1 0 0 0 1 0 1 1 1]\n",
            "[0.74369943 0.97230088 0.56028441 0.35331877 0.07338132 0.39765492\n",
            " 0.26765393 0.94904963 0.52730548 0.12045212 0.5290577  0.13823312\n",
            " 0.24463211 0.44989201 0.12490287 0.41147083 0.06396403 0.3870589\n",
            " 0.6375101  0.36939317 0.19091558 0.84376698 0.49083555 0.75256247\n",
            " 0.64501483 0.19041955 0.11464999 0.05730088 0.05173079 0.27989751\n",
            " 0.73820172 0.09561589 0.42244148 0.10054952 0.6187197  0.36831558\n",
            " 0.41178597 0.69584816 0.81668073 0.68450101 0.7654248  0.73758272\n",
            " 0.33408145 0.93205541 0.90006527 0.13715753 0.56268999 0.13402632\n",
            " 0.89002095 0.32597697]\n"
          ],
          "name": "stdout"
        }
      ]
    },
    {
      "cell_type": "code",
      "metadata": {
        "colab": {
          "base_uri": "https://localhost:8080/"
        },
        "id": "Q2WpIJxrlI8B",
        "outputId": "19607e41-9827-47ec-9348-e516034cc888"
      },
      "source": [
        "sum=0\n",
        "\n",
        "for i in range(n):\n",
        "  sum = sum + y[i]*math.log2(ycap[i]) + (1-y[i])*math.log2(1-ycap[i])\n",
        "\n",
        "CrossEnt = sum*(-1/n) #Computing cross-entropy loss\n",
        "\n",
        "print(CrossEnt)"
      ],
      "execution_count": 3,
      "outputs": [
        {
          "output_type": "stream",
          "text": [
            "1.5284426006224152\n"
          ],
          "name": "stdout"
        }
      ]
    },
    {
      "cell_type": "markdown",
      "metadata": {
        "id": "4u9n9UH4jacU"
      },
      "source": [
        "Problem 2:"
      ]
    },
    {
      "cell_type": "code",
      "metadata": {
        "id": "psKVA72gnZAq"
      },
      "source": [
        "class AddnCompare:\n",
        "\n",
        "  dummy = 'dummy' #Dummy class variable\n",
        "\n",
        "  def __init__(self,inarr,target):\n",
        "\n",
        "    self.inarr = inarr #Input array\n",
        "    self.target = target #Input target\n",
        "\n",
        "  def show(self):  \n",
        "        \n",
        "    print('imput array: ', self.inarr)\n",
        "    print('target: ', self.target)\n",
        "    print('dummy: ', self.dummy)\n",
        "\n",
        "  def core(self): #Function that returns the final output\n",
        "\n",
        "    count = 1\n",
        "    output = {}\n",
        "\n",
        "    for i in range(len(self.inarr)):\n",
        "      for j in range(len(self.inarr)):\n",
        "\n",
        "        if(self.inarr[i]+self.inarr[j] == self.target and i!=j):\n",
        "          output[count] = list([i,j])\n",
        "          count = count + 1\n",
        "    return output"
      ],
      "execution_count": 4,
      "outputs": []
    },
    {
      "cell_type": "code",
      "metadata": {
        "colab": {
          "base_uri": "https://localhost:8080/"
        },
        "id": "phZA2fMXs9nd",
        "outputId": "1d759720-a39a-4086-ef37-56f770e5a363"
      },
      "source": [
        "1#Inputting array and target from user\n",
        "\n",
        "Arr1 = []\n",
        "Target = 0\n",
        "m = 0\n",
        "\n",
        "print(\"Input the target\")\n",
        "Target = int(input())\n",
        "\n",
        "print(\"Input the number of entries\")\n",
        "m = int(input())\n",
        "\n",
        "print(\"Enter the elements\")\n",
        "for i in range(m):\n",
        "  element = int(input())\n",
        "  Arr1.append(element)"
      ],
      "execution_count": 6,
      "outputs": [
        {
          "output_type": "stream",
          "text": [
            "Input the target\n",
            "50\n",
            "Input the number of entries\n",
            "7\n",
            "Enter the elements\n",
            "10\n",
            "20\n",
            "10\n",
            "40\n",
            "50\n",
            "60\n",
            "70\n"
          ],
          "name": "stdout"
        }
      ]
    },
    {
      "cell_type": "code",
      "metadata": {
        "colab": {
          "base_uri": "https://localhost:8080/"
        },
        "id": "ww_u5Ap8wEKt",
        "outputId": "ed456a62-b089-47dd-e3ef-7edd1430ffe1"
      },
      "source": [
        "Obj1 = AddnCompare(Arr1,Target) #Creating class instance\n",
        "Obj1.show()\n",
        "print(Obj1.core()) #Printing the output\n"
      ],
      "execution_count": 7,
      "outputs": [
        {
          "output_type": "stream",
          "text": [
            "imput array:  [10, 20, 10, 40, 50, 60, 70]\n",
            "target:  50\n",
            "dummy:  dummy\n",
            "{1: [0, 3], 2: [2, 3], 3: [3, 0], 4: [3, 2]}\n"
          ],
          "name": "stdout"
        }
      ]
    }
  ]
}