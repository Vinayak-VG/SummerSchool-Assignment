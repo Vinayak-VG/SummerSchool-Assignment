{
  "nbformat": 4,
  "nbformat_minor": 0,
  "metadata": {
    "colab": {
      "name": "Python_and_Git_basics_assignment.ipynb",
      "provenance": [],
      "collapsed_sections": []
    },
    "kernelspec": {
      "name": "python3",
      "display_name": "Python 3"
    },
    "language_info": {
      "name": "python"
    }
  },
  "cells": [
    {
      "cell_type": "markdown",
      "metadata": {
        "id": "iJ30MCq0vSKM"
      },
      "source": [
        "#Question 1"
      ]
    },
    {
      "cell_type": "code",
      "metadata": {
        "colab": {
          "base_uri": "https://localhost:8080/"
        },
        "id": "kTx77Km8oTCW",
        "outputId": "dc891a9e-c286-4912-ca17-50715c2198c6"
      },
      "source": [
        "import numpy as np\n",
        "n=100\n",
        "y_cap = np.random.rand(n)\n",
        "y=np.random.choice([0,1],size=n)\n",
        "cross_entropy_O = -(1/n)*np.sum(y*np.log2(y_cap) + (1-y)*np.log2(1-y_cap))\n",
        "cross_entropy_O"
      ],
      "execution_count": null,
      "outputs": [
        {
          "output_type": "execute_result",
          "data": {
            "text/plain": [
              "1.18547573258328"
            ]
          },
          "metadata": {
            "tags": []
          },
          "execution_count": 1
        }
      ]
    },
    {
      "cell_type": "markdown",
      "metadata": {
        "id": "K-JA51lxvW5K"
      },
      "source": [
        "#Question2"
      ]
    },
    {
      "cell_type": "code",
      "metadata": {
        "colab": {
          "base_uri": "https://localhost:8080/"
        },
        "id": "rbHF99j7r1Hk",
        "outputId": "09febe39-438a-4e79-cf74-bad10ec9359b"
      },
      "source": [
        "class PairWithSpecificTarget:\n",
        "\n",
        "  def __init__(self,numbers,target):\n",
        "    self.numbers=numbers\n",
        "    self.target=target\n",
        "    \n",
        "  def findpair(self):\n",
        "    d={}\n",
        "    soln_number=1\n",
        "    for i in range(len(self.numbers)):\n",
        "      for j in range(len(self.numbers)):\n",
        "        if self.numbers[i]+self.numbers[j]==self.target:\n",
        "          d[soln_number]=[i,j]\n",
        "          soln_number+=1\n",
        "    return d\n",
        "\n",
        "\n",
        "c=PairWithSpecificTarget(numbers=[10,20,10,40,50,60,70],target=50)\n",
        "c.findpair()"
      ],
      "execution_count": null,
      "outputs": [
        {
          "output_type": "execute_result",
          "data": {
            "text/plain": [
              "{1: [0, 3], 2: [2, 3], 3: [3, 0], 4: [3, 2]}"
            ]
          },
          "metadata": {
            "tags": []
          },
          "execution_count": 2
        }
      ]
    },
    {
      "cell_type": "code",
      "metadata": {
        "id": "Ji7gBkzTuvhc"
      },
      "source": [
        ""
      ],
      "execution_count": null,
      "outputs": []
    }
  ]
}