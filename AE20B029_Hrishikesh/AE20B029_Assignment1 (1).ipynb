{
  "nbformat": 4,
  "nbformat_minor": 0,
  "metadata": {
    "colab": {
      "name": "AE20B029_Assignment1.ipynb",
      "provenance": [],
      "collapsed_sections": []
    },
    "kernelspec": {
      "name": "python3",
      "display_name": "Python 3"
    },
    "language_info": {
      "name": "python"
    }
  },
  "cells": [
    {
      "cell_type": "code",
      "metadata": {
        "colab": {
          "base_uri": "https://localhost:8080/"
        },
        "id": "wpe5mq-S9cR4",
        "outputId": "c515c86a-3151-4c64-fa5c-6cdc3670e1e3"
      },
      "source": [
        "import numpy as np\n",
        "n = int(input(\"Enter numbre:\"))\n",
        "y_hat = np.random.rand(n)\n",
        "y = np.random.randint(0, 2, n)\n",
        "O = -np.average(y*np.log2(y_hat)+(1-y)*np.log2(1-y_hat))\n"
      ],
      "execution_count": 41,
      "outputs": [
        {
          "output_type": "stream",
          "text": [
            "Enter numbre:4\n",
            "[0.81651512 0.45295872 0.86467513 0.47749297]\n"
          ],
          "name": "stdout"
        }
      ]
    },
    {
      "cell_type": "code",
      "metadata": {
        "colab": {
          "base_uri": "https://localhost:8080/"
        },
        "id": "_UvdGVOrse-3",
        "outputId": "0713d6da-e44a-4ca4-8bdc-ec274b35ac11"
      },
      "source": [
        "\n",
        "class sumtarget():\n",
        "  def __init__(self,array,target):\n",
        "    self.array = array\n",
        "    self.target = target\n",
        "    self.d = dict()\n",
        "  def dictionary(self):\n",
        "    n=len(self.array)\n",
        "    ar=self.array\n",
        "    count=1\n",
        "    for i in range(n):\n",
        "     for j in range(n):\n",
        "      if ar[i]+ar[j]==self.target:\n",
        "        self.d[count]=[i,j]\n",
        "        count+=1\n",
        "    return self.d\n",
        "array1=[10,20,10,40,50,60,70]\n",
        "target1=50\n",
        "c1=sumtarget(array1,target1)\n",
        "c1.dictionary()"
      ],
      "execution_count": null,
      "outputs": [
        {
          "output_type": "execute_result",
          "data": {
            "text/plain": [
              "{1: [0, 3], 2: [2, 3], 3: [3, 0], 4: [3, 2]}"
            ]
          },
          "metadata": {
            "tags": []
          },
          "execution_count": 8
        }
      ]
    }
  ]
}