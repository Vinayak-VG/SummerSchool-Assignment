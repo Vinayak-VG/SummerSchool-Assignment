{
 "cells": [
  {
   "cell_type": "markdown",
   "id": "66f716df",
   "metadata": {},
   "source": [
    "#                            Assignment Solutions\n"
   ]
  },
  {
   "cell_type": "markdown",
   "id": "9b21c569",
   "metadata": {},
   "source": [
    "### Question-1"
   ]
  },
  {
   "cell_type": "code",
   "execution_count": 5,
   "id": "d9d08bdc",
   "metadata": {},
   "outputs": [
    {
     "name": "stdout",
     "output_type": "stream",
     "text": [
      "1.2711076236992371\n"
     ]
    }
   ],
   "source": [
    "import numpy as np\n",
    "def cross_entropy(y,Y):\n",
    "    func = -(Y*np.log2(y)+(1-Y)*np.log2(1-y))\n",
    "    return np.mean(func,axis=0)[0]\n",
    "y = np.random.rand(100,1)\n",
    "Y = np.random.randint(0,2,size=(100,1))\n",
    "print(cross_entropy(y,Y))"
   ]
  },
  {
   "cell_type": "markdown",
   "id": "c6ccb950",
   "metadata": {},
   "source": [
    "### Question-2\n"
   ]
  },
  {
   "cell_type": "code",
   "execution_count": 19,
   "id": "13efb0d4",
   "metadata": {},
   "outputs": [
    {
     "name": "stdout",
     "output_type": "stream",
     "text": [
      "{0: [0, 2], 1: [4, 6], 2: [5, 7], 4: [2, 0], 5: [6, 4], 6: [7, 5]}\n"
     ]
    }
   ],
   "source": [
    "class ldict:\n",
    "    def __init__(self,lst):\n",
    "        self.lst=lst\n",
    "    def find_target(self,var):\n",
    "        count=0\n",
    "        final_dict={}\n",
    "        for i in range(len(self.lst)):\n",
    "            for j in range(i+1,len(self.lst)):\n",
    "                if self.lst[i]+self.lst[j]==var:\n",
    "                    final_dict[count]=[i,j]\n",
    "                    count+=1\n",
    "        val = count\n",
    "        for key in range(val):\n",
    "            count+=1\n",
    "            final_dict[count]=sorted(final_dict[key],reverse=True)\n",
    "        return final_dict\n",
    "inp = ldict( [14, 15, 25, 36, 17, 18, 22, 21])\n",
    "print(inp.find_target(39))\n",
    "        "
   ]
  }
 ],
 "metadata": {
  "kernelspec": {
   "display_name": "Python 3",
   "language": "python",
   "name": "python3"
  },
  "language_info": {
   "codemirror_mode": {
    "name": "ipython",
    "version": 3
   },
   "file_extension": ".py",
   "mimetype": "text/x-python",
   "name": "python",
   "nbconvert_exporter": "python",
   "pygments_lexer": "ipython3",
   "version": "3.8.8"
  }
 },
 "nbformat": 4,
 "nbformat_minor": 5
}
