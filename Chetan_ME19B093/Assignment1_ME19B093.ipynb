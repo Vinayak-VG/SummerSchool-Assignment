{
  "nbformat": 4,
  "nbformat_minor": 0,
  "metadata": {
    "colab": {
      "name": "Assignment1_ME19B093.ipynb",
      "provenance": []
    },
    "kernelspec": {
      "name": "python3",
      "display_name": "Python 3"
    },
    "language_info": {
      "name": "python"
    }
  },
  "cells": [
    {
      "cell_type": "markdown",
      "metadata": {
        "id": "uV00sFzKnA3-"
      },
      "source": [
        "### **Q1**"
      ]
    },
    {
      "cell_type": "code",
      "metadata": {
        "id": "-fQseXpfnEAw"
      },
      "source": [
        "import numpy as np\n",
        "\n",
        "def cross_entropy(y,y_hat):\n",
        "    n = y.shape[0]\n",
        "    return -(1/n)*((y*np.log2(y_hat)).sum()+((1-y)*np.log2(1-y_hat)).sum())\n"
      ],
      "execution_count": 1,
      "outputs": []
    },
    {
      "cell_type": "code",
      "metadata": {
        "id": "ubiinM0dnjZ-"
      },
      "source": [
        "#generating random vectors\n",
        "n=100\n",
        "y_hat = np.random.uniform(size=n)\n",
        "y = np.random.choice([0,1],n)"
      ],
      "execution_count": 57,
      "outputs": []
    },
    {
      "cell_type": "code",
      "metadata": {
        "colab": {
          "base_uri": "https://localhost:8080/"
        },
        "id": "Png4N6g0offT",
        "outputId": "629fa9dc-93b0-4fd1-ad2a-3d5f80f91985"
      },
      "source": [
        "cross_entropy(y,y_hat)"
      ],
      "execution_count": 58,
      "outputs": [
        {
          "output_type": "execute_result",
          "data": {
            "text/plain": [
              "1.3851782083021675"
            ]
          },
          "metadata": {
            "tags": []
          },
          "execution_count": 58
        }
      ]
    },
    {
      "cell_type": "markdown",
      "metadata": {
        "id": "sqoK8nvDsu0M"
      },
      "source": [
        "**Test Cases**"
      ]
    },
    {
      "cell_type": "code",
      "metadata": {
        "colab": {
          "base_uri": "https://localhost:8080/"
        },
        "id": "RK2QNnjcsTh1",
        "outputId": "dca1d63e-a59b-4cbc-ec7c-6c8ac649a4d5"
      },
      "source": [
        "y_hat = np.array([0.32, 0.56, 0.71, 0.14, 0.57])\n",
        "y = np.array([1, 0, 1, 1, 0])\n",
        "cross_entropy(y,y_hat)"
      ],
      "execution_count": 59,
      "outputs": [
        {
          "output_type": "execute_result",
          "data": {
            "text/plain": [
              "1.4752965067943886"
            ]
          },
          "metadata": {
            "tags": []
          },
          "execution_count": 59
        }
      ]
    },
    {
      "cell_type": "code",
      "metadata": {
        "colab": {
          "base_uri": "https://localhost:8080/"
        },
        "id": "NFt8qHYzsh-B",
        "outputId": "530719d7-ffc2-4d20-e201-8c18ee159cd3"
      },
      "source": [
        "y_hat = np.array([0.23, 0.54, 0.61, 0.89])\n",
        "y = np.array([0, 0, 1, 1])\n",
        "cross_entropy(y,y_hat)"
      ],
      "execution_count": 60,
      "outputs": [
        {
          "output_type": "execute_result",
          "data": {
            "text/plain": [
              "0.5946513734544252"
            ]
          },
          "metadata": {
            "tags": []
          },
          "execution_count": 60
        }
      ]
    },
    {
      "cell_type": "code",
      "metadata": {
        "colab": {
          "base_uri": "https://localhost:8080/"
        },
        "id": "qqFcFBhNsj8N",
        "outputId": "e71a4276-c8a6-442e-c669-f47b31ff99a9"
      },
      "source": [
        "y_hat = np.array([0.45, 0.10, 0.99, 0.32, 0.78, 0.81, 0.27])\n",
        "y = np.array([1, 0, 1, 1, 1, 0, 0])\n",
        "cross_entropy(y,y_hat)"
      ],
      "execution_count": 61,
      "outputs": [
        {
          "output_type": "execute_result",
          "data": {
            "text/plain": [
              "0.881539460642609"
            ]
          },
          "metadata": {
            "tags": []
          },
          "execution_count": 61
        }
      ]
    },
    {
      "cell_type": "code",
      "metadata": {
        "id": "IOvb7bZzs1DM"
      },
      "source": [
        ""
      ],
      "execution_count": null,
      "outputs": []
    },
    {
      "cell_type": "markdown",
      "metadata": {
        "id": "8_o3kTXis1ny"
      },
      "source": [
        "### **Q2**"
      ]
    },
    {
      "cell_type": "code",
      "metadata": {
        "id": "L7D9ZPCps5Ts"
      },
      "source": [
        "class Solver:\n",
        "    def solve_it(self,nums,target):\n",
        "        output = {}\n",
        "        s_no = 1\n",
        "        for i in range(len(nums)):\n",
        "            for j in range(len(nums)):\n",
        "                if nums[i]+nums[j]==target:\n",
        "                    output[s_no] = [i,j]\n",
        "                    s_no += 1\n",
        "\n",
        "        print(output)"
      ],
      "execution_count": 2,
      "outputs": []
    },
    {
      "cell_type": "code",
      "metadata": {
        "id": "MKWlx0MCwNjb"
      },
      "source": [
        "solver = Solver()"
      ],
      "execution_count": 3,
      "outputs": []
    },
    {
      "cell_type": "markdown",
      "metadata": {
        "id": "OwVZG28lw-LP"
      },
      "source": [
        "**Test Cases**"
      ]
    },
    {
      "cell_type": "code",
      "metadata": {
        "colab": {
          "base_uri": "https://localhost:8080/"
        },
        "id": "5hIUfXcGuBwi",
        "outputId": "eddfbf1e-d3c3-4c58-9bfb-c9efdcfcef9c"
      },
      "source": [
        "numbers1 = [10, 20, 10, 40, 50, 60, 70]\n",
        "target1 = 50\n",
        "solver.solve_it(numbers1,target1)"
      ],
      "execution_count": 7,
      "outputs": [
        {
          "output_type": "stream",
          "text": [
            "{1: [0, 3], 2: [2, 3], 3: [3, 0], 4: [3, 2]}\n"
          ],
          "name": "stdout"
        }
      ]
    },
    {
      "cell_type": "code",
      "metadata": {
        "colab": {
          "base_uri": "https://localhost:8080/"
        },
        "id": "_oNm4R3Lv22i",
        "outputId": "17503943-1cc1-475d-f6c6-bc707eb14b45"
      },
      "source": [
        "numbers2 = [14, 15, 25, 36, 17, 18, 22, 21]\n",
        "target2 = 39\n",
        "solver.solve_it(numbers2,target2)"
      ],
      "execution_count": 6,
      "outputs": [
        {
          "output_type": "stream",
          "text": [
            "{1: [0, 2], 2: [2, 0], 3: [4, 6], 4: [5, 7], 5: [6, 4], 6: [7, 5]}\n"
          ],
          "name": "stdout"
        }
      ]
    },
    {
      "cell_type": "code",
      "metadata": {
        "colab": {
          "base_uri": "https://localhost:8080/"
        },
        "id": "QXkMM3oDv3XI",
        "outputId": "dc636224-b6da-4058-eba7-0da7e512fda7"
      },
      "source": [
        "numbers3 = [4, 10, 6, 14, 18, 19, 20]\n",
        "target3 = 20\n",
        "solver.solve_it(numbers3,target3)"
      ],
      "execution_count": 5,
      "outputs": [
        {
          "output_type": "stream",
          "text": [
            "{1: [1, 1], 2: [2, 3], 3: [3, 2]}\n"
          ],
          "name": "stdout"
        }
      ]
    }
  ]
}