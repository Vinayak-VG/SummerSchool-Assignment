{
  "nbformat": 4,
  "nbformat_minor": 0,
  "metadata": {
    "colab": {
      "name": "Q1.ipynb",
      "provenance": [],
      "collapsed_sections": []
    },
    "kernelspec": {
      "name": "python3",
      "display_name": "Python 3"
    },
    "language_info": {
      "name": "python"
    }
  },
  "cells": [
    {
      "cell_type": "code",
      "metadata": {
        "id": "HaDt3rDz1bUC"
      },
      "source": [
        "import numpy as np\n",
        "import math"
      ],
      "execution_count": null,
      "outputs": []
    },
    {
      "cell_type": "code",
      "metadata": {
        "colab": {
          "base_uri": "https://localhost:8080/"
        },
        "id": "o6PlTyJ01Afi",
        "outputId": "c46dab95-a292-4670-83ad-79d8092c67cf"
      },
      "source": [
        "print(\"Enter the number of columns\")\n",
        "n=int(input())\n",
        "y=np.random.randint(0,2,n)\n",
        "y_hat=np.random.rand(n)\n",
        "print(\"y = \",y)\n",
        "print(\"y_hat = \",y_hat) \n",
        "c=(-1/(n)) \n",
        "s=0 \n",
        "for j in range(0,n):\n",
        "   t=y[j]\n",
        "   f=y_hat[j]\n",
        "   s+= t * math.log2(f) + (1-t) * math.log2(1-f)\n",
        "\n",
        "\n",
        "O = c * s\n",
        "print(\"O = \", O)"
      ],
      "execution_count": null,
      "outputs": [
        {
          "output_type": "stream",
          "text": [
            "Enter the number of columns\n",
            "5\n",
            "y =  [0 0 1 1 1]\n",
            "y_hat =  [0.20491511 0.92070817 0.00199273 0.32092752 0.70042551]\n",
            "O =  3.022383121939012\n"
          ],
          "name": "stdout"
        }
      ]
    },
    {
      "cell_type": "markdown",
      "metadata": {
        "id": "S5ayNK6B49YE"
      },
      "source": [
        "Test Cases shown below."
      ]
    },
    {
      "cell_type": "code",
      "metadata": {
        "colab": {
          "base_uri": "https://localhost:8080/"
        },
        "id": "IpSplxaJ3DVW",
        "outputId": "ebe5c584-5a26-42e0-a04d-8cd862b675ae"
      },
      "source": [
        "y=np.array([1,0,1,1,0])\n",
        "y_hat=np.array([0.32,0.56,0.71,0.14,0.57])\n",
        "c=(-1/(5)) \n",
        "s=0\n",
        "for j in range(0,5):\n",
        "   t=y[j]\n",
        "   f=y_hat[j]\n",
        "   s+= t * math.log2(f) + (1-t) * math.log2(1-f)\n",
        "\n",
        "\n",
        "O = c * s\n",
        "print(\"O = \", O)\n"
      ],
      "execution_count": null,
      "outputs": [
        {
          "output_type": "stream",
          "text": [
            "O =  1.4752965067943886\n"
          ],
          "name": "stdout"
        }
      ]
    },
    {
      "cell_type": "markdown",
      "metadata": {
        "id": "1MPONiQV353M"
      },
      "source": [
        "This is Test Case 1"
      ]
    },
    {
      "cell_type": "code",
      "metadata": {
        "colab": {
          "base_uri": "https://localhost:8080/"
        },
        "id": "F_dSUc6-4ETE",
        "outputId": "14bf74d0-c287-4eb5-f794-60464a684a90"
      },
      "source": [
        "y=np.array([0,0,1,1])\n",
        "y_hat=np.array([0.23,0.54,0.61,0.89])\n",
        "c=(-1/(4)) \n",
        "s=0\n",
        "for j in range(0,4):\n",
        "   t=y[j]\n",
        "   f=y_hat[j]\n",
        "   s+= t * math.log2(f) + (1-t) * math.log2(1-f)\n",
        "\n",
        "\n",
        "O = c * s\n",
        "print(\"O = \", O)"
      ],
      "execution_count": null,
      "outputs": [
        {
          "output_type": "stream",
          "text": [
            "O =  0.5946513734544251\n"
          ],
          "name": "stdout"
        }
      ]
    },
    {
      "cell_type": "markdown",
      "metadata": {
        "id": "2PcoEDwh4WtM"
      },
      "source": [
        "This is Test Case 2"
      ]
    },
    {
      "cell_type": "code",
      "metadata": {
        "colab": {
          "base_uri": "https://localhost:8080/"
        },
        "id": "6XhV-4m84WPt",
        "outputId": "a2a3452d-22c9-4447-ac31-a8bc0654ad12"
      },
      "source": [
        "y=np.array([1,0,1,1,1,0,0])\n",
        "y_hat=np.array([0.45,0.10,0.99,0.32,0.78,0.81,0.27])\n",
        "c=(-1/(7)) \n",
        "s=0\n",
        "for j in range(0,7):\n",
        "   t=y[j]\n",
        "   f=y_hat[j]\n",
        "   s+= t * math.log2(f) + (1-t) * math.log2(1-f)\n",
        "\n",
        "\n",
        "O = c * s\n",
        "print(\"O = \", O)"
      ],
      "execution_count": null,
      "outputs": [
        {
          "output_type": "stream",
          "text": [
            "O =  0.881539460642609\n"
          ],
          "name": "stdout"
        }
      ]
    },
    {
      "cell_type": "markdown",
      "metadata": {
        "id": "YVyVL1NE42z9"
      },
      "source": [
        "This is Test Case 3"
      ]
    }
  ]
}