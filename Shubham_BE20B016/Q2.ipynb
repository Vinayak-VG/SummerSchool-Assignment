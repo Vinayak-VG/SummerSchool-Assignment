{
  "nbformat": 4,
  "nbformat_minor": 0,
  "metadata": {
    "colab": {
      "name": "Q2.ipynb",
      "provenance": [],
      "collapsed_sections": []
    },
    "kernelspec": {
      "name": "python3",
      "display_name": "Python 3"
    },
    "language_info": {
      "name": "python"
    }
  },
  "cells": [
    {
      "cell_type": "code",
      "metadata": {
        "id": "J8yGFGByDaqB"
      },
      "source": [
        "import numpy as np"
      ],
      "execution_count": null,
      "outputs": []
    },
    {
      "cell_type": "code",
      "metadata": {
        "colab": {
          "base_uri": "https://localhost:8080/"
        },
        "id": "6wJ695fIGJpP",
        "outputId": "4c12d6db-6229-4751-ba2f-c1e328ba778f"
      },
      "source": [
        "class finder:\n",
        "  \n",
        "  def arr(self):\n",
        "    Sno={}\n",
        "    print(\"Enter inputs for the array.\")\n",
        "    x=np.array(input().split())\n",
        "    print(\"The array is = \", x)\n",
        "    print(\"Enter the target.\")\n",
        "    t=input()\n",
        "    print(\"The target is = \", t)\n",
        "    s=x.size\n",
        "    print(\"s = \", s)\n",
        "    a=1\n",
        "    for i in range(0,s-1):\n",
        "\n",
        "        for j in range(0,s):\n",
        "      \n",
        "           if ((x[i]+x[j])==t):\n",
        "             Sno= dict([(a,np.array([i,j]))])\n",
        "             a=a+1 \n",
        "\n",
        "    print(Sno)\n",
        "\n",
        "c=finder()\n",
        "c.arr()\n",
        "\n"
      ],
      "execution_count": null,
      "outputs": [
        {
          "output_type": "stream",
          "text": [
            "Enter inputs for the array.\n",
            "10 20 10 40 50 60 70\n",
            "The array is =  ['10' '20' '10' '40' '50' '60' '70']\n",
            "Enter the target.\n",
            "50\n",
            "The target is =  50\n",
            "s =  7\n",
            "{}\n"
          ],
          "name": "stdout"
        }
      ]
    },
    {
      "cell_type": "markdown",
      "metadata": {
        "id": "OLXOn7SxcGpO"
      },
      "source": [
        "Not working :("
      ]
    }
  ]
}