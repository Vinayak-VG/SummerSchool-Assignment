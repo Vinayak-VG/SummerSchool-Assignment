{
  "nbformat": 4,
  "nbformat_minor": 0,
  "metadata": {
    "colab": {
      "name": "Q1forFun.ipynb",
      "provenance": [],
      "collapsed_sections": []
    },
    "kernelspec": {
      "name": "python3",
      "display_name": "Python 3"
    },
    "language_info": {
      "name": "python"
    }
  },
  "cells": [
    {
      "cell_type": "code",
      "metadata": {
        "id": "b4rWmGZ9MaX-"
      },
      "source": [
        "import numpy as np\n",
        "import math"
      ],
      "execution_count": null,
      "outputs": []
    },
    {
      "cell_type": "code",
      "metadata": {
        "colab": {
          "base_uri": "https://localhost:8080/"
        },
        "id": "Oabm_bm7P4Ie",
        "outputId": "93da7916-43a0-4229-80ea-cce0ab2d444f"
      },
      "source": [
        "print(\"Enter the number of rows\")\n",
        "a=int(input())\n",
        "print(\"Enter the number of columns\")\n",
        "b=int(input())\n",
        "y=np.random.randint(0,2,(a,b))\n",
        "y_hat=np.random.rand(a,b)\n",
        "print(\"y = \",y)\n",
        "print(\"y_hat = \",y_hat) \n",
        "c=(-1/(a*b)) \n",
        "s=0 \n",
        "for i in range(0,a):\n",
        "  for j in range(0,b):\n",
        "    t=y[i,j]\n",
        "    f=y_hat[i,j]\n",
        "    s+= t * math.log2(f) + (1-t) * math.log2(1-f)\n",
        "\n",
        "\n",
        "O = c * s\n",
        "print(\"O = \", O)"
      ],
      "execution_count": null,
      "outputs": [
        {
          "output_type": "stream",
          "text": [
            "Enter the number of rows\n",
            "2\n",
            "Enter the number of columns\n",
            "3\n",
            "y =  [[0 0 1]\n",
            " [1 0 1]]\n",
            "y_hat =  [[0.90880212 0.10737897 0.13749641]\n",
            " [0.83202544 0.94651644 0.09176669]]\n",
            "O =  2.4028695266892854\n"
          ],
          "name": "stdout"
        }
      ]
    }
  ]
}