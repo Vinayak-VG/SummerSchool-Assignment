{
 "cells": [
  {
   "cell_type": "markdown",
   "id": "59431369",
   "metadata": {},
   "source": [
    "# Assignment 1 - DL Summer Camp\n",
    "\n",
    "Name: Vineeth Kada \\\n",
    "Roll No: CS19B080"
   ]
  },
  {
   "cell_type": "code",
   "execution_count": 1,
   "id": "ddf4400a",
   "metadata": {},
   "outputs": [],
   "source": [
    "import numpy as np"
   ]
  },
  {
   "cell_type": "markdown",
   "id": "9a38902d",
   "metadata": {},
   "source": [
    "## Question 1"
   ]
  },
  {
   "cell_type": "code",
   "execution_count": 60,
   "id": "42885dac",
   "metadata": {},
   "outputs": [],
   "source": [
    "n = 10000\n",
    "y_cap = np.random.rand(n) # Taking from uniform dist. [0, 1)\n",
    "y = np.random.randint(0, 2, n) # Taking random integers form discrete uniform dist {0, 1}\n",
    "# print('y = ', y, '\\ny_cap = ', y_cap)"
   ]
  },
  {
   "cell_type": "code",
   "execution_count": 61,
   "id": "275d4fa8",
   "metadata": {},
   "outputs": [
    {
     "name": "stdout",
     "output_type": "stream",
     "text": [
      "cross_entropy is 1.061582555875133\n"
     ]
    }
   ],
   "source": [
    "cross_entropy = np.sum( y*np.log2(y_cap) + (1-y_cap)*(np.log2(1-y_cap) ))*(-1/n)\n",
    "print('cross_entropy is', cross_entropy)"
   ]
  },
  {
   "cell_type": "markdown",
   "id": "60a0fefb",
   "metadata": {},
   "source": [
    "## Question 2"
   ]
  },
  {
   "cell_type": "code",
   "execution_count": 76,
   "id": "1cdc568d",
   "metadata": {},
   "outputs": [],
   "source": [
    "class ClassLOL:\n",
    "    def __init__(self, a):\n",
    "        self.data = a\n",
    "        \n",
    "    def findPairs(self, key):\n",
    "        a = self.data\n",
    "        last = 1\n",
    "        dict = {}\n",
    "        for i in range(len(a)):\n",
    "            for j in range(len(a)):\n",
    "                if(a[i] + a[j] == key):\n",
    "                    dict[last] = [i, j]\n",
    "                    last += 1\n",
    "        return dict"
   ]
  },
  {
   "cell_type": "code",
   "execution_count": 77,
   "id": "80bd9119",
   "metadata": {},
   "outputs": [
    {
     "name": "stdout",
     "output_type": "stream",
     "text": [
      "{1: [0, 3], 2: [2, 3], 3: [3, 0], 4: [3, 2], 5: [7, 7]}\n"
     ]
    }
   ],
   "source": [
    "a = ClassLOL([10,20,10,40,50,60,70, 25])\n",
    "print(a.findPairs(50))"
   ]
  }
 ],
 "metadata": {
  "kernelspec": {
   "display_name": "Python 3",
   "language": "python",
   "name": "python3"
  },
  "language_info": {
   "codemirror_mode": {
    "name": "ipython",
    "version": 3
   },
   "file_extension": ".py",
   "mimetype": "text/x-python",
   "name": "python",
   "nbconvert_exporter": "python",
   "pygments_lexer": "ipython3",
   "version": "3.9.5"
  }
 },
 "nbformat": 4,
 "nbformat_minor": 5
}
