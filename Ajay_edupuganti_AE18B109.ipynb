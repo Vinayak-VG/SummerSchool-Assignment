{
  "nbformat": 4,
  "nbformat_minor": 0,
  "metadata": {
    "colab": {
      "name": "Ajay_edupuganti_AE18B109",
      "provenance": []
    },
    "kernelspec": {
      "name": "python3",
      "display_name": "Python 3"
    },
    "language_info": {
      "name": "python"
    }
  },
  "cells": [
    {
      "cell_type": "code",
      "metadata": {
        "id": "IlTQ0trJxnut"
      },
      "source": [
        "import numpy as np\n",
        "import math"
      ],
      "execution_count": 20,
      "outputs": []
    },
    {
      "cell_type": "markdown",
      "metadata": {
        "id": "lJaggBUJ3b9J"
      },
      "source": [
        "**PROBLEM-1**"
      ]
    },
    {
      "cell_type": "code",
      "metadata": {
        "colab": {
          "base_uri": "https://localhost:8080/"
        },
        "id": "qYqmUn3Cxq7X",
        "outputId": "51364d15-d3d9-4308-bad8-48f4d1e7e95d"
      },
      "source": [
        "n = int(input())\n",
        "y1 = np.random.rand(n)\n",
        "y = np.random.randint(0,2,n)\n",
        "print(y1)\n",
        "y"
      ],
      "execution_count": 32,
      "outputs": [
        {
          "output_type": "stream",
          "text": [
            "5\n",
            "[0.90671895 0.34541748 0.74690954 0.98045712 0.81002134]\n"
          ],
          "name": "stdout"
        },
        {
          "output_type": "execute_result",
          "data": {
            "text/plain": [
              "array([0, 1, 0, 0, 1])"
            ]
          },
          "metadata": {
            "tags": []
          },
          "execution_count": 32
        }
      ]
    },
    {
      "cell_type": "code",
      "metadata": {
        "colab": {
          "base_uri": "https://localhost:8080/"
        },
        "id": "TI41wKRwynkj",
        "outputId": "f64dc7b3-ae8e-47ec-848f-5883b5e0a942"
      },
      "source": [
        "O = 0\n",
        "for i in range(1,n):\n",
        "  O = O + (y[i]*np.log2(y1[i])+(1-y[i])*np.log2(1-y1[i]))\n",
        "O = O/(-n)\n",
        "print(O)"
      ],
      "execution_count": 33,
      "outputs": [
        {
          "output_type": "stream",
          "text": [
            "1.8994086409913513\n"
          ],
          "name": "stdout"
        }
      ]
    },
    {
      "cell_type": "markdown",
      "metadata": {
        "id": "RfZhUZjg3soC"
      },
      "source": [
        "**PROBLEM-2**"
      ]
    },
    {
      "cell_type": "code",
      "metadata": {
        "colab": {
          "base_uri": "https://localhost:8080/"
        },
        "id": "3OM2LvXN1iBV",
        "outputId": "9451f1fb-8d3f-4165-aa67-98bf74406813"
      },
      "source": [
        "class find_pair:\n",
        "\n",
        "  def __init__(self,arr,target):\n",
        "    self.arr = arr\n",
        "    self.target = target\n",
        "  def show(self):\n",
        "    dic = {}\n",
        "    k = 0\n",
        "    for i in range(len(self.arr)):\n",
        "      for j in range(len(self.arr)):\n",
        "        if self.arr[i]+self.arr[j] == self.target:\n",
        "          dic[k] = [i,j]\n",
        "          k += 1\n",
        "    print(dic)\n",
        "arr =  [14, 15, 25, 36, 17, 18, 22, 21]\n",
        "target = 39\n",
        "c1 = find_pair(arr,target)\n",
        "c1.show()"
      ],
      "execution_count": 54,
      "outputs": [
        {
          "output_type": "stream",
          "text": [
            "{0: [0, 2], 1: [2, 0], 2: [4, 6], 3: [5, 7], 4: [6, 4], 5: [7, 5]}\n"
          ],
          "name": "stdout"
        }
      ]
    },
    {
      "cell_type": "code",
      "metadata": {
        "id": "S7U16pRc5_N8"
      },
      "source": [
        ""
      ],
      "execution_count": 53,
      "outputs": []
    }
  ]
}