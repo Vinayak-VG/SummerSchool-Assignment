{
  "nbformat": 4,
  "nbformat_minor": 0,
  "metadata": {
    "colab": {
      "name": "DLMC_1.ipynb",
      "provenance": [],
      "collapsed_sections": [],
      "authorship_tag": "ABX9TyMWif6zW4MzTjVVbAHAcG5O",
      "include_colab_link": true
    },
    "kernelspec": {
      "name": "python3",
      "display_name": "Python 3"
    },
    "language_info": {
      "name": "python"
    }
  },
  "cells": [
    {
      "cell_type": "markdown",
      "metadata": {
        "id": "view-in-github",
        "colab_type": "text"
      },
      "source": [
        "<a href=\"https://colab.research.google.com/github/prithvi-raj-b/SummerSchool-Assignment/blob/main/Prithvi%20Raj%20B_ME20B137/Assignment_1.ipynb\" target=\"_parent\"><img src=\"https://colab.research.google.com/assets/colab-badge.svg\" alt=\"Open In Colab\"/></a>"
      ]
    },
    {
      "cell_type": "markdown",
      "metadata": {
        "id": "jaLDCCgiW-Pb"
      },
      "source": [
        "# 1"
      ]
    },
    {
      "cell_type": "code",
      "metadata": {
        "id": "3hysCFAqYDQm"
      },
      "source": [
        "import numpy as np"
      ],
      "execution_count": 32,
      "outputs": []
    },
    {
      "cell_type": "code",
      "metadata": {
        "id": "oPFyqYGXYjti"
      },
      "source": [
        "n=100"
      ],
      "execution_count": 33,
      "outputs": []
    },
    {
      "cell_type": "code",
      "metadata": {
        "id": "CaLBw8ADW93g"
      },
      "source": [
        "y = np.random.randint(2,size=n)\n",
        "ycap = np.random.rand(n)"
      ],
      "execution_count": 34,
      "outputs": []
    },
    {
      "cell_type": "code",
      "metadata": {
        "colab": {
          "base_uri": "https://localhost:8080/"
        },
        "id": "1RjbjJkfZPT7",
        "outputId": "63cd7795-be97-4a31-eb09-bb195f76a4fb"
      },
      "source": [
        "O = sum( (i*np.log2(j)+(1-i)*np.log2(1-j)) for (i,j) in zip(y,ycap) ) * (-1/n)\n",
        "print(O)"
      ],
      "execution_count": 35,
      "outputs": [
        {
          "output_type": "stream",
          "text": [
            "1.6405425660284558\n"
          ],
          "name": "stdout"
        }
      ]
    },
    {
      "cell_type": "markdown",
      "metadata": {
        "id": "fRE83ic4R9SC"
      },
      "source": [
        "# 2"
      ]
    },
    {
      "cell_type": "code",
      "metadata": {
        "id": "KgzCYBvMQo4N"
      },
      "source": [
        "class SumFinder:\n",
        "  \n",
        "  def __init__(self, A, target):\n",
        "    self.result = {}\n",
        "    c = 1\n",
        "    for i in range(len(A)):\n",
        "      for j in range(len(A)):\n",
        "        if A[i] + A[j] == target:\n",
        "          self.result[c] = [i, j]\n",
        "          c += 1\n",
        "    print(self.result)\n"
      ],
      "execution_count": 36,
      "outputs": []
    },
    {
      "cell_type": "code",
      "metadata": {
        "colab": {
          "base_uri": "https://localhost:8080/"
        },
        "id": "-5lOQvj5T8oD",
        "outputId": "6e37b7ac-e30d-4e62-97d0-2ea63fc7aa7e"
      },
      "source": [
        "X = SumFinder([10,20,10,40,50,60,70],50)"
      ],
      "execution_count": 38,
      "outputs": [
        {
          "output_type": "stream",
          "text": [
            "{1: [0, 3], 2: [2, 3], 3: [3, 0], 4: [3, 2]}\n"
          ],
          "name": "stdout"
        }
      ]
    }
  ]
}