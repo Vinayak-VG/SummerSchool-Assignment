{
  "nbformat": 4,
  "nbformat_minor": 0,
  "metadata": {
    "colab": {
      "name": "snehit.ipynb",
      "provenance": []
    },
    "kernelspec": {
      "name": "python3",
      "display_name": "Python 3"
    },
    "language_info": {
      "name": "python"
    }
  },
  "cells": [
    {
      "cell_type": "markdown",
      "metadata": {
        "id": "ketg5wo2xp3o"
      },
      "source": [
        "Question 1"
      ]
    },
    {
      "cell_type": "code",
      "metadata": {
        "id": "x41vcL48u9mh"
      },
      "source": [
        "import numpy as np"
      ],
      "execution_count": 1,
      "outputs": []
    },
    {
      "cell_type": "code",
      "metadata": {
        "id": "fNdaz4hIvBL3"
      },
      "source": [
        "y_hat = np.random.random_sample(100)\n",
        "y = np.random.randint(0,2,100,dtype = np.int32)"
      ],
      "execution_count": 20,
      "outputs": []
    },
    {
      "cell_type": "code",
      "metadata": {
        "id": "WKfoLJzowTYu"
      },
      "source": [
        "O = (-1/100)*np.sum((y*np.log2(y_hat)+(1-y)*np.log2(1-y_hat)))"
      ],
      "execution_count": 24,
      "outputs": []
    },
    {
      "cell_type": "code",
      "metadata": {
        "colab": {
          "base_uri": "https://localhost:8080/"
        },
        "id": "eKujVCe2wy64",
        "outputId": "c7c3222f-c3da-42e8-a3a7-2dbb61175ed0"
      },
      "source": [
        "O"
      ],
      "execution_count": 25,
      "outputs": [
        {
          "output_type": "execute_result",
          "data": {
            "text/plain": [
              "1.1856256238655731"
            ]
          },
          "metadata": {
            "tags": []
          },
          "execution_count": 25
        }
      ]
    },
    {
      "cell_type": "markdown",
      "metadata": {
        "id": "Jt3ETq1Bxtfp"
      },
      "source": [
        "Question 2"
      ]
    },
    {
      "cell_type": "code",
      "metadata": {
        "id": "dEI86RgHxcda"
      },
      "source": [
        "class target:\n",
        "\n",
        "\n",
        "  def __init__(self,target_num,input_list):\n",
        "    d={}\n",
        "    n=1\n",
        "    for i in input_list :\n",
        "      for j in input_list:\n",
        "\n",
        "        if i+j == target_num:\n",
        "          output = [input_list.index(i),input_list.index(j)]\n",
        "          \n",
        "          d[n] = output\n",
        "          n = n+1\n",
        "\n",
        "    self.d = d\n",
        "\n",
        "\n",
        "  def show(self):\n",
        "    print(self.d)\n",
        "          \n",
        "\n",
        "\n"
      ],
      "execution_count": 62,
      "outputs": []
    },
    {
      "cell_type": "code",
      "metadata": {
        "colab": {
          "base_uri": "https://localhost:8080/"
        },
        "id": "0c4kvxka1Tyr",
        "outputId": "ebc5d835-0670-415d-8950-9a90e60c2b4e"
      },
      "source": [
        "c2 = target(9,[0,1,2,3,4,5,6,7,8,9])\n",
        "c2.show()"
      ],
      "execution_count": 63,
      "outputs": [
        {
          "output_type": "stream",
          "text": [
            "{1: [0, 9], 2: [1, 8], 3: [2, 7], 4: [3, 6], 5: [4, 5], 6: [5, 4], 7: [6, 3], 8: [7, 2], 9: [8, 1], 10: [9, 0]}\n"
          ],
          "name": "stdout"
        }
      ]
    },
    {
      "cell_type": "code",
      "metadata": {
        "id": "7v48H4wZ14f9"
      },
      "source": [
        ""
      ],
      "execution_count": null,
      "outputs": []
    }
  ]
}