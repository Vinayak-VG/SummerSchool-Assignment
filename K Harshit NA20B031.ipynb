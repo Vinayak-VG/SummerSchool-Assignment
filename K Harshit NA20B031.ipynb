{
 "cells": [
  {
   "cell_type": "markdown",
   "metadata": {},
   "source": [
    "Question 1"
   ]
  },
  {
   "cell_type": "code",
   "execution_count": 66,
   "metadata": {},
   "outputs": [],
   "source": [
    "import numpy as np"
   ]
  },
  {
   "cell_type": "code",
   "execution_count": 67,
   "metadata": {},
   "outputs": [
    {
     "name": "stdout",
     "output_type": "stream",
     "text": [
      "1.6213054665469828\n"
     ]
    }
   ],
   "source": [
    "n=100\n",
    "y=np.random.randint(0,2,100)\n",
    "y1=np.random.rand(100)\n",
    "def crossentropy(y,y1,n):\n",
    "    logy1=np.log2(y1)\n",
    "    logy2=np.log2(1-y1)\n",
    "    o=np.sum((y*logy1)+((1-y)*logy2))/(-n)\n",
    "    print(o)\n",
    "crossentropy(y,y1,n)"
   ]
  },
  {
   "cell_type": "code",
   "execution_count": 68,
   "metadata": {},
   "outputs": [
    {
     "name": "stdout",
     "output_type": "stream",
     "text": [
      "1.4752965067943884\n"
     ]
    }
   ],
   "source": [
    "n=5\n",
    "y1 = np.array([0.32, 0.56, 0.71, 0.14, 0.57])\n",
    "y = np.array([1, 0, 1, 1, 0])\n",
    "crossentropy(y,y1,n)"
   ]
  },
  {
   "cell_type": "code",
   "execution_count": 69,
   "metadata": {},
   "outputs": [
    {
     "name": "stdout",
     "output_type": "stream",
     "text": [
      "0.5946513734544251\n"
     ]
    }
   ],
   "source": [
    "n=4\n",
    "y1 = np.array([0.23, 0.54, 0.61, 0.89])\n",
    "y = np.array([0, 0, 1, 1])\n",
    "crossentropy(y,y1,n)"
   ]
  },
  {
   "cell_type": "code",
   "execution_count": 70,
   "metadata": {},
   "outputs": [
    {
     "name": "stdout",
     "output_type": "stream",
     "text": [
      "0.8815394606426091\n"
     ]
    }
   ],
   "source": [
    "n=7\n",
    "y1 = np.array([0.45, 0.10, 0.99, 0.32, 0.78, 0.81, 0.27])\n",
    "y = np.array([1, 0, 1, 1, 1, 0, 0])\n",
    "crossentropy(y,y1,n)"
   ]
  },
  {
   "cell_type": "markdown",
   "metadata": {},
   "source": [
    "Question 2"
   ]
  },
  {
   "cell_type": "code",
   "execution_count": 71,
   "metadata": {},
   "outputs": [
    {
     "name": "stdout",
     "output_type": "stream",
     "text": [
      "{1: [0, 3], 2: [2, 3], 3: [3, 0], 4: [3, 2]}\n"
     ]
    }
   ],
   "source": [
    "numbers=[10,20,10,40,50,60,70]\n",
    "Target=50\n",
    "def pair(numbers,Target):\n",
    "    d={}\n",
    "    key=1\n",
    "    l=len(numbers)\n",
    "    for i in range(l):\n",
    "        for j in range(l):\n",
    "            if (numbers[i]+numbers[j]==Target):\n",
    "                d[key]=[i,j]\n",
    "                key=key+1\n",
    "    print(d)\n",
    "pair(numbers,target)"
   ]
  },
  {
   "cell_type": "code",
   "execution_count": 72,
   "metadata": {},
   "outputs": [
    {
     "name": "stdout",
     "output_type": "stream",
     "text": [
      "{1: [0, 2], 2: [2, 0], 3: [4, 6], 4: [5, 7], 5: [6, 4], 6: [7, 5]}\n"
     ]
    }
   ],
   "source": [
    "numbers= [14, 15, 25, 36, 17, 18, 22, 21]\n",
    "Target=39\n",
    "pair(numbers,Target)"
   ]
  },
  {
   "cell_type": "code",
   "execution_count": 73,
   "metadata": {},
   "outputs": [
    {
     "name": "stdout",
     "output_type": "stream",
     "text": [
      "{1: [1, 1], 2: [2, 3], 3: [3, 2]}\n"
     ]
    }
   ],
   "source": [
    "numbers= [4, 10, 6, 14, 18, 19, 20]\n",
    "Target=20\n",
    "pair(numbers,Target)"
   ]
  }
 ],
 "metadata": {
  "kernelspec": {
   "display_name": "Python 3",
   "language": "python",
   "name": "python3"
  },
  "language_info": {
   "codemirror_mode": {
    "name": "ipython",
    "version": 3
   },
   "file_extension": ".py",
   "mimetype": "text/x-python",
   "name": "python",
   "nbconvert_exporter": "python",
   "pygments_lexer": "ipython3",
   "version": "3.8.5"
  }
 },
 "nbformat": 4,
 "nbformat_minor": 4
}
