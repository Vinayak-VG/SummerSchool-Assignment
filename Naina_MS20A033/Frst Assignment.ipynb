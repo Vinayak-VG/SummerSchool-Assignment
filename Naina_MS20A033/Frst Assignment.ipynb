{
 "cells": [
  {
   "cell_type": "code",
   "execution_count": 8,
   "id": "5d862ef6",
   "metadata": {},
   "outputs": [
    {
     "name": "stdout",
     "output_type": "stream",
     "text": [
      "[0 1 0 0 0 0 0 0 1 1 1 1 0 0 0 1 1 0 1 0 0 0 0 1 1 1 1 1 0 0 1 1 1 0 1 0 1\n",
      " 0 0 0 0 1 0 0 1 1 0 0 0 1 0 1 0 1 1 1 1 1 0 0 1 0 0 0 1 1 1 1 0 1 0 1 0 1\n",
      " 0 1 0 1 0 1 1 0 0 0 0 1 1 0 0 1 1 1 1 1 0 0 1 0 0 0]\n",
      "[0.58539824 0.08655204 0.78959372 0.43503448 0.74689459 0.35437566\n",
      " 0.25969461 0.39905842 0.80506274 0.37078521 0.45056893 0.22693812\n",
      " 0.5376797  0.2021428  0.9589858  0.93207039 0.23157885 0.77507007\n",
      " 0.8034153  0.72538592 0.94262468 0.0288366  0.97818598 0.6495984\n",
      " 0.84332223 0.23882385 0.71749605 0.8811611  0.53978368 0.86665509\n",
      " 0.31370329 0.46229495 0.76701502 0.19137421 0.54423103 0.58966543\n",
      " 0.04991504 0.69944196 0.70138543 0.97409551 0.18837916 0.35097012\n",
      " 0.78633476 0.37101927 0.68770495 0.41471347 0.04483445 0.28370999\n",
      " 0.40104453 0.88394424 0.68502027 0.69742236 0.00201373 0.84780923\n",
      " 0.56979079 0.6106083  0.51966463 0.89020072 0.50223948 0.9608932\n",
      " 0.921809   0.30370534 0.38060851 0.61659258 0.69343918 0.061333\n",
      " 0.03912396 0.38040344 0.01602086 0.49309794 0.67271483 0.30547782\n",
      " 0.80695543 0.71836899 0.18102491 0.82549672 0.87792042 0.54838329\n",
      " 0.19498877 0.34451005 0.6442544  0.69887786 0.87931794 0.29667072\n",
      " 0.9817374  0.50172229 0.9800083  0.91841027 0.57710167 0.79842168\n",
      " 0.14335161 0.68881096 0.6673675  0.29017906 0.55418368 0.51511904\n",
      " 0.42090189 0.35751486 0.0025728  0.09931096]\n",
      "\n",
      " My Output\n",
      "\n",
      "1.5419516829845548\n"
     ]
    }
   ],
   "source": [
    "import numpy as np\n",
    "import math\n",
    "\n",
    "s = 100\n",
    "\n",
    "y = np.random.randint(2,size=s)\n",
    "print(y)\n",
    "y_cap = np.random.rand(s)\n",
    "\n",
    "print(y_cap)\n",
    "fn = np.multiply(y,np.log2(ycap))+np.multiply(1-y,np.log2(1-ycap))\n",
    "O = -1*(np.sum(fn)/s)\n",
    "print(\"\\n My Output\\n\")\n",
    "print(O)\n"
   ]
  },
  {
   "cell_type": "code",
   "execution_count": 11,
   "id": "659d5643",
   "metadata": {},
   "outputs": [
    {
     "name": "stdout",
     "output_type": "stream",
     "text": [
      "Enter the size of array:5\n",
      "Enter the elements of array: \n",
      "1\n",
      "2\n",
      "3\n",
      "4\n",
      "5\n",
      "Enter the target input: 5\n",
      "The required indices is/are : {1: [0, 3], 2: [1, 2], 3: [2, 1], 4: [3, 0]}\n"
     ]
    }
   ],
   "source": [
    "class TgSumP:\n",
    "    dict_val = {}\n",
    "    counts = 1\n",
    "\n",
    "    def dappend(self, a, b):\n",
    "        self.dict_val[self.counts] = [a, b]\n",
    "        self.counts += 1\n",
    "\n",
    "    def VerSum(self, x, m, tr):\n",
    "        for j in range(m):\n",
    "            for k in range(m):\n",
    "                if x[j] + x[k] == tr:\n",
    "                    self.dappend(j, k)\n",
    "\n",
    "\n",
    "ele = []\n",
    "objects = TgSumP()\n",
    "n = int(input(\"Enter the size of array:\"))\n",
    "print(\"Enter the elements of array: \")\n",
    "for i in range(n):\n",
    "    ele.append(int(input()))\n",
    "\n",
    "tg = int(input(\"Enter the target input: \"))\n",
    "objects.VerSum(ele, n, tg)\n",
    "print(\"The required indices is/are :\", objects.dict_val)"
   ]
  },
  {
   "cell_type": "code",
   "execution_count": null,
   "id": "38633c6e",
   "metadata": {},
   "outputs": [],
   "source": []
  }
 ],
 "metadata": {
  "kernelspec": {
   "display_name": "Python 3",
   "language": "python",
   "name": "python3"
  },
  "language_info": {
   "codemirror_mode": {
    "name": "ipython",
    "version": 3
   },
   "file_extension": ".py",
   "mimetype": "text/x-python",
   "name": "python",
   "nbconvert_exporter": "python",
   "pygments_lexer": "ipython3",
   "version": "3.9.5"
  }
 },
 "nbformat": 4,
 "nbformat_minor": 5
}
