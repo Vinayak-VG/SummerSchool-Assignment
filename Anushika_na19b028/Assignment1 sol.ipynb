{
 "cells": [
  {
   "cell_type": "code",
   "execution_count": null,
   "id": "focal-draft",
   "metadata": {},
   "outputs": [],
   "source": [
    "#Problem 1\n",
    "\n",
    "from numpy import random\n",
    "from math import log2\n",
    "\n",
    " \n",
    "def loss_func(y_hat,y):\n",
    "    O=0\n",
    "    for i in range(0,n):\n",
    "        O=O+(y[i]*log2(y_hat[i])+(1-y[i])*log2(1-y_hat[i]))\n",
    "    return(-O/n)\n",
    "\n",
    "n=int(input(\"n :\"))\n",
    "\n",
    "\n",
    "y_hat=random.rand(n)\n",
    "print(f\"y_hat : {y_hat}\")\n",
    "\n",
    "y=random.randint(2 ,size=n)\n",
    "print(f\"y : {y}\")\n",
    "\n",
    "print(f\"The value of cross entropy loss function ,O : {loss_func(y_hat,y)}\")"
   ]
  },
  {
   "cell_type": "code",
   "execution_count": null,
   "id": "public-chemistry",
   "metadata": {},
   "outputs": [],
   "source": [
    "#Problem 2\n",
    "\n",
    "class py_sol(object):\n",
    "    def getpair(self,arr,target):\n",
    "    \n",
    "        count = 1  \n",
    "        dict={}\n",
    "        \n",
    "        for i in range(0, len(arr)):\n",
    "            for j in range(0 , len(arr)):\n",
    "                if arr[i] + arr[j] == target:\n",
    "                    dict.update({count:[i,j]})\n",
    "                    count+= 1\n",
    " \n",
    "        return dict\n",
    "\n",
    "arr = list(map(int, input(\"Enter the array: \").split()))\n",
    "target = int(input(\"Enter the target sum: \"))\n",
    "\n",
    "print(py_sol().getpair(arr,target))"
   ]
  },
  {
   "cell_type": "code",
   "execution_count": null,
   "id": "valid-tender",
   "metadata": {},
   "outputs": [],
   "source": []
  }
 ],
 "metadata": {
  "kernelspec": {
   "display_name": "Python 3",
   "language": "python",
   "name": "python3"
  },
  "language_info": {
   "codemirror_mode": {
    "name": "ipython",
    "version": 3
   },
   "file_extension": ".py",
   "mimetype": "text/x-python",
   "name": "python",
   "nbconvert_exporter": "python",
   "pygments_lexer": "ipython3",
   "version": "3.8.7"
  }
 },
 "nbformat": 4,
 "nbformat_minor": 5
}
