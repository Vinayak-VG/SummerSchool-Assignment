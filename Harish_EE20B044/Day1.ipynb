{
 "cells": [
  {
   "cell_type": "markdown",
   "id": "6cb4e8e0",
   "metadata": {},
   "source": [
    "# Day One - EE20B044 - Harish R"
   ]
  },
  {
   "cell_type": "markdown",
   "id": "8305b6d8",
   "metadata": {},
   "source": [
    "## 1. BCE Loss Function"
   ]
  },
  {
   "cell_type": "code",
   "execution_count": 8,
   "id": "89540068",
   "metadata": {},
   "outputs": [],
   "source": [
    "import numpy as np\n",
    "def bce(y_hat,y):\n",
    "    return -1*np.mean(y*np.log2(y_hat)+(np.ones_like(y)-y)*np.log2(np.ones_like(y_hat)-y_hat))"
   ]
  },
  {
   "cell_type": "code",
   "execution_count": 9,
   "id": "7e548932",
   "metadata": {},
   "outputs": [
    {
     "name": "stdout",
     "output_type": "stream",
     "text": [
      "O = 1.6542309586374682\n"
     ]
    }
   ],
   "source": [
    "n = 100\n",
    "y_hat = np.random.rand(n)\n",
    "y = np.random.randint(0,2,n)\n",
    "print(\"O =\",bce(y_hat,y))"
   ]
  },
  {
   "cell_type": "code",
   "execution_count": 10,
   "id": "7d13dcf8",
   "metadata": {},
   "outputs": [
    {
     "name": "stdout",
     "output_type": "stream",
     "text": [
      "O = 1.47529\n",
      "O = 0.59465\n",
      "O = 0.88153\n"
     ]
    }
   ],
   "source": [
    "#Test Cases for Q1\n",
    "#1\n",
    "n = 5\n",
    "y_hat = np.array([0.32, 0.56, 0.71, 0.14, 0.57])\n",
    "y = np.array([1, 0, 1, 1, 0])\n",
    "print(\"O =\",'%.5f'%(int(bce(y_hat,y)*10**5)/float(10**5)))\n",
    "#2\n",
    "n = 4\n",
    "y_hat = np.array([0.23, 0.54, 0.61, 0.89])\n",
    "y = np.array([0, 0, 1, 1])\n",
    "print(\"O =\",'%.5f'%(int(bce(y_hat,y)*10**5)/float(10**5)))\n",
    "#3\n",
    "n = 7\n",
    "y_hat = np.array([0.45, 0.10, 0.99, 0.32, 0.78, 0.81, 0.27])\n",
    "y = np.array([1, 0, 1, 1, 1, 0, 0])\n",
    "print(\"O =\",'%.5f'%(int(bce(y_hat,y)*10**5)/float(10**5)))"
   ]
  },
  {
   "cell_type": "markdown",
   "id": "acb9705b",
   "metadata": {},
   "source": [
    "## 2. Finding pairs when sum is given"
   ]
  },
  {
   "cell_type": "code",
   "execution_count": 53,
   "id": "9c6017f9",
   "metadata": {},
   "outputs": [],
   "source": [
    "class PairFinder():\n",
    "    \n",
    "    def __init__(self,numbers,target):\n",
    "        self.dict={}\n",
    "        m=1\n",
    "        for i in range(0,len(numbers)):\n",
    "            for j in range(0,len(numbers)):\n",
    "                if (numbers[i]+numbers[j])==target:\n",
    "                    self.dict[m] = [i,j]\n",
    "                    m+=1 "
   ]
  },
  {
   "cell_type": "code",
   "execution_count": 54,
   "id": "0c915aa7",
   "metadata": {
    "scrolled": false
   },
   "outputs": [
    {
     "name": "stdout",
     "output_type": "stream",
     "text": [
      "Enter number of elements : 7\n",
      "\n",
      "Enter the numbers : 10 20 10 40 50 60 70\n",
      "\n",
      "Enter the target sum : 50\n",
      "{1: [0, 3], 2: [2, 3], 3: [3, 0], 4: [3, 2]}\n"
     ]
    }
   ],
   "source": [
    "n = int(input(\"Enter number of elements : \"))\n",
    "numbers = list(map(int,input(\"\\nEnter the numbers : \").strip().split()))[:n]\n",
    "target = int(input(\"\\nEnter the target sum : \"))\n",
    "\n",
    "print(PairFinder(numbers,target).dict)"
   ]
  },
  {
   "cell_type": "code",
   "execution_count": 55,
   "id": "52cfba05",
   "metadata": {},
   "outputs": [
    {
     "name": "stdout",
     "output_type": "stream",
     "text": [
      "{1: [0, 3], 2: [2, 3], 3: [3, 0], 4: [3, 2]}\n",
      "{1: [0, 2], 2: [2, 0], 3: [4, 6], 4: [5, 7], 5: [6, 4], 6: [7, 5]}\n",
      "{1: [1, 1], 2: [2, 3], 3: [3, 2]}\n"
     ]
    }
   ],
   "source": [
    "#Test Cases for Q2\n",
    "#1\n",
    "numbers = [10,20,10,40,50,60,70]\n",
    "target = 50\n",
    "print(PairFinder(numbers,target).dict)\n",
    "#2\n",
    "numbers = [14, 15, 25, 36, 17, 18, 22, 21]\n",
    "target = 39\n",
    "print(PairFinder(numbers,target).dict)\n",
    "#3\n",
    "numbers = [4, 10, 6, 14, 18, 19, 20]\n",
    "target = 20\n",
    "print(PairFinder(numbers,target).dict)"
   ]
  }
 ],
 "metadata": {
  "kernelspec": {
   "display_name": "Python 3",
   "language": "python",
   "name": "python3"
  },
  "language_info": {
   "codemirror_mode": {
    "name": "ipython",
    "version": 3
   },
   "file_extension": ".py",
   "mimetype": "text/x-python",
   "name": "python",
   "nbconvert_exporter": "python",
   "pygments_lexer": "ipython3",
   "version": "3.8.10"
  }
 },
 "nbformat": 4,
 "nbformat_minor": 5
}
