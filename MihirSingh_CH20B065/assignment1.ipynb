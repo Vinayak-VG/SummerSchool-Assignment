{
 "cells": [
  {
   "cell_type": "code",
   "execution_count": 2,
   "metadata": {},
   "outputs": [],
   "source": [
    "import numpy as np"
   ]
  },
  {
   "cell_type": "code",
   "execution_count": 4,
   "metadata": {},
   "outputs": [
    {
     "name": "stdout",
     "output_type": "stream",
     "text": [
      "1.4752965067943884\n",
      "0.5946513734544251\n",
      "0.8815394606426091\n"
     ]
    }
   ],
   "source": [
    "def function(y,y_hat):\n",
    "    n = y.shape[0]\n",
    "    loss = np.sum(y*np.log2(y_hat) + (1-y)*np.log2(1-y_hat))\n",
    "    loss /= -n\n",
    "    return loss\n",
    "\n",
    "print(function(np.array([1,0,1,1,0]),np.array([0.32,0.56,0.71,0.14,0.57])))\n",
    "print(function(np.array([0,0,1,1]),np.array([0.23,0.54,0.61,0.89])))\n",
    "print(function(np.array([1,0,1,1,1,0,0]), np.array([0.45,0.10,0.99,0.32,0.78,0.81,0.27])))"
   ]
  },
  {
   "cell_type": "code",
   "execution_count": 5,
   "metadata": {},
   "outputs": [
    {
     "name": "stdout",
     "output_type": "stream",
     "text": [
      "{0: [0, 3], 1: [2, 3], 2: [3, 0], 3: [3, 2]}\n",
      "{0: [0, 2], 1: [2, 0], 2: [4, 6], 3: [5, 7], 4: [6, 4], 5: [7, 5]}\n",
      "{0: [1, 1], 1: [2, 3], 2: [3, 2]}\n"
     ]
    }
   ],
   "source": [
    "class pairsum:\n",
    "    \n",
    "    def __init__(self,nums):\n",
    "        self.nums = nums\n",
    "        self.length = len(nums)\n",
    "        self.pairs = {}\n",
    "    \n",
    "    def findpairs(self,target):\n",
    "        k = 0\n",
    "        for i in range(self.length):\n",
    "            for j in range(self.length):\n",
    "                if (self.nums[i] + self.nums[j] == target):\n",
    "                    self.pairs[k] = [i,j]\n",
    "                    k += 1\n",
    "        \n",
    "        return self.pairs\n",
    "\n",
    "print(pairsum([10,20,10,40,50,60,70]).findpairs(50))\n",
    "print(pairsum([14,15,25,36,17,18,22,21]).findpairs(39))\n",
    "print(pairsum([4,10,6,14,18,19,20]).findpairs(20))"
   ]
  }
 ],
 "metadata": {
  "kernelspec": {
   "display_name": "Python 3",
   "language": "python",
   "name": "python3"
  },
  "language_info": {
   "codemirror_mode": {
    "name": "ipython",
    "version": 3
   },
   "file_extension": ".py",
   "mimetype": "text/x-python",
   "name": "python",
   "nbconvert_exporter": "python",
   "pygments_lexer": "ipython3",
   "version": "3.8.5"
  }
 },
 "nbformat": 4,
 "nbformat_minor": 4
}
