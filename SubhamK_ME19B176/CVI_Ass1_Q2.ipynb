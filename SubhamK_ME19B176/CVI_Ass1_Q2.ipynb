{
  "nbformat": 4,
  "nbformat_minor": 0,
  "metadata": {
    "colab": {
      "name": "CVI_Ass1_Q2.ipynb",
      "provenance": []
    },
    "kernelspec": {
      "name": "python3",
      "display_name": "Python 3"
    },
    "language_info": {
      "name": "python"
    }
  },
  "cells": [
    {
      "cell_type": "markdown",
      "metadata": {
        "id": "QG1wrjCC6pUw"
      },
      "source": [
        "Write a Python class to find a pair of elements (indices of the two numbers) from a given array whose sum equals a specific target number."
      ]
    },
    {
      "cell_type": "code",
      "metadata": {
        "id": "hCnpTXvB6cT0"
      },
      "source": [
        "import numpy as np"
      ],
      "execution_count": 1,
      "outputs": []
    },
    {
      "cell_type": "code",
      "metadata": {
        "colab": {
          "base_uri": "https://localhost:8080/"
        },
        "id": "x0y3Qbj89raa",
        "outputId": "f43283e3-7cbd-49d7-8a7b-2e87575512be"
      },
      "source": [
        "class findpair:\n",
        "  def __init__(self, array, target):\n",
        "    self.array=array;\n",
        "    self.target=target;\n",
        "    self.pair();\n",
        "  \n",
        "  def pair(self):\n",
        "    self.dic={};\n",
        "    self.c=1;\n",
        "    for i in range(len(self.array)):\n",
        "      for j in range(len(self.array)):\n",
        "        if self.array[i]+self.array[j]==target:\n",
        "          self.dic[self.c]=[i,j];\n",
        "          self.c=self.c+1;\n",
        "\n",
        "  def show(self):\n",
        "    print(self.dic)\n",
        "\n",
        "\n",
        "#array=[input()]  #doesnot work. sigh\n",
        "#target=int(input())\n",
        "\n",
        "array=[10,20,10,40,50,60,70]\n",
        "target=50\n",
        "\n",
        "findpair(array,target).show()"
      ],
      "execution_count": 2,
      "outputs": [
        {
          "output_type": "stream",
          "text": [
            "{1: [0, 3], 2: [2, 3], 3: [3, 0], 4: [3, 2]}\n"
          ],
          "name": "stdout"
        }
      ]
    },
    {
      "cell_type": "code",
      "metadata": {
        "id": "TlLjkIsVEjDe"
      },
      "source": [
        ""
      ],
      "execution_count": 2,
      "outputs": []
    }
  ]
}