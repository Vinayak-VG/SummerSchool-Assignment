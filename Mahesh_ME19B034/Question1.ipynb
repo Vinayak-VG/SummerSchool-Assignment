{
 "cells": [
  {
   "cell_type": "code",
   "execution_count": 1,
   "id": "7fb3a973",
   "metadata": {},
   "outputs": [],
   "source": [
    "## Question 1: Cross-Entropy Loss Function 'O'"
   ]
  },
  {
   "cell_type": "code",
   "execution_count": 7,
   "id": "18e6d59a",
   "metadata": {},
   "outputs": [
    {
     "name": "stdout",
     "output_type": "stream",
     "text": [
      "1.1471314598090914\n"
     ]
    }
   ],
   "source": [
    "import numpy as np  ## importing 'NumPy' module  \n",
    "\n",
    "y = np.random.rand((100))  ## 100 random numbers b/w [0,1)\n",
    "yhat = np.random.randint(0, 2, [100])\n",
    "\n",
    "nO = (yhat*np.log2(y))+((1-yhat)*(np.log2(1-y)))\n",
    "\n",
    "O = -(np.mean(nO))\n",
    "\n",
    "print(O)"
   ]
  },
  {
   "cell_type": "code",
   "execution_count": null,
   "id": "f684e807",
   "metadata": {},
   "outputs": [],
   "source": []
  }
 ],
 "metadata": {
  "kernelspec": {
   "display_name": "Python 3",
   "language": "python",
   "name": "python3"
  },
  "language_info": {
   "codemirror_mode": {
    "name": "ipython",
    "version": 3
   },
   "file_extension": ".py",
   "mimetype": "text/x-python",
   "name": "python",
   "nbconvert_exporter": "python",
   "pygments_lexer": "ipython3",
   "version": "3.8.8"
  }
 },
 "nbformat": 4,
 "nbformat_minor": 5
}
