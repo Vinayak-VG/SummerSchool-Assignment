{
 "cells": [
  {
   "cell_type": "code",
   "execution_count": 1,
   "id": "b9982834",
   "metadata": {},
   "outputs": [],
   "source": [
    "## Question 2: Finding pairs of indices of numbers in the given array(for given conditions)"
   ]
  },
  {
   "cell_type": "code",
   "execution_count": 2,
   "id": "5132d74c",
   "metadata": {},
   "outputs": [],
   "source": [
    "class required_pair:  ## Creating a class\n",
    "    array = []\n",
    "    target_value = 0\n",
    "    \n",
    "    def __init__(self, array, target_value):   ## Getting the array and target_value\n",
    "        \n",
    "        self.array = array\n",
    "        self.target_value = target_value\n",
    "        \n",
    "    def pair(self):\n",
    "        \n",
    "        dictionary = {}\n",
    "        sno = 1\n",
    "        for i in range(len(self.array)):\n",
    "            for j in range(len(self.array)):\n",
    "                if i !=j:\n",
    "                    if self.array[i]+self.array[j] == self.target_value:\n",
    "                        dictionary[sno] = [i,j]\n",
    "                        sno = sno+1\n",
    "        print(dictionary)   "
   ]
  },
  {
   "cell_type": "code",
   "execution_count": 3,
   "id": "2ff1404a",
   "metadata": {},
   "outputs": [],
   "source": [
    "## Test Case:"
   ]
  },
  {
   "cell_type": "code",
   "execution_count": 4,
   "id": "9b97c2d5",
   "metadata": {},
   "outputs": [
    {
     "name": "stdout",
     "output_type": "stream",
     "text": [
      "{1: [0, 2], 2: [2, 0], 3: [4, 6], 4: [5, 7], 5: [6, 4], 6: [7, 5]}\n"
     ]
    }
   ],
   "source": [
    "array = [14, 15, 25, 36, 17, 18, 22, 21]\n",
    "target_value = 39\n",
    "l = required_pair(array, target_value)\n",
    "l.pair()"
   ]
  },
  {
   "cell_type": "code",
   "execution_count": 5,
   "id": "bf96e852",
   "metadata": {},
   "outputs": [
    {
     "name": "stdout",
     "output_type": "stream",
     "text": [
      "{1: [0, 3], 2: [2, 3], 3: [3, 0], 4: [3, 2]}\n"
     ]
    }
   ],
   "source": [
    "array = [10,20,10,40,50,60,70]\n",
    "target_value = 50\n",
    "m = required_pair(array, target_value)\n",
    "m.pair()"
   ]
  },
  {
   "cell_type": "code",
   "execution_count": null,
   "id": "1dd0f186",
   "metadata": {},
   "outputs": [],
   "source": []
  }
 ],
 "metadata": {
  "kernelspec": {
   "display_name": "Python 3",
   "language": "python",
   "name": "python3"
  },
  "language_info": {
   "codemirror_mode": {
    "name": "ipython",
    "version": 3
   },
   "file_extension": ".py",
   "mimetype": "text/x-python",
   "name": "python",
   "nbconvert_exporter": "python",
   "pygments_lexer": "ipython3",
   "version": "3.8.8"
  }
 },
 "nbformat": 4,
 "nbformat_minor": 5
}
