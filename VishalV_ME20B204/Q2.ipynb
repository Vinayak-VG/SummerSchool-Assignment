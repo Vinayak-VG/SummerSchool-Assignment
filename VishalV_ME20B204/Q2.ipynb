{
 "cells": [
  {
   "cell_type": "code",
   "execution_count": null,
   "metadata": {},
   "outputs": [],
   "source": [
    "class FindPair:\n",
    "    thedict = {}\n",
    "    index = 1\n",
    "    \n",
    "    def __init__(self, arr, target):     \n",
    "        self.arr = arr\n",
    "        self.target = target\n",
    "        \n",
    "    def find(self):\n",
    "        \n",
    "        for i in range(len(self.arr)):\n",
    "            for j in range(len(self.arr)):\n",
    "                if (self.arr[i]+self.arr[j] == self.target):\n",
    "                    self.thedict[self.index] = [i,j]\n",
    "                    self.index = self.index + 1\n",
    "        print(self.thedict)\n",
    "    "
   ]
  },
  {
   "cell_type": "code",
   "execution_count": null,
   "metadata": {},
   "outputs": [],
   "source": [
    "lis = [4, 10, 6, 14, 18, 19, 20]\n",
    "target = 20"
   ]
  },
  {
   "cell_type": "code",
   "execution_count": null,
   "metadata": {},
   "outputs": [],
   "source": [
    "c1 = FindPair(lis, target)\n",
    "c1.find()\n"
   ]
  }
 ],
 "metadata": {
  "kernelspec": {
   "display_name": "Python 3",
   "language": "python",
   "name": "python3"
  },
  "language_info": {
   "codemirror_mode": {
    "name": "ipython",
    "version": 3
   },
   "file_extension": ".py",
   "mimetype": "text/x-python",
   "name": "python",
   "nbconvert_exporter": "python",
   "pygments_lexer": "ipython3",
   "version": "3.7.6"
  }
 },
 "nbformat": 4,
 "nbformat_minor": 4
}
