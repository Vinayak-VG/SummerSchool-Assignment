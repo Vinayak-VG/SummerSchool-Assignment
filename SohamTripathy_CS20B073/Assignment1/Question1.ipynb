{
 "cells": [
  {
   "cell_type": "code",
   "execution_count": 17,
   "id": "f50922ca",
   "metadata": {
    "scrolled": true
   },
   "outputs": [
    {
     "name": "stdout",
     "output_type": "stream",
     "text": [
      "1.545973206903683\n"
     ]
    }
   ],
   "source": [
    "import numpy as np\n",
    "\n",
    "n = 100\n",
    "\n",
    "y = np.random.randint(0, 2, (n,))\n",
    "y2 = np.random.rand(n)\n",
    "\n",
    "O_arr = y*(np.log2(y2)) + (1-y)*(np.log2(1-y2))\n",
    "\n",
    "print(-np.sum(O_arr, 0)/n)"
   ]
  },
  {
   "cell_type": "code",
   "execution_count": null,
   "id": "e665f4ff",
   "metadata": {},
   "outputs": [],
   "source": []
  }
 ],
 "metadata": {
  "kernelspec": {
   "display_name": "Python 3 (ipykernel)",
   "language": "python",
   "name": "python3"
  },
  "language_info": {
   "codemirror_mode": {
    "name": "ipython",
    "version": 3
   },
   "file_extension": ".py",
   "mimetype": "text/x-python",
   "name": "python",
   "nbconvert_exporter": "python",
   "pygments_lexer": "ipython3",
   "version": "3.8.5"
  }
 },
 "nbformat": 4,
 "nbformat_minor": 5
}
