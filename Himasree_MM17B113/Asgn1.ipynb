{
 "cells": [
  {
   "cell_type": "markdown",
   "metadata": {},
   "source": [
    "# Question 1"
   ]
  },
  {
   "cell_type": "code",
   "execution_count": 39,
   "metadata": {},
   "outputs": [],
   "source": [
    "#import required libraries\n",
    "import random\n",
    "import numpy as np\n",
    "from math import log2"
   ]
  },
  {
   "cell_type": "code",
   "execution_count": 57,
   "metadata": {},
   "outputs": [],
   "source": [
    "#y and y_hat should have same dimensions #as n=100, let the length of list be 100\n",
    "y=list(np.random.randint(2, size=(100)))\n",
    "y_hat=list(np.random.rand(100))"
   ]
  },
  {
   "cell_type": "code",
   "execution_count": 66,
   "metadata": {},
   "outputs": [],
   "source": [
    "#defining cross entropy loss function\n",
    "def cross_entropy(p, q):\n",
    "    return sum([p[i]*log2(q[i])+(1-p[i])*log2(1-q[i]) for i in range(len(p))])"
   ]
  },
  {
   "cell_type": "code",
   "execution_count": 67,
   "metadata": {},
   "outputs": [],
   "source": [
    "cross_entropy_value=cross_entropy(y,y_hat)\n",
    "O=-cross_entropy_value/len(y)"
   ]
  },
  {
   "cell_type": "code",
   "execution_count": 68,
   "metadata": {},
   "outputs": [
    {
     "data": {
      "text/plain": [
       "1.6468313251738973"
      ]
     },
     "execution_count": 68,
     "metadata": {},
     "output_type": "execute_result"
    }
   ],
   "source": [
    "O"
   ]
  },
  {
   "cell_type": "markdown",
   "metadata": {},
   "source": [
    "# Question2"
   ]
  },
  {
   "cell_type": "code",
   "execution_count": 2,
   "metadata": {},
   "outputs": [],
   "source": [
    "#let input be\n",
    "Input_list=[10,12,9,20,4,6,2,18]"
   ]
  },
  {
   "cell_type": "code",
   "execution_count": 17,
   "metadata": {},
   "outputs": [
    {
     "name": "stdout",
     "output_type": "stream",
     "text": [
      "22\n",
      "{0: [0, 1], 1: [1, 0], 2: [3, 6], 3: [4, 7], 4: [6, 3], 5: [7, 4]}\n"
     ]
    }
   ],
   "source": [
    "class element_pairs:\n",
    "    def __init__(self,target_sum, input_list):\n",
    "        self.dict = {}\n",
    "        self.target_sum = target_sum\n",
    "        self.input_list = input_list\n",
    "\n",
    "    def search_index(self):\n",
    "        count=0\n",
    "        for i in range(len(self.input_list)):\n",
    "            for j in range(len(self.input_list)):\n",
    "                if(self.input_list[j] == self.target_sum - self.input_list[i]):\n",
    "                    self.dict[count] = [i, j]\n",
    "                    count += 1\n",
    "        print(self.dict)\n",
    "\n",
    "input_list = [10,12,9,20,4,6,2,18]\n",
    "target_sum = int(input())\n",
    "L1 = element_pairs(target_sum, input_list)\n",
    "L1.search_index()"
   ]
  }
 ],
 "metadata": {
  "kernelspec": {
   "display_name": "Python 3",
   "language": "python",
   "name": "python3"
  },
  "language_info": {
   "codemirror_mode": {
    "name": "ipython",
    "version": 3
   },
   "file_extension": ".py",
   "mimetype": "text/x-python",
   "name": "python",
   "nbconvert_exporter": "python",
   "pygments_lexer": "ipython3",
   "version": "3.7.6"
  }
 },
 "nbformat": 4,
 "nbformat_minor": 4
}
