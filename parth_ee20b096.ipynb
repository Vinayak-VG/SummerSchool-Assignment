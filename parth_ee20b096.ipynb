{
 "cells": [
  {
   "cell_type": "code",
   "execution_count": 1,
   "id": "binding-gentleman",
   "metadata": {},
   "outputs": [],
   "source": [
    "#question 1\n",
    "n=100\n",
    "import numpy as np\n",
    "y=np.random.randint(0,2,(n),dtype='int64')\n",
    "y_hat=np.random.rand(n)\n",
    "O=-(1/n)*np.sum((y*np.log2(y_hat)+(1-y)*np.log2(1-y_hat)))"
   ]
  },
  {
   "cell_type": "code",
   "execution_count": 2,
   "id": "alive-monte",
   "metadata": {},
   "outputs": [
    {
     "data": {
      "text/plain": [
       "1.5588248552791537"
      ]
     },
     "execution_count": 2,
     "metadata": {},
     "output_type": "execute_result"
    }
   ],
   "source": [
    "O"
   ]
  },
  {
   "cell_type": "code",
   "execution_count": 3,
   "id": "british-kenya",
   "metadata": {},
   "outputs": [
    {
     "name": "stdout",
     "output_type": "stream",
     "text": [
      "1 : [0, 3]\n",
      "2 : [2, 3]\n",
      "3 : [3, 0]\n",
      "4 : [3, 2]\n"
     ]
    }
   ],
   "source": [
    "#question 2\n",
    "class Solution:\n",
    "    def solve(self,array,target):\n",
    "        count=1\n",
    "        answer={}\n",
    "        for i in range(len(array)):\n",
    "            for j in range(len(array)):\n",
    "                if i!=j and array[i]+array[j]==target:\n",
    "                    answer[count]=[i,j]\n",
    "                    count+=1\n",
    "        for key in answer:\n",
    "            print(key,\":\",answer[key])\n",
    "    \n",
    "    \n",
    "array=[10,20,10,40,50,60,70]\n",
    "test=Solution()\n",
    "test.solve(array,50)\n",
    "        "
   ]
  },
  {
   "cell_type": "code",
   "execution_count": null,
   "id": "hawaiian-formation",
   "metadata": {},
   "outputs": [],
   "source": []
  }
 ],
 "metadata": {
  "kernelspec": {
   "display_name": "Python 3",
   "language": "python",
   "name": "python3"
  },
  "language_info": {
   "codemirror_mode": {
    "name": "ipython",
    "version": 3
   },
   "file_extension": ".py",
   "mimetype": "text/x-python",
   "name": "python",
   "nbconvert_exporter": "python",
   "pygments_lexer": "ipython3",
   "version": "3.9.1"
  }
 },
 "nbformat": 4,
 "nbformat_minor": 5
}
