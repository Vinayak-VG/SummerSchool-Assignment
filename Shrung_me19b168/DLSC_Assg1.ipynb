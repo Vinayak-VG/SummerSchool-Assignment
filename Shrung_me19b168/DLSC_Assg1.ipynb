{
 "cells": [
  {
   "cell_type": "code",
   "execution_count": 1,
   "id": "shared-possession",
   "metadata": {},
   "outputs": [
    {
     "name": "stdout",
     "output_type": "stream",
     "text": [
      "1.4521543504223962\n",
      "1.4752965067943886\n",
      "0.5946513734544252\n",
      "0.881539460642609\n"
     ]
    }
   ],
   "source": [
    "# Question 1\n",
    "import numpy as np\n",
    "\n",
    "n = 100\n",
    "yh = np.random.rand(100)\n",
    "y = np.random.choice([0.0,1.0], 100)\n",
    "def fun(y, yh):\n",
    "    y, yh = y.reshape(1,-1), yh.reshape(1,-1)\n",
    "    sol = -1/n * (y @ np.log2(yh).T + (1-y) @ np.log2(1-yh).T)\n",
    "    return sol[0,0]\n",
    "print(fun(y, yh))\n",
    "\n",
    "# Test Cases\n",
    "n = 5\n",
    "yh = np.array([0.32, 0.56, 0.71, 0.14, 0.57])\n",
    "y = np.array([1, 0, 1, 1, 0])\n",
    "print(fun(y, yh))\n",
    "\n",
    "n = 4\n",
    "yh = np.array([0.23, 0.54, 0.61, 0.89])\n",
    "y = np.array([0, 0, 1, 1])\n",
    "print(fun(y, yh))\n",
    "\n",
    "n = 7\n",
    "yh = np.array([0.45, 0.10, 0.99, 0.32, 0.78, 0.81, 0.27])\n",
    "y = np.array([1, 0, 1, 1, 1, 0, 0])\n",
    "print(fun(y, yh))"
   ]
  },
  {
   "cell_type": "code",
   "execution_count": 2,
   "id": "expired-liquid",
   "metadata": {},
   "outputs": [
    {
     "name": "stdout",
     "output_type": "stream",
     "text": [
      "{1: [0, 3], 2: [2, 3], 3: [3, 0], 4: [3, 2]}\n",
      "{1: [0, 2], 2: [2, 0], 3: [4, 6], 4: [5, 7], 5: [6, 4], 6: [7, 5]}\n",
      "{1: [1, 1], 2: [2, 3], 3: [3, 2]}\n"
     ]
    }
   ],
   "source": [
    "# Question 2\n",
    "class sol:\n",
    "    def __init__(s, n, t):\n",
    "        ans = {}\n",
    "        sno = 1\n",
    "        for i in range(len(n)):\n",
    "            for j in range(len(n)):\n",
    "                if n[i] + n[j] == t:\n",
    "                    ans[sno] = [i, j]\n",
    "                    sno += 1\n",
    "        s.ans = ans\n",
    "        print(ans)\n",
    "        return\n",
    "    \n",
    "# Test Cases\n",
    "\n",
    "n = [10, 20, 10, 40, 50, 60, 70]\n",
    "t = 50\n",
    "sol(n, t);\n",
    "\n",
    "n = [14, 15, 25, 36, 17, 18, 22, 21]\n",
    "t = 39\n",
    "sol(n, t);\n",
    "\n",
    "n = [4, 10, 6, 14, 18, 19, 20]\n",
    "t = 20\n",
    "sol(n, t);"
   ]
  },
  {
   "cell_type": "code",
   "execution_count": null,
   "id": "knowing-shock",
   "metadata": {},
   "outputs": [],
   "source": []
  }
 ],
 "metadata": {
  "kernelspec": {
   "display_name": "Python 3",
   "language": "python",
   "name": "python3"
  },
  "language_info": {
   "codemirror_mode": {
    "name": "ipython",
    "version": 3
   },
   "file_extension": ".py",
   "mimetype": "text/x-python",
   "name": "python",
   "nbconvert_exporter": "python",
   "pygments_lexer": "ipython3",
   "version": "3.6.13"
  }
 },
 "nbformat": 4,
 "nbformat_minor": 5
}
