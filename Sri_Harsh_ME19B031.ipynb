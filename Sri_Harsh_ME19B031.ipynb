{
 "cells": [
  {
   "cell_type": "markdown",
   "id": "ca90d92b-4342-44c8-a111-616ea99fdd80",
   "metadata": {},
   "source": [
    "#**Q1**#"
   ]
  },
  {
   "cell_type": "code",
   "execution_count": 1,
   "id": "fbc00ecf-2165-41a1-83c7-fadbf79cd145",
   "metadata": {},
   "outputs": [],
   "source": [
    "import numpy as np"
   ]
  },
  {
   "cell_type": "code",
   "execution_count": 2,
   "id": "8df6c7dd-9f52-47c2-a6a1-eafae631f1ed",
   "metadata": {},
   "outputs": [],
   "source": [
    "N=100"
   ]
  },
  {
   "cell_type": "code",
   "execution_count": 3,
   "id": "0bccee96-d21a-483a-aefa-5de216715977",
   "metadata": {},
   "outputs": [],
   "source": [
    "y_hat=np.random.rand(1,N)\n",
    "y=np.random.randint(0,2,(1,N))"
   ]
  },
  {
   "cell_type": "code",
   "execution_count": 4,
   "id": "79e3f76d-78c4-427e-a456-5a13e92651b6",
   "metadata": {},
   "outputs": [
    {
     "data": {
      "text/plain": [
       "1.4501441872060048"
      ]
     },
     "execution_count": 4,
     "metadata": {},
     "output_type": "execute_result"
    }
   ],
   "source": [
    "O = -(1/N)*np.sum(y*np.log2(y_hat)+(1-y)*np.log2(1-y_hat))\n",
    "O"
   ]
  },
  {
   "cell_type": "markdown",
   "id": "9e88d1d4-86f1-4919-98d7-9e13619dbdff",
   "metadata": {},
   "source": [
    "\n",
    "#**Q2**#\n"
   ]
  },
  {
   "cell_type": "code",
   "execution_count": 5,
   "id": "15178731-8cfd-463b-a2d5-ce6b648cd60e",
   "metadata": {},
   "outputs": [],
   "source": [
    "class Input:\n",
    "    def __init__(self,Numbers,Target):\n",
    "        self.Numbers=Numbers\n",
    "        self.Target = Target\n",
    "    def target_elements(self):\n",
    "        self.TE = []\n",
    "        for i in range(len(self.Numbers)):\n",
    "            for j in range(len(self.Numbers)):\n",
    "                if self.Numbers[i]+self.Numbers[j] ==self.Target:\n",
    "                    self.TE.append([[i],[j]])\n",
    "        #self.target_elements = TE\n",
    "        self.Output = {}\n",
    "        for k in range(len(self.TE)):\n",
    "            self.Output[k+1] = self.TE[k]\n",
    "        print(\"Output = \",self.Output)"
   ]
  },
  {
   "cell_type": "code",
   "execution_count": 6,
   "id": "b7d38d90-2cdf-4749-8847-ecde154b74c0",
   "metadata": {},
   "outputs": [
    {
     "name": "stdout",
     "output_type": "stream",
     "text": [
      "Output =  {1: [[0], [3]], 2: [[2], [3]], 3: [[3], [0]], 4: [[3], [2]]}\n"
     ]
    }
   ],
   "source": [
    "I=Input([10,20,10,40,50,60,70],50)\n",
    "I.target_elements()"
   ]
  },
  {
   "cell_type": "code",
   "execution_count": null,
   "id": "9c22351e-a266-450e-a9ad-812743bc806e",
   "metadata": {},
   "outputs": [],
   "source": []
  }
 ],
 "metadata": {
  "kernelspec": {
   "display_name": "Python 3",
   "language": "python",
   "name": "python3"
  },
  "language_info": {
   "codemirror_mode": {
    "name": "ipython",
    "version": 3
   },
   "file_extension": ".py",
   "mimetype": "text/x-python",
   "name": "python",
   "nbconvert_exporter": "python",
   "pygments_lexer": "ipython3",
   "version": "3.8.8"
  }
 },
 "nbformat": 4,
 "nbformat_minor": 5
}
