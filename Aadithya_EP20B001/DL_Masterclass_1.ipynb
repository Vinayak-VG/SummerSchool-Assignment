{
  "nbformat": 4,
  "nbformat_minor": 0,
  "metadata": {
    "colab": {
      "name": "DL_Masterclass_1.ipynb",
      "provenance": [],
      "collapsed_sections": []
    },
    "kernelspec": {
      "name": "python3",
      "display_name": "Python 3"
    },
    "language_info": {
      "name": "python"
    }
  },
  "cells": [
    {
      "cell_type": "code",
      "metadata": {
        "id": "05XToz-AGziH"
      },
      "source": [
        "import numpy as np"
      ],
      "execution_count": 1,
      "outputs": []
    },
    {
      "cell_type": "markdown",
      "metadata": {
        "id": "_8DvE-QRJIu-"
      },
      "source": [
        "1."
      ]
    },
    {
      "cell_type": "code",
      "metadata": {
        "colab": {
          "base_uri": "https://localhost:8080/"
        },
        "id": "qj_oajsuHA_J",
        "outputId": "e2ced754-1f8b-4aae-a521-ceba0e7d67f4"
      },
      "source": [
        "y_hat = np.random.rand(100)\n",
        "y = np.random.randint(0, 2, 100)\n",
        "print(-1*np.sum(y*np.log2(y_hat) + (1-y)*np.log2(1-y_hat))/100)"
      ],
      "execution_count": null,
      "outputs": [
        {
          "output_type": "stream",
          "text": [
            "1.1682883455955086\n"
          ],
          "name": "stdout"
        }
      ]
    },
    {
      "cell_type": "markdown",
      "metadata": {
        "id": "rYC-T_RAJc9N"
      },
      "source": [
        "2."
      ]
    },
    {
      "cell_type": "code",
      "metadata": {
        "id": "DgCnyKo9ILFX"
      },
      "source": [
        "class Pair:\n",
        "  dictionary = {}\n",
        "  def __init__(self, arr, target):\n",
        "    arr = np.array(arr)\n",
        "    i=1\n",
        "    j=0\n",
        "    for x in arr:\n",
        "      if target-x in arr:\n",
        "        t = np.array(np.where(arr==target-x))[0]\n",
        "        for u in t:\n",
        "            self.dictionary[str(i)] = [j,u]\n",
        "            i+=1\n",
        "      j+=1\n",
        "    print(self.dictionary)  "
      ],
      "execution_count": 8,
      "outputs": []
    }
  ]
}