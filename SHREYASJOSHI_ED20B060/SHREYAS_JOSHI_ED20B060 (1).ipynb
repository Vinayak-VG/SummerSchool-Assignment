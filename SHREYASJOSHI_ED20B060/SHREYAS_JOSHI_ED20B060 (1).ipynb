{
  "nbformat": 4,
  "nbformat_minor": 0,
  "metadata": {
    "colab": {
      "name": "SHREYAS JOSHI_ED20B060.ipynb",
      "provenance": [],
      "collapsed_sections": []
    },
    "kernelspec": {
      "name": "python3",
      "display_name": "Python 3"
    },
    "language_info": {
      "name": "python"
    }
  },
  "cells": [
    {
      "cell_type": "code",
      "metadata": {
        "colab": {
          "base_uri": "https://localhost:8080/"
        },
        "id": "LYHdkr6P0UgV",
        "outputId": "252f5b8c-4df8-4cf3-ddc4-68f706e4b25c"
      },
      "source": [
        "#Question 1\n",
        "import numpy as np\n",
        "import math\n",
        "n=100\n",
        "c=np.array([])\n",
        "y_hat=np.random.rand(n)#Initializing the y_cap vector\n",
        "y=np.random.randint(0,2,(n))#intializing the y vector\n",
        "print(\"y=\",y)\n",
        "print(\"y_hat=\",y_hat)\n",
        "\n",
        "c=np.multiply(y,np.log(y_hat)/np.log(2))+np.multiply((1-y),np.log(1-y_hat)/np.log(2))\n",
        "\n",
        "O=-(np.sum(c))/n #Initializing O\n",
        "print(\"O=\",O)"
      ],
      "execution_count": 10,
      "outputs": [
        {
          "output_type": "stream",
          "text": [
            "y= [1 1 1 1 1 1 0 0 0 0 0 0 0 1 0 0 0 1 0 0 0 1 0 0 0 0 1 1 0 1 0 0 1 0 1 0 1\n",
            " 1 0 1 0 1 0 1 1 0 1 0 0 0 0 1 0 0 1 0 0 1 1 1 0 1 0 1 1 0 1 1 0 1 0 1 0 0\n",
            " 0 1 0 0 0 0 0 1 0 0 0 1 0 1 1 1 1 1 0 0 1 1 0 1 1 0]\n",
            "y_hat= [0.60875482 0.86427709 0.11228579 0.50487407 0.47004237 0.21665488\n",
            " 0.79567971 0.82261381 0.6718404  0.48970268 0.11264682 0.05680455\n",
            " 0.20101579 0.61018657 0.68148172 0.1116408  0.90589937 0.8935998\n",
            " 0.07314124 0.82887427 0.64994442 0.08911382 0.89068851 0.44447566\n",
            " 0.21113616 0.93493777 0.32770069 0.28809332 0.93086088 0.94970561\n",
            " 0.4584449  0.35990346 0.59090959 0.0404668  0.28214717 0.93110578\n",
            " 0.38628123 0.28215499 0.5624982  0.10163873 0.13251725 0.3357836\n",
            " 0.45924813 0.36055341 0.87015491 0.50439526 0.46548655 0.3312265\n",
            " 0.6661832  0.94178291 0.91920168 0.55117056 0.88973735 0.24998943\n",
            " 0.63301513 0.87741489 0.64831772 0.38687815 0.1354479  0.7273741\n",
            " 0.18845151 0.44891957 0.39233407 0.43157762 0.54435345 0.46149973\n",
            " 0.77913612 0.68674734 0.55115976 0.04671335 0.01758617 0.32160407\n",
            " 0.84987245 0.4040472  0.68688177 0.23674693 0.74038987 0.10277267\n",
            " 0.79044547 0.57050769 0.06862151 0.52319977 0.04124182 0.97324751\n",
            " 0.0169012  0.193617   0.71239887 0.12864518 0.98670877 0.59358468\n",
            " 0.96914801 0.29498283 0.62360375 0.20390821 0.61978526 0.96014856\n",
            " 0.46015731 0.7859211  0.88802817 0.53869171]\n",
            "O= 1.3933983178691471\n"
          ],
          "name": "stdout"
        }
      ]
    },
    {
      "cell_type": "code",
      "metadata": {
        "id": "EBYv_cUS8OpW",
        "colab": {
          "base_uri": "https://localhost:8080/"
        },
        "outputId": "c9a8b4ef-0593-45b6-b066-b0f8ffc8897c"
      },
      "source": [
        "#Question 2\n",
        "class Sum:\n",
        "  arr=[]\n",
        "  target=0\n",
        "  n=0\n",
        "  d={}\n",
        "  def input(self):\n",
        "   self.n1=int(input(\"Enter number of elements in the array=\"))\n",
        "   for i in range(self.n1):\n",
        "     self.arr.append(float(input(\"Enter a number=\")))\n",
        "   \n",
        "   self.target=float(input(\"Enter the target value=\"))\n",
        "   \n",
        "\n",
        "  def output(self):\n",
        "   key=1\n",
        "   for i in range(self.n1):\n",
        "     for j in range(self.n1):\n",
        "      if(self.arr[i]+self.arr[j]==self.target):\n",
        "          self.d[key]=[i, j]\n",
        "          key=key+1\n",
        "         \n",
        "   print(\"Dictionary=\",self.d)\n",
        "\n",
        "c1=Sum()\n",
        "c1.input()\n",
        "c1.output()\n",
        "         \n",
        "\n"
      ],
      "execution_count": null,
      "outputs": [
        {
          "output_type": "stream",
          "text": [
            "Enter number of elements in the array=7\n",
            "Enter a number=4\n",
            "Enter a number=10\n",
            "Enter a number=6\n",
            "Enter a number=14\n",
            "Enter a number=18\n",
            "Enter a number=19\n",
            "Enter a number=20\n",
            "Enter the target value=20\n",
            "Dictionary= {1: [1, 1], 2: [2, 3], 3: [3, 2]}\n"
          ],
          "name": "stdout"
        }
      ]
    }
  ]
}