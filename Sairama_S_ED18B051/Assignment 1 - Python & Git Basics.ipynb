{
 "cells": [
  {
   "cell_type": "code",
   "execution_count": 1,
   "id": "3f6c4bd4",
   "metadata": {},
   "outputs": [],
   "source": [
    "import numpy as np"
   ]
  },
  {
   "cell_type": "markdown",
   "id": "982b3a79",
   "metadata": {},
   "source": [
    "# Question 1"
   ]
  },
  {
   "cell_type": "code",
   "execution_count": 59,
   "id": "c983b769",
   "metadata": {},
   "outputs": [],
   "source": [
    "def func1(y_hat,y,n):\n",
    "    O_array = (-1/n)*(y*np.log2(y_hat) + (1-y)*np.log2(1 - y_hat))\n",
    "    return np.sum(O_array)"
   ]
  },
  {
   "cell_type": "code",
   "execution_count": 70,
   "id": "31c2a853",
   "metadata": {},
   "outputs": [],
   "source": [
    "# Dimension of array\n",
    "n = 100"
   ]
  },
  {
   "cell_type": "code",
   "execution_count": 71,
   "id": "27cd9f6c",
   "metadata": {},
   "outputs": [],
   "source": [
    "y_hat = np.random.rand(n)\n",
    "# y_hat = np.array([0.32, 0.56, 0.71, 0.14, 0.57])"
   ]
  },
  {
   "cell_type": "code",
   "execution_count": 72,
   "id": "aae91c90",
   "metadata": {},
   "outputs": [
    {
     "name": "stdout",
     "output_type": "stream",
     "text": [
      "[0.78061299 0.05807257 0.91473158 0.95480476 0.16079274 0.72696953\n",
      " 0.45015642 0.76056181 0.08416466 0.28667659 0.94089422 0.79076391\n",
      " 0.3684287  0.10736596 0.81373268 0.46989037 0.8647862  0.79363634\n",
      " 0.19104837 0.68261824 0.7421746  0.96885997 0.9059615  0.84110534\n",
      " 0.11111199 0.82557576 0.33303734 0.5928493  0.6900909  0.32227109\n",
      " 0.35841941 0.24680297 0.89684927 0.79507714 0.94124042 0.18603021\n",
      " 0.31975683 0.04971614 0.84138101 0.18208855 0.38468811 0.67939339\n",
      " 0.9057777  0.18420932 0.92835333 0.67464824 0.60810229 0.38996765\n",
      " 0.51846592 0.79885211 0.24699992 0.54409399 0.53986069 0.20445169\n",
      " 0.94019903 0.35652952 0.18848087 0.16082913 0.20093319 0.30208528\n",
      " 0.4122821  0.45108045 0.66442282 0.0087321  0.56656137 0.84774266\n",
      " 0.57346813 0.69183535 0.98081207 0.66772822 0.46744365 0.76024089\n",
      " 0.24152208 0.58430976 0.30485172 0.87738642 0.99600022 0.32332612\n",
      " 0.44499789 0.656898   0.03887776 0.59997618 0.78265634 0.60855059\n",
      " 0.9814958  0.47115237 0.32643618 0.99502095 0.49256046 0.27289186\n",
      " 0.52500564 0.95841587 0.54331016 0.58791334 0.9916413  0.17140731\n",
      " 0.8179737  0.24706748 0.41727119 0.64929112]\n"
     ]
    }
   ],
   "source": [
    "print(y_hat)"
   ]
  },
  {
   "cell_type": "code",
   "execution_count": 73,
   "id": "af0fe679",
   "metadata": {},
   "outputs": [],
   "source": [
    "y = np.random.randint(0,2,n)\n",
    "# y = np.array([1, 0, 1, 1, 0])"
   ]
  },
  {
   "cell_type": "code",
   "execution_count": 74,
   "id": "63b8ff3c",
   "metadata": {},
   "outputs": [
    {
     "name": "stdout",
     "output_type": "stream",
     "text": [
      "[1 0 1 0 1 1 1 0 0 0 1 1 0 0 1 0 1 0 1 0 0 1 0 1 1 0 0 1 0 0 1 0 0 0 0 1 0\n",
      " 1 1 0 1 0 0 0 0 1 0 1 0 1 1 1 1 0 0 1 1 1 0 0 0 0 0 1 1 0 1 0 1 1 0 1 1 1\n",
      " 1 0 0 0 1 1 0 0 0 1 0 1 1 1 1 1 1 1 1 0 0 1 0 0 1 1]\n"
     ]
    }
   ],
   "source": [
    "print(y)"
   ]
  },
  {
   "cell_type": "code",
   "execution_count": 75,
   "id": "f86a6d85",
   "metadata": {},
   "outputs": [],
   "source": [
    "O = func1(y_hat,y,n)"
   ]
  },
  {
   "cell_type": "code",
   "execution_count": 76,
   "id": "d3f243bb",
   "metadata": {},
   "outputs": [
    {
     "name": "stdout",
     "output_type": "stream",
     "text": [
      "1.5490106287787921\n"
     ]
    }
   ],
   "source": [
    "print(O)"
   ]
  },
  {
   "cell_type": "markdown",
   "id": "cc965657",
   "metadata": {},
   "source": [
    "# Question 2"
   ]
  },
  {
   "cell_type": "code",
   "execution_count": 48,
   "id": "fb4cdaff",
   "metadata": {},
   "outputs": [],
   "source": [
    "def func2(numbers,target):\n",
    "    sum_dict = {}\n",
    "    count = 0\n",
    "    \n",
    "    for i in range(len(numbers)):\n",
    "        for j in range(len(numbers)):\n",
    "            if numbers[i]+numbers[j] == target:\n",
    "                count += 1\n",
    "                sum_dict[count] = (i,j)\n",
    "                \n",
    "    return sum_dict"
   ]
  },
  {
   "cell_type": "code",
   "execution_count": 55,
   "id": "4c3cadd6",
   "metadata": {},
   "outputs": [],
   "source": [
    "numbers= np.array([4, 10, 6, 14, 18, 19, 20])"
   ]
  },
  {
   "cell_type": "code",
   "execution_count": 56,
   "id": "a5b188cf",
   "metadata": {},
   "outputs": [],
   "source": [
    "target = 20"
   ]
  },
  {
   "cell_type": "code",
   "execution_count": 57,
   "id": "34635abc",
   "metadata": {},
   "outputs": [],
   "source": [
    "output = func2(numbers,target)"
   ]
  },
  {
   "cell_type": "code",
   "execution_count": 62,
   "id": "eff5f006",
   "metadata": {},
   "outputs": [
    {
     "name": "stdout",
     "output_type": "stream",
     "text": [
      "{1: (1, 1), 2: (2, 3), 3: (3, 2)}\n"
     ]
    }
   ],
   "source": [
    "print(output)"
   ]
  }
 ],
 "metadata": {
  "kernelspec": {
   "display_name": "Python 3",
   "language": "python",
   "name": "python3"
  },
  "language_info": {
   "codemirror_mode": {
    "name": "ipython",
    "version": 3
   },
   "file_extension": ".py",
   "mimetype": "text/x-python",
   "name": "python",
   "nbconvert_exporter": "python",
   "pygments_lexer": "ipython3",
   "version": "3.7.10"
  }
 },
 "nbformat": 4,
 "nbformat_minor": 5
}
