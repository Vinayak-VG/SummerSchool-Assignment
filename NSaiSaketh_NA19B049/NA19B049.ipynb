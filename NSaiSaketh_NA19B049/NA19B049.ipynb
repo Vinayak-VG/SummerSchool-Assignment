{
  "nbformat": 4,
  "nbformat_minor": 0,
  "metadata": {
    "colab": {
      "name": "NA19B049.ipynb",
      "provenance": [],
      "collapsed_sections": []
    },
    "kernelspec": {
      "name": "python3",
      "display_name": "Python 3"
    },
    "language_info": {
      "name": "python"
    }
  },
  "cells": [
    {
      "cell_type": "code",
      "metadata": {
        "id": "U_DkMaJt7zB2"
      },
      "source": [
        "#Assignment Question 1\n",
        "import numpy as np\n",
        "import math"
      ],
      "execution_count": null,
      "outputs": []
    },
    {
      "cell_type": "code",
      "metadata": {
        "id": "bc-oArdv_4YJ"
      },
      "source": [
        "n = int(input('enter length: '))"
      ],
      "execution_count": null,
      "outputs": []
    },
    {
      "cell_type": "code",
      "metadata": {
        "id": "mT2dCH608PAj"
      },
      "source": [
        "Y = np.random.rand(n)\n",
        "\n"
      ],
      "execution_count": null,
      "outputs": []
    },
    {
      "cell_type": "code",
      "metadata": {
        "id": "zyrEZ3Fz8nYX"
      },
      "source": [
        "Ycap = np.random.rand(n)\n"
      ],
      "execution_count": null,
      "outputs": []
    },
    {
      "cell_type": "code",
      "metadata": {
        "id": "a8sFMzan9Sd9"
      },
      "source": [
        "Y[Y <= 0.5] = 0\n",
        "Y[Y != 0] = 1    \n",
        "    "
      ],
      "execution_count": null,
      "outputs": []
    },
    {
      "cell_type": "code",
      "metadata": {
        "id": "849D_RlR9nVv"
      },
      "source": [
        "Y\n"
      ],
      "execution_count": null,
      "outputs": []
    },
    {
      "cell_type": "code",
      "metadata": {
        "id": "Q-OVr2hQ-xwe"
      },
      "source": [
        "\n",
        "Ofunc = 0\n",
        "for i in range(n):\n",
        "  Onew = ((Y[i])*(math.log2(Ycap[i]))+(1 - Y[i])*(math.log2(1 - Ycap[i])))\n",
        "  Ofunc = Ofunc + Onew\n",
        "Ofunc = (-1/n)*Ofunc\n",
        "print(\"O = \" ,Ofunc)"
      ],
      "execution_count": null,
      "outputs": []
    },
    {
      "cell_type": "code",
      "metadata": {
        "id": "j7Q61sILRnbg"
      },
      "source": [
        "#Assignment Question 2\n",
        "lst1 = [int(item) for item in input(\"Enter the list items : \").split(\",\")]\n",
        "N  = int(input('target number: '))\n",
        "outputd = dict()\n",
        "total_combinations = len(lst1)*len(lst1)\n",
        "t = 1\n",
        "for i in range(len(lst1)):\n",
        "\n",
        "  for j in range(len(lst1)):\n",
        "    if (lst1[i] + lst1[j]) == N :\n",
        "      outputd[t] = [i , j]\n",
        "      t = t + 1 \n",
        "print(outputd)\n",
        "    \n",
        "\n",
        "\n"
      ],
      "execution_count": null,
      "outputs": []
    }
  ]
}