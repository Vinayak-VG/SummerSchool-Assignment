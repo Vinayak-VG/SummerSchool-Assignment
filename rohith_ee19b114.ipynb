{
 "cells": [
  {
   "cell_type": "markdown",
   "metadata": {},
   "source": [
    "Solution to Q1:\n"
   ]
  },
  {
   "cell_type": "code",
   "execution_count": 75,
   "metadata": {},
   "outputs": [
    {
     "name": "stdout",
     "output_type": "stream",
     "text": [
      "1.307882075554138\n"
     ]
    }
   ],
   "source": [
    "import numpy as np\n",
    "from scipy.stats import bernoulli\n",
    "n=100\n",
    "y = bernoulli.rvs(size=n,p=0.5) #like tossing a coin n times\n",
    "y_cap=np.random.rand(n)\n",
    "O=-(np.sum(y*np.log2(y_cap)+(1-y)*np.log2(1-y_cap)))/n\n",
    "print(O)"
   ]
  },
  {
   "cell_type": "markdown",
   "metadata": {},
   "source": [
    "Solution to Q2:"
   ]
  },
  {
   "cell_type": "code",
   "execution_count": 76,
   "metadata": {},
   "outputs": [
    {
     "data": {
      "text/plain": [
       "{0: (0, 3), 1: (2, 3), 2: (3, 0), 3: (3, 2)}"
      ]
     },
     "execution_count": 76,
     "metadata": {},
     "output_type": "execute_result"
    }
   ],
   "source": [
    "class arrn:\n",
    "    def index_finder(self,array,target):\n",
    "        dict={}\n",
    "        for i in range(len(array)):\n",
    "            for j in range(len(array)):\n",
    "                if array[i]+array[j]==target:\n",
    "                    dict[len(dict)]=(i,j)\n",
    "        return dict\n",
    "                    \n",
    "arrn().index_finder([10,20,10,40,50,60,70],50)"
   ]
  },
  {
   "cell_type": "code",
   "execution_count": 77,
   "metadata": {},
   "outputs": [
    {
     "data": {
      "text/plain": [
       "{0: (0, 2), 1: (2, 0), 2: (4, 6), 3: (5, 7), 4: (6, 4), 5: (7, 5)}"
      ]
     },
     "execution_count": 77,
     "metadata": {},
     "output_type": "execute_result"
    }
   ],
   "source": [
    "arrn().index_finder([14,15,25,36,17,18,22,21],39)"
   ]
  },
  {
   "cell_type": "code",
   "execution_count": 78,
   "metadata": {},
   "outputs": [
    {
     "data": {
      "text/plain": [
       "{0: (1, 1), 1: (2, 3), 2: (3, 2)}"
      ]
     },
     "execution_count": 78,
     "metadata": {},
     "output_type": "execute_result"
    }
   ],
   "source": [
    "arrn().index_finder([4,10,6,14,18,19,20],20)"
   ]
  },
  {
   "cell_type": "code",
   "execution_count": null,
   "metadata": {},
   "outputs": [],
   "source": []
  }
 ],
 "metadata": {
  "kernelspec": {
   "display_name": "Python 3",
   "language": "python",
   "name": "python3"
  },
  "language_info": {
   "codemirror_mode": {
    "name": "ipython",
    "version": 2
   },
   "file_extension": ".py",
   "mimetype": "text/x-python",
   "name": "python",
   "nbconvert_exporter": "python",
   "pygments_lexer": "ipython2",
   "version": "2.7.17"
  }
 },
 "nbformat": 4,
 "nbformat_minor": 2
}
