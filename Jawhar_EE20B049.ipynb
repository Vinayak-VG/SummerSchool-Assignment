{
  "nbformat": 4,
  "nbformat_minor": 0,
  "metadata": {
    "colab": {
      "name": "Jawhar_EE20B049.ipynb",
      "provenance": []
    },
    "kernelspec": {
      "name": "python3",
      "display_name": "Python 3"
    },
    "language_info": {
      "name": "python"
    }
  },
  "cells": [
    {
      "cell_type": "markdown",
      "metadata": {
        "id": "sCPRlqu9DW-s"
      },
      "source": [
        "Code for Problem 1:\n",
        "\n"
      ]
    },
    {
      "cell_type": "code",
      "metadata": {
        "colab": {
          "base_uri": "https://localhost:8080/"
        },
        "id": "OaxQNtEaDBcv",
        "outputId": "543604a0-673a-453d-e58e-37abb64fa01e"
      },
      "source": [
        "import numpy as np\n",
        "import math\n",
        "\n",
        "y_hat = np.random.rand(100)\n",
        "y = np.random.randint(0,2,100)\n",
        "\n",
        "sum   = 0\n",
        "\n",
        "for i in range(100):\n",
        "  a = y_hat[i]\n",
        "  b = 1-a\n",
        "  sum = sum + y[i] * math.log2(a) + (1-y[i]) * math.log2(b)\n",
        "  \n",
        "O  = -sum/100\n",
        "print(O)  "
      ],
      "execution_count": 35,
      "outputs": [
        {
          "output_type": "stream",
          "text": [
            "1.1637996688208536\n"
          ],
          "name": "stdout"
        }
      ]
    },
    {
      "cell_type": "markdown",
      "metadata": {
        "id": "1ebMNiyAa4d7"
      },
      "source": [
        "Code for Problem 2:\n"
      ]
    },
    {
      "cell_type": "code",
      "metadata": {
        "colab": {
          "base_uri": "https://localhost:8080/"
        },
        "id": "vohaqc99bEYI",
        "outputId": "945dd49d-ba07-4d2f-d752-1cae95549190"
      },
      "source": [
        "lst  = [15,20,40,10,40,25,50]\n",
        "op   = {}\n",
        "a = 1\n",
        "target = 60\n",
        "\n",
        "for i in range(7):\n",
        "  for j in range(7):\n",
        "   if(lst[i] + lst[j] == target):\n",
        "     op[a] = [i,j]\n",
        "     a = a + 1\n",
        "     \n",
        "print(op)\n",
        "    "
      ],
      "execution_count": 43,
      "outputs": [
        {
          "output_type": "stream",
          "text": [
            "{1: [1, 2], 2: [1, 4], 3: [2, 1], 4: [3, 6], 5: [4, 1], 6: [6, 3]}\n"
          ],
          "name": "stdout"
        }
      ]
    },
    {
      "cell_type": "markdown",
      "metadata": {
        "id": "6RH0aYgRDDYo"
      },
      "source": [
        ""
      ]
    }
  ]
}