{
 "cells": [
  {
   "cell_type": "markdown",
   "id": "78e17f48",
   "metadata": {},
   "source": [
    "# Question1"
   ]
  },
  {
   "cell_type": "code",
   "execution_count": 1,
   "id": "d5ac8eea",
   "metadata": {},
   "outputs": [],
   "source": [
    "import numpy as np"
   ]
  },
  {
   "cell_type": "code",
   "execution_count": 2,
   "id": "28fa43df",
   "metadata": {},
   "outputs": [],
   "source": [
    "def loss(yhat,y):\n",
    "    a= y\n",
    "    k= 1-yhat\n",
    "    b= np.log2(yhat, out=yhat, where=yhat>0)\n",
    "    c= (1-y) \n",
    "    d= np.log2(k, out=k, where=k>0)\n",
    "    n= len(a)\n",
    "    loss = -sum((1/n)*(a*b +c*d))## -sum((1/n)*(y*np.log2(yhat, out=yhat, where=yhat>0) +(1-y)*np.log2(1-yhat, out=1-yhat, where=1-yhat>0)))\n",
    "    return loss"
   ]
  },
  {
   "cell_type": "markdown",
   "id": "8fadc091",
   "metadata": {},
   "source": [
    "## testcase1"
   ]
  },
  {
   "cell_type": "code",
   "execution_count": 3,
   "id": "070a7a26",
   "metadata": {},
   "outputs": [
    {
     "name": "stdout",
     "output_type": "stream",
     "text": [
      "1.4752965067943886\n"
     ]
    }
   ],
   "source": [
    "yhat = np.array([0.32, 0.56, 0.71, 0.14, 0.57])\n",
    "y = np.array([1, 0, 1, 1, 0])\n",
    "print(loss(yhat,y))"
   ]
  },
  {
   "cell_type": "markdown",
   "id": "98920460",
   "metadata": {},
   "source": [
    "## testcase2"
   ]
  },
  {
   "cell_type": "code",
   "execution_count": 4,
   "id": "8ca0374e",
   "metadata": {},
   "outputs": [
    {
     "name": "stdout",
     "output_type": "stream",
     "text": [
      "0.5946513734544251\n"
     ]
    }
   ],
   "source": [
    "yhat = np.array([0.23, 0.54, 0.61, 0.89])\n",
    "y = np.array([0, 0, 1, 1])\n",
    "print(loss(yhat,y))"
   ]
  },
  {
   "cell_type": "markdown",
   "id": "865db8cc",
   "metadata": {},
   "source": [
    "## testcase3"
   ]
  },
  {
   "cell_type": "code",
   "execution_count": 5,
   "id": "53a7d770",
   "metadata": {},
   "outputs": [
    {
     "name": "stdout",
     "output_type": "stream",
     "text": [
      "0.881539460642609\n"
     ]
    }
   ],
   "source": [
    "yhat = np.array([0.45, 0.10, 0.99, 0.32, 0.78, 0.81, 0.27])\n",
    "y = np.array([1, 0, 1, 1, 1, 0, 0])\n",
    "print(loss(yhat,y))"
   ]
  },
  {
   "cell_type": "markdown",
   "id": "881e505d",
   "metadata": {},
   "source": [
    "## solution"
   ]
  },
  {
   "cell_type": "code",
   "execution_count": 6,
   "id": "df0b1465",
   "metadata": {},
   "outputs": [
    {
     "name": "stdout",
     "output_type": "stream",
     "text": [
      "1.6408722462181435\n"
     ]
    }
   ],
   "source": [
    "y = np.random.randint(0,2,100)\n",
    "yhat= np.random.uniform(0,1,100)\n",
    "print(loss(yhat,y))"
   ]
  },
  {
   "cell_type": "markdown",
   "id": "1e1e6cdc",
   "metadata": {},
   "source": [
    "# Question 2"
   ]
  },
  {
   "cell_type": "code",
   "execution_count": 7,
   "id": "50dbd87d",
   "metadata": {},
   "outputs": [],
   "source": [
    "def ind(arr,n):\n",
    "    key=1\n",
    "    out ={}\n",
    "    for i in range(len(arr)):\n",
    "        for j in range(len(arr)):\n",
    "            if arr[i]+arr[j]==n:\n",
    "                out[key]=[i,j]\n",
    "                key+=1\n",
    "    return out"
   ]
  },
  {
   "cell_type": "markdown",
   "id": "839817a8",
   "metadata": {},
   "source": [
    "## testcase1"
   ]
  },
  {
   "cell_type": "code",
   "execution_count": 8,
   "id": "d650b7a3",
   "metadata": {},
   "outputs": [
    {
     "name": "stdout",
     "output_type": "stream",
     "text": [
      "{1: [0, 3], 2: [2, 3], 3: [3, 0], 4: [3, 2]}\n"
     ]
    }
   ],
   "source": [
    "arr= [10,20,10,40,50,60,70]\n",
    "n=50\n",
    "print(ind(arr,n))"
   ]
  },
  {
   "cell_type": "markdown",
   "id": "e58da873",
   "metadata": {},
   "source": [
    "## testcase2"
   ]
  },
  {
   "cell_type": "code",
   "execution_count": 9,
   "id": "b1450c89",
   "metadata": {},
   "outputs": [
    {
     "name": "stdout",
     "output_type": "stream",
     "text": [
      "{1: [0, 2], 2: [2, 0], 3: [4, 6], 4: [5, 7], 5: [6, 4], 6: [7, 5]}\n"
     ]
    }
   ],
   "source": [
    "arr=[14, 15, 25, 36, 17, 18, 22, 21]\n",
    "\n",
    "n=39\n",
    "print(ind(arr,n))"
   ]
  },
  {
   "cell_type": "markdown",
   "id": "fbc7b816",
   "metadata": {},
   "source": [
    "## testcase3 "
   ]
  },
  {
   "cell_type": "code",
   "execution_count": 10,
   "id": "2267fdf1",
   "metadata": {},
   "outputs": [
    {
     "name": "stdout",
     "output_type": "stream",
     "text": [
      "{1: [1, 1], 2: [2, 3], 3: [3, 2]}\n"
     ]
    }
   ],
   "source": [
    "arr=[4, 10, 6, 14, 18, 19, 20]\n",
    "n=20\n",
    "print(ind(arr,n))"
   ]
  },
  {
   "cell_type": "code",
   "execution_count": null,
   "id": "e2500eeb",
   "metadata": {},
   "outputs": [],
   "source": []
  }
 ],
 "metadata": {
  "kernelspec": {
   "display_name": "Python 3",
   "language": "python",
   "name": "python3"
  },
  "language_info": {
   "codemirror_mode": {
    "name": "ipython",
    "version": 3
   },
   "file_extension": ".py",
   "mimetype": "text/x-python",
   "name": "python",
   "nbconvert_exporter": "python",
   "pygments_lexer": "ipython3",
   "version": "3.8.5"
  }
 },
 "nbformat": 4,
 "nbformat_minor": 5
}
