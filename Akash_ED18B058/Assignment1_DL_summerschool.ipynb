{
  "nbformat": 4,
  "nbformat_minor": 0,
  "metadata": {
    "colab": {
      "name": "Assignment1_DL_summerschool.ipynb",
      "provenance": [],
      "collapsed_sections": []
    },
    "kernelspec": {
      "name": "python3",
      "display_name": "Python 3"
    },
    "language_info": {
      "name": "python"
    }
  },
  "cells": [
    {
      "cell_type": "code",
      "metadata": {
        "id": "IppN8NF-Fc4F"
      },
      "source": [
        "# SOlution to problem 1\n",
        "import numpy as np\n",
        "\n",
        "n = input(\"Enetr the value of n: \")\n",
        "\n",
        "y_hat = np.random.rand(n)\n",
        "y = np.random.randint(2,size=n)\n",
        "\n",
        "print(\"y = \", y)\n",
        "print(\"y_hat = \", y_hat)\n",
        "\n",
        "def calculate_cross_entropy(y,y_hat,n):\n",
        "  n = y.size\n",
        "  T1 = y*(np.log2(y_hat))\n",
        "  T2 = (1-y)*(np.log2(1-y_hat))\n",
        "  T_final = (np.sum(T1) + np.sum(T2))*-1/100\n",
        "  return T_final\n",
        "\n",
        "O = calculate_cross_entropy(y,y_hat,n)\n",
        "print(\"Cross Entropy for given y and y_hat = \", O)"
      ],
      "execution_count": null,
      "outputs": []
    },
    {
      "cell_type": "code",
      "metadata": {
        "id": "gewex_gsKuK-"
      },
      "source": [
        "# Solution to problem 2\n",
        "class find_pair:\n",
        "  def __init__(self):\n",
        "    self.out_dict = {}\n",
        "\n",
        "  def find_pairs(self,arr,target_num):\n",
        "    n = len(arr)\n",
        "    count = 1\n",
        "    for i in range(0,n):\n",
        "      for j in range(0,n):\n",
        "        if arr[i]+arr[j] == target_num:\n",
        "          self.out_dict[count] = [i, j]\n",
        "          count+=1\n",
        "    return self.out_dict\n",
        "    \n",
        "numbers = [4,10,6,14,18,19,20]\n",
        "target = 20\n",
        "f = find_pair()\n",
        "out_dict = f.find_pairs(numbers,target)\n",
        "print(\"Output: \", out_dict)"
      ],
      "execution_count": null,
      "outputs": []
    }
  ]
}