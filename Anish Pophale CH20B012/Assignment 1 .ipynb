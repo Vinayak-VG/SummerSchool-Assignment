{
 "cells": [
  {
   "cell_type": "raw",
   "id": "db701df2",
   "metadata": {},
   "source": [
    "Question 1"
   ]
  },
  {
   "cell_type": "code",
   "execution_count": null,
   "id": "323e4e01",
   "metadata": {},
   "outputs": [],
   "source": [
    "import numpy as np\n",
    "import math \n",
    "\n",
    "y=np.random.randint(0,2,100)\n",
    "ycap=np.random.rand(100)\n",
    "\n",
    "O=0\n",
    "for i in range(100):\n",
    "    O=O+y[i]*math.log(ycap[i],2)+(1-y[i])*math.log(1-ycap[i],2)\n",
    "O=-O/100\n",
    "\n",
    "print(O)"
   ]
  },
  {
   "cell_type": "raw",
   "id": "de488e33",
   "metadata": {},
   "source": [
    "Question 2"
   ]
  },
  {
   "cell_type": "code",
   "execution_count": null,
   "id": "f2a4797a",
   "metadata": {},
   "outputs": [],
   "source": [
    "class class1():\n",
    "    def __init__(self,arr,target):\n",
    "        self.target=target\n",
    "        self.arr=arr\n",
    "        \n",
    "        \n",
    "    def func1(self):\n",
    "        list1=[]\n",
    "        for i in range(n):\n",
    "            for j in range(n):\n",
    "                if (self.arr[i]+self.arr[j]==self.target):\n",
    "                    list1.append([i,j])\n",
    "\n",
    "        x=len(list1)\n",
    "        dict1={}\n",
    "        for i in range(x):\n",
    "            dict1[i+1]=list1[i]\n",
    "        print(dict1)\n",
    "        \n",
    "\n",
    "n=int(input(\"Enter number of elements in the array :\"))\n",
    "arr=[]\n",
    "print(\"Enter the numbers :\")\n",
    "for i in range(n):\n",
    "    arr.append(int(input()))\n",
    "    \n",
    "target=int(input(\"Enter the target number :\"))\n",
    "\n",
    "obj1=class1(arr,target)\n",
    "obj1.func1()"
   ]
  },
  {
   "cell_type": "markdown",
   "id": "f4fb2290",
   "metadata": {},
   "source": [
    " "
   ]
  }
 ],
 "metadata": {
  "kernelspec": {
   "display_name": "Python 3",
   "language": "python",
   "name": "python3"
  },
  "language_info": {
   "codemirror_mode": {
    "name": "ipython",
    "version": 3
   },
   "file_extension": ".py",
   "mimetype": "text/x-python",
   "name": "python",
   "nbconvert_exporter": "python",
   "pygments_lexer": "ipython3",
   "version": "3.8.8"
  }
 },
 "nbformat": 4,
 "nbformat_minor": 5
}
