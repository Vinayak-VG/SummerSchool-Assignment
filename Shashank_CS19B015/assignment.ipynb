{
  "nbformat": 4,
  "nbformat_minor": 0,
  "metadata": {
    "colab": {
      "name": "assignment.ipynb",
      "provenance": [],
      "collapsed_sections": []
    },
    "kernelspec": {
      "name": "python3",
      "display_name": "Python 3"
    },
    "language_info": {
      "name": "python"
    }
  },
  "cells": [
    {
      "cell_type": "code",
      "metadata": {
        "id": "YuPVkB_eQqRM"
      },
      "source": [
        "import numpy as np"
      ],
      "execution_count": null,
      "outputs": []
    },
    {
      "cell_type": "markdown",
      "metadata": {
        "id": "HZjbii2jQlxr"
      },
      "source": [
        "Problem 1"
      ]
    },
    {
      "cell_type": "code",
      "metadata": {
        "id": "iZYCmOUDQnJq"
      },
      "source": [
        "def cross_entropy(y,y_hat):\n",
        "  n = y.shape[0]\n",
        "  loss = np.sum(y*np.log2(y_hat) + (1-y)*np.log2(1-y_hat))\n",
        "  loss = (-loss)/n\n",
        "  return loss\n",
        "\n",
        "# Test cases.\n",
        "# cross_entropy(np.array([1, 0, 1, 1, 0]),np.array([0.32, 0.56, 0.71, 0.14, 0.57]))\n",
        "# cross_entropy(np.array([0, 0, 1, 1]),np.array([0.23, 0.54, 0.61, 0.89]))\n",
        "# cross_entropy(np.array([1, 0, 1, 1, 1, 0, 0]),np.array([0.45, 0.10, 0.99, 0.32, 0.78, 0.81, 0.27]))"
      ],
      "execution_count": null,
      "outputs": []
    },
    {
      "cell_type": "markdown",
      "metadata": {
        "id": "kAPPanMaSbDj"
      },
      "source": [
        "Problem 2"
      ]
    },
    {
      "cell_type": "code",
      "metadata": {
        "id": "Tng0KMmFScDf"
      },
      "source": [
        "class pairSum:\n",
        "  \n",
        "  def __init__(self,nums):\n",
        "    self.nums = nums\n",
        "    self.length = len(nums)\n",
        "    self.pairs = {}\n",
        "\n",
        "  def findPairs(self,target):\n",
        "    k = 0\n",
        "    for i in range(self.length):\n",
        "      for j in range(self.length):\n",
        "        if self.nums[i] + self.nums[j] == target:\n",
        "          self.pairs[k] = [i,j]\n",
        "          k += 1\n",
        "    return self.pairs\n",
        "\n",
        "# Testcases\n",
        "# pairSum([10,20,10,40,50,60,70]).findPairs(50)\n",
        "# pairSum([14, 15, 25, 36, 17, 18, 22, 21]).findPairs(39)\n",
        "# pairSum([4, 10, 6, 14, 18, 19, 20]).findPairs(20)"
      ],
      "execution_count": null,
      "outputs": []
    }
  ]
}