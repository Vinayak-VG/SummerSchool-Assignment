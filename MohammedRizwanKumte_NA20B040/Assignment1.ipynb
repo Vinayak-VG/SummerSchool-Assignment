{
  "nbformat": 4,
  "nbformat_minor": 0,
  "metadata": {
    "colab": {
      "name": "Assignment1.ipynb",
      "provenance": [],
      "collapsed_sections": []
    },
    "kernelspec": {
      "name": "python3",
      "display_name": "Python 3"
    },
    "language_info": {
      "name": "python"
    }
  },
  "cells": [
    {
      "cell_type": "markdown",
      "metadata": {
        "id": "j64DZtaae0cO"
      },
      "source": [
        "#Python & GIT Basics Assignment"
      ]
    },
    {
      "cell_type": "code",
      "metadata": {
        "id": "_1HOuKQlfKXz"
      },
      "source": [
        "import numpy as np\n",
        "import math"
      ],
      "execution_count": 104,
      "outputs": []
    },
    {
      "cell_type": "markdown",
      "metadata": {
        "id": "bWAROkXle8jz"
      },
      "source": [
        "## Part 1\n",
        "\n"
      ]
    },
    {
      "cell_type": "code",
      "metadata": {
        "colab": {
          "base_uri": "https://localhost:8080/"
        },
        "id": "Cy1gir13fH5u",
        "outputId": "d04bcfaa-5d43-4e28-cf17-aadc6ca25c1f"
      },
      "source": [
        "\"\"\"\n",
        "def cross_entropy(y,y_hat):\n",
        "  l = 0 \n",
        "  for i in range(0,len(y)):\n",
        "    l = y*np.log2(y_hat) + (1-y)*np.log2(1-y_hat)\n",
        "  O = -1*np.sum(l)/len(y)\n",
        "  return round(O, 6)\n",
        "\n",
        "x = cross_entropy(y, y_hat)\n",
        "print(x)\n",
        "\"\"\"\n",
        "\n",
        "def cross_entropy(y,y_hat):\n",
        "  l = 0 \n",
        "  for i in range(0,len(y)):\n",
        "    l = l + y[i]*math.log2(y_hat[i]) + (1-y[i])*math.log2(1-y_hat[i])\n",
        "  O = -1*l/len(y)\n",
        "  return round(O, 6)\n",
        "\n",
        "y = np.random.randint(0,2,(100))\n",
        "y_hat = np.random.rand(100)\n",
        "\n",
        "x = cross_entropy(y, y_hat)\n",
        "print(x)"
      ],
      "execution_count": 105,
      "outputs": [
        {
          "output_type": "stream",
          "text": [
            "1.436892\n"
          ],
          "name": "stdout"
        }
      ]
    },
    {
      "cell_type": "markdown",
      "metadata": {
        "id": "6tS5fX2npP05"
      },
      "source": [
        "## Part 2"
      ]
    },
    {
      "cell_type": "code",
      "metadata": {
        "colab": {
          "base_uri": "https://localhost:8080/"
        },
        "id": "x9HY5P--pRuR",
        "outputId": "fbc082cc-9278-47fc-b288-92ebbd035b2c"
      },
      "source": [
        "\n",
        "\n",
        "class elem_pair():\n",
        "  \n",
        "  def __init__(self,a,target):\n",
        "    self.a = a\n",
        "    self.target = target\n",
        "  \n",
        "  def find_pair(self):\n",
        "    def numbergen():\n",
        "      for i in range(1,len(a)**2):\n",
        "        yield i\n",
        "    x = numbergen()\n",
        "    pairs = {}\n",
        "    for i in range(0, len(self.a)):\n",
        "      for j in range(0, len(self.a)):\n",
        "        if self.a[i] + self.a[j] == self.target:\n",
        "          pairs[x.__next__()] = [i, j]\n",
        "    return pairs\n",
        "\n",
        "\n",
        "e1 = elem_pair([10,20,10,40,50,60,70], 50)\n",
        "l = e1.find_pair()\n",
        "e2 = elem_pair([14, 15, 25, 36, 17, 18, 22, 21], 39)\n",
        "m = e2.find_pair()\n",
        "e3 = elem_pair([4, 10, 6, 14, 18, 19, 20], 20)\n",
        "n =e3.find_pair()\n",
        "\n",
        "print(\"{}\\n{}\\n{}\".format(l,m,n))\n"
      ],
      "execution_count": 107,
      "outputs": [
        {
          "output_type": "stream",
          "text": [
            "{1: [0, 3], 2: [2, 3], 3: [3, 0], 4: [3, 2]}\n",
            "{1: [0, 2], 2: [2, 0], 3: [4, 6], 4: [5, 7], 5: [6, 4], 6: [7, 5]}\n",
            "{1: [1, 1], 2: [2, 3], 3: [3, 2]}\n"
          ],
          "name": "stdout"
        }
      ]
    }
  ]
}