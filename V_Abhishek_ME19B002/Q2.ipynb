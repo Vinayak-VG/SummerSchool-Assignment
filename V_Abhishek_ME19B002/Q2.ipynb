{
 "cells": [
  {
   "cell_type": "code",
   "execution_count": 20,
   "id": "decimal-cancellation",
   "metadata": {},
   "outputs": [],
   "source": [
    "import numpy as np"
   ]
  },
  {
   "cell_type": "code",
   "execution_count": 21,
   "id": "hungry-murder",
   "metadata": {},
   "outputs": [],
   "source": [
    "class Sum_Find:\n",
    "    def __init__(self, array, target):\n",
    "            self.array = array\n",
    "            self.target= target\n",
    "        \n",
    "    def show(self):\n",
    "        count = 0\n",
    "        out = {}\n",
    "        for i in range(0,len(array)):\n",
    "            for j in range(0,len(array)):\n",
    "                if ((array[j] + array[i]) == target):\n",
    "                    out[count] = [i,j]\n",
    "                    count += 1\n",
    "        self.out = out\n",
    "        print('output: ',out)\n",
    "        "
   ]
  },
  {
   "cell_type": "code",
   "execution_count": 22,
   "id": "automotive-iceland",
   "metadata": {},
   "outputs": [
    {
     "name": "stdout",
     "output_type": "stream",
     "text": [
      "output:  {0: [0, 3], 1: [2, 3], 2: [3, 0], 3: [3, 2]}\n"
     ]
    }
   ],
   "source": [
    "array = [10,20,10,40,50,60,70]\n",
    "target = 50\n",
    "OUTPUT = Sum_Find(array,target)\n",
    "OUTPUT.show()"
   ]
  },
  {
   "cell_type": "code",
   "execution_count": null,
   "id": "continent-tunnel",
   "metadata": {},
   "outputs": [],
   "source": []
  }
 ],
 "metadata": {
  "kernelspec": {
   "display_name": "Python 3",
   "language": "python",
   "name": "python3"
  },
  "language_info": {
   "codemirror_mode": {
    "name": "ipython",
    "version": 3
   },
   "file_extension": ".py",
   "mimetype": "text/x-python",
   "name": "python",
   "nbconvert_exporter": "python",
   "pygments_lexer": "ipython3",
   "version": "3.6.13"
  }
 },
 "nbformat": 4,
 "nbformat_minor": 5
}
