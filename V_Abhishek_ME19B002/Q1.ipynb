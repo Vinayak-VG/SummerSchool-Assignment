{
 "cells": [
  {
   "cell_type": "code",
   "execution_count": 5,
   "id": "legislative-information",
   "metadata": {},
   "outputs": [],
   "source": [
    "import numpy as np\n",
    "import math as m"
   ]
  },
  {
   "cell_type": "code",
   "execution_count": 6,
   "id": "immediate-architect",
   "metadata": {},
   "outputs": [],
   "source": [
    "y_hat = np.random.rand(100)\n",
    "y = np.random.randint(2, size = 100)\n"
   ]
  },
  {
   "cell_type": "code",
   "execution_count": 7,
   "id": "silver-scanning",
   "metadata": {},
   "outputs": [],
   "source": [
    "O = 0\n",
    "for i in range(0,100):\n",
    "    O = O + (y[i]*m.log2(y_hat[i]) + (1-y[i])*m.log2(1-y_hat[i]))\n",
    "O = O*(-1/100)"
   ]
  },
  {
   "cell_type": "code",
   "execution_count": 8,
   "id": "indian-beijing",
   "metadata": {},
   "outputs": [
    {
     "name": "stdout",
     "output_type": "stream",
     "text": [
      "Cross entropy loss value is 1.4508556904362553\n"
     ]
    }
   ],
   "source": [
    "print('Cross entropy loss value is '+ str(O))"
   ]
  },
  {
   "cell_type": "code",
   "execution_count": null,
   "id": "musical-international",
   "metadata": {},
   "outputs": [],
   "source": []
  }
 ],
 "metadata": {
  "kernelspec": {
   "display_name": "Python 3",
   "language": "python",
   "name": "python3"
  },
  "language_info": {
   "codemirror_mode": {
    "name": "ipython",
    "version": 3
   },
   "file_extension": ".py",
   "mimetype": "text/x-python",
   "name": "python",
   "nbconvert_exporter": "python",
   "pygments_lexer": "ipython3",
   "version": "3.6.13"
  }
 },
 "nbformat": 4,
 "nbformat_minor": 5
}
