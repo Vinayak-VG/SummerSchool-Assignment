{
 "cells": [
  {
   "cell_type": "code",
   "execution_count": 1,
   "metadata": {},
   "outputs": [],
   "source": [
    "# Question1"
   ]
  },
  {
   "cell_type": "code",
   "execution_count": 2,
   "metadata": {},
   "outputs": [],
   "source": [
    "# n=100"
   ]
  },
  {
   "cell_type": "code",
   "execution_count": 3,
   "metadata": {},
   "outputs": [],
   "source": [
    "from numpy.random import seed"
   ]
  },
  {
   "cell_type": "code",
   "execution_count": 4,
   "metadata": {},
   "outputs": [],
   "source": [
    "from numpy.random import rand"
   ]
  },
  {
   "cell_type": "code",
   "execution_count": 5,
   "metadata": {},
   "outputs": [],
   "source": [
    "y_hat=rand(100)"
   ]
  },
  {
   "cell_type": "code",
   "execution_count": 6,
   "metadata": {},
   "outputs": [
    {
     "name": "stdout",
     "output_type": "stream",
     "text": [
      "[0.63459404 0.99003427 0.83679373 0.12239915 0.46253684 0.86292154\n",
      " 0.45977021 0.61074747 0.34595781 0.62613919 0.01186941 0.92151157\n",
      " 0.10952218 0.56486087 0.82154155 0.93032852 0.73554237 0.71658496\n",
      " 0.97133308 0.47954136 0.75924628 0.65843282 0.62254661 0.49401284\n",
      " 0.78114999 0.94191302 0.68020624 0.99459485 0.95580892 0.66788785\n",
      " 0.911242   0.22307561 0.54894066 0.55648516 0.46047907 0.68846263\n",
      " 0.12025854 0.35316517 0.3458484  0.36926275 0.25284708 0.18970015\n",
      " 0.86620031 0.79311792 0.60589305 0.56585887 0.016179   0.03699169\n",
      " 0.01067644 0.23931132 0.27152146 0.44528816 0.98072045 0.30539828\n",
      " 0.39658928 0.73160355 0.41942639 0.4377534  0.64278749 0.32019437\n",
      " 0.43176036 0.51828091 0.93273471 0.00996639 0.22730017 0.46337204\n",
      " 0.14427398 0.63047713 0.00912352 0.66234601 0.12422713 0.15730174\n",
      " 0.24842887 0.5323349  0.07928584 0.607223   0.68423279 0.95728919\n",
      " 0.14957827 0.53864199 0.36790395 0.61687115 0.84423381 0.32811963\n",
      " 0.97389089 0.95753146 0.18081941 0.46843414 0.55406561 0.10372664\n",
      " 0.30478811 0.52865385 0.53970321 0.35019218 0.80732991 0.21341227\n",
      " 0.96080983 0.66516661 0.7800859  0.61427443]\n"
     ]
    }
   ],
   "source": [
    "print(y_hat)"
   ]
  },
  {
   "cell_type": "code",
   "execution_count": 7,
   "metadata": {},
   "outputs": [],
   "source": [
    "from numpy.random import randint"
   ]
  },
  {
   "cell_type": "code",
   "execution_count": 9,
   "metadata": {},
   "outputs": [],
   "source": [
    "y=randint(0,2,100)"
   ]
  },
  {
   "cell_type": "code",
   "execution_count": 10,
   "metadata": {},
   "outputs": [
    {
     "name": "stdout",
     "output_type": "stream",
     "text": [
      "[0 1 1 1 1 0 0 1 0 0 1 1 1 1 0 0 0 1 1 1 1 1 0 1 0 1 1 1 1 1 1 1 1 1 1 0 1\n",
      " 1 0 0 0 1 0 1 1 0 0 1 1 1 1 0 1 1 0 0 1 1 0 0 0 1 0 1 1 0 1 1 0 1 1 1 0 0\n",
      " 1 0 1 0 0 0 0 0 1 1 0 1 0 0 1 0 1 1 0 0 0 0 1 0 0 1]\n"
     ]
    }
   ],
   "source": [
    "print(y)"
   ]
  },
  {
   "cell_type": "code",
   "execution_count": 11,
   "metadata": {},
   "outputs": [],
   "source": [
    "# Cross-Entropy Loss function\n",
    "#O= -1/n* sum(y*log2(y_hat)+(1-y)*log2(1-y_hat))\n",
    "#O= -1/n* sum(a+b)"
   ]
  },
  {
   "cell_type": "code",
   "execution_count": 12,
   "metadata": {},
   "outputs": [],
   "source": [
    "from math import log2"
   ]
  },
  {
   "cell_type": "code",
   "execution_count": 14,
   "metadata": {},
   "outputs": [],
   "source": [
    "import numpy as np"
   ]
  },
  {
   "cell_type": "code",
   "execution_count": 15,
   "metadata": {},
   "outputs": [],
   "source": [
    "a=y*(np.log2(y_hat))"
   ]
  },
  {
   "cell_type": "code",
   "execution_count": 16,
   "metadata": {},
   "outputs": [],
   "source": [
    "b=(1-y)*(np.log2(1-y_hat))"
   ]
  },
  {
   "cell_type": "code",
   "execution_count": 17,
   "metadata": {},
   "outputs": [],
   "source": [
    "O=-(0.01)*sum(a+b)"
   ]
  },
  {
   "cell_type": "code",
   "execution_count": 18,
   "metadata": {},
   "outputs": [
    {
     "name": "stdout",
     "output_type": "stream",
     "text": [
      "1.4633794991178979\n"
     ]
    }
   ],
   "source": [
    "print(O)"
   ]
  }
 ],
 "metadata": {
  "kernelspec": {
   "display_name": "Python 3",
   "language": "python",
   "name": "python3"
  },
  "language_info": {
   "codemirror_mode": {
    "name": "ipython",
    "version": 3
   },
   "file_extension": ".py",
   "mimetype": "text/x-python",
   "name": "python",
   "nbconvert_exporter": "python",
   "pygments_lexer": "ipython3",
   "version": "3.7.6"
  }
 },
 "nbformat": 4,
 "nbformat_minor": 4
}
