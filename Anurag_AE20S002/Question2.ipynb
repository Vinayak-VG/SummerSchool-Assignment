{
 "cells": [
  {
   "cell_type": "code",
   "execution_count": 1,
   "metadata": {},
   "outputs": [],
   "source": [
    "# Question 2"
   ]
  },
  {
   "cell_type": "code",
   "execution_count": 2,
   "metadata": {},
   "outputs": [],
   "source": [
    "import numpy as np"
   ]
  },
  {
   "cell_type": "code",
   "execution_count": 3,
   "metadata": {},
   "outputs": [],
   "source": [
    "from itertools import combinations"
   ]
  },
  {
   "cell_type": "code",
   "execution_count": 4,
   "metadata": {},
   "outputs": [],
   "source": [
    "a=np.arange(1,50,4)"
   ]
  },
  {
   "cell_type": "code",
   "execution_count": 5,
   "metadata": {},
   "outputs": [
    {
     "data": {
      "text/plain": [
       "array([ 1,  5,  9, 13, 17, 21, 25, 29, 33, 37, 41, 45, 49])"
      ]
     },
     "execution_count": 5,
     "metadata": {},
     "output_type": "execute_result"
    }
   ],
   "source": [
    "a"
   ]
  },
  {
   "cell_type": "code",
   "execution_count": 6,
   "metadata": {},
   "outputs": [
    {
     "name": "stdout",
     "output_type": "stream",
     "text": [
      "(1, 49)\n",
      "(5, 45)\n",
      "(9, 41)\n",
      "(13, 37)\n",
      "(17, 33)\n",
      "(21, 29)\n"
     ]
    }
   ],
   "source": [
    "for n in combinations(a,2):\n",
    "    if n[0]+n[1]==50: \n",
    "         print(((n[0]), (n[1])))"
   ]
  },
  {
   "cell_type": "code",
   "execution_count": 11,
   "metadata": {},
   "outputs": [],
   "source": [
    "#dictionary\n",
    "Output={'1':[np.where(a==1),np.where(a==49)],\n",
    "        '2':[np.where(a==5),np.where(a==45)],\n",
    "        '3':[np.where(a==9),np.where(a==41)], \n",
    "        '4':[np.where(a==13),np.where(a==37)],\n",
    "        '5':[np.where(a==17),np.where(a==33)],\n",
    "        '6':[np.where(a==21),np.where(a==29)]\n",
    "       }"
   ]
  },
  {
   "cell_type": "code",
   "execution_count": 8,
   "metadata": {},
   "outputs": [
    {
     "data": {
      "text/plain": [
       "{'1': [(array([0], dtype=int64),), (array([12], dtype=int64),)],\n",
       " '2': [(array([1], dtype=int64),), (array([11], dtype=int64),)],\n",
       " '3': [(array([2], dtype=int64),), (array([10], dtype=int64),)],\n",
       " '4': [(array([3], dtype=int64),), (array([9], dtype=int64),)],\n",
       " '5': [(array([4], dtype=int64),), (array([8], dtype=int64),)],\n",
       " '6': [(array([5], dtype=int64),), (array([7], dtype=int64),)]}"
      ]
     },
     "execution_count": 8,
     "metadata": {},
     "output_type": "execute_result"
    }
   ],
   "source": [
    "Output"
   ]
  },
  {
   "cell_type": "code",
   "execution_count": 13,
   "metadata": {},
   "outputs": [],
   "source": [
    "Output_Latest={1:[0,12],2:[1,11],3:[2,10],4:[3,9],5:[4,8],6:[5,7]}"
   ]
  },
  {
   "cell_type": "code",
   "execution_count": 14,
   "metadata": {},
   "outputs": [
    {
     "data": {
      "text/plain": [
       "{1: [0, 12], 2: [1, 11], 3: [2, 10], 4: [3, 9], 5: [4, 8], 6: [5, 7]}"
      ]
     },
     "execution_count": 14,
     "metadata": {},
     "output_type": "execute_result"
    }
   ],
   "source": [
    "Output_Latest"
   ]
  }
 ],
 "metadata": {
  "kernelspec": {
   "display_name": "Python 3",
   "language": "python",
   "name": "python3"
  },
  "language_info": {
   "codemirror_mode": {
    "name": "ipython",
    "version": 3
   },
   "file_extension": ".py",
   "mimetype": "text/x-python",
   "name": "python",
   "nbconvert_exporter": "python",
   "pygments_lexer": "ipython3",
   "version": "3.7.6"
  }
 },
 "nbformat": 4,
 "nbformat_minor": 4
}
