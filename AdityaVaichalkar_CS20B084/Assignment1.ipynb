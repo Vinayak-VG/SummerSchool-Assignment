{
 "cells": [
  {
   "cell_type": "code",
   "execution_count": 1,
   "metadata": {},
   "outputs": [
    {
     "name": "stdout",
     "output_type": "stream",
     "text": [
      "Cross Entropy is 0.6717176522770748\n"
     ]
    }
   ],
   "source": [
    "import numpy as np\n",
    "\n",
    "n=100\n",
    "y1=np.random.rand(n)\n",
    "y2=np.random.randint(0,2,(n,))\n",
    "y=y2*np.log2(y1)+(1-y2)*np.log2(1-y1)\n",
    "o=(-1/n)*np.sum(y)\n",
    "print(f\"Cross Entropy is {o}\")"
   ]
  },
  {
   "cell_type": "code",
   "execution_count": 2,
   "metadata": {},
   "outputs": [],
   "source": [
    "class CheckSum:\n",
    "    def __init__ (self,a):\n",
    "        self.arr=a\n",
    "    def check(self,num):\n",
    "        count=1\n",
    "        ans={}\n",
    "        for i in range(len(self.arr)):\n",
    "            for j in range(len(self.arr)):\n",
    "                if(self.arr[i]+self.arr[j]==num):\n",
    "                    ans[count]=[i,j]\n",
    "                    count+=1\n",
    "        return ans\n"
   ]
  },
  {
   "cell_type": "code",
   "execution_count": 3,
   "metadata": {},
   "outputs": [],
   "source": [
    "x=CheckSum([10,20,10,40,50,60,70])"
   ]
  },
  {
   "cell_type": "code",
   "execution_count": 4,
   "metadata": {},
   "outputs": [
    {
     "data": {
      "text/plain": [
       "{1: [0, 3], 2: [2, 3], 3: [3, 0], 4: [3, 2]}"
      ]
     },
     "execution_count": 4,
     "metadata": {},
     "output_type": "execute_result"
    }
   ],
   "source": [
    "x.check(50)"
   ]
  }
 ],
 "metadata": {
  "kernelspec": {
   "display_name": "Python 3",
   "language": "python",
   "name": "python3"
  },
  "language_info": {
   "codemirror_mode": {
    "name": "ipython",
    "version": 3
   },
   "file_extension": ".py",
   "mimetype": "text/x-python",
   "name": "python",
   "nbconvert_exporter": "python",
   "pygments_lexer": "ipython3",
   "version": "3.7.3"
  }
 },
 "nbformat": 4,
 "nbformat_minor": 2
}
